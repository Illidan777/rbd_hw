{
 "cells": [
  {
   "cell_type": "code",
   "execution_count": 17,
   "id": "initial_id",
   "metadata": {
    "collapsed": true,
    "ExecuteTime": {
     "end_time": "2023-10-21T11:57:06.698535977Z",
     "start_time": "2023-10-21T11:57:06.686536164Z"
    }
   },
   "outputs": [],
   "source": [
    "# імпортуємо все що нам потрібно для роботи\n",
    "import _sqlite3\n",
    "import pandas as pd\n",
    "\n",
    "connection = _sqlite3.connect('hw.db');"
   ]
  },
  {
   "cell_type": "code",
   "execution_count": 18,
   "outputs": [],
   "source": [
    "cursor = connection.cursor()\n",
    "\n",
    "# створимо метод який буде екзекьютити наші запити\n",
    "def execute_query(cursor_, connection_, query):\n",
    "    try:\n",
    "        cursor_.executescript(query)\n",
    "        connection_.commit()\n",
    "    except Exception as e:\n",
    "        print(e)\n",
    "        connection_.rollback()\n",
    "        "
   ],
   "metadata": {
    "collapsed": false,
    "ExecuteTime": {
     "end_time": "2023-10-21T11:57:09.369231813Z",
     "start_time": "2023-10-21T11:57:09.358654981Z"
    }
   },
   "id": "2dfe4e005439bec0"
  },
  {
   "cell_type": "code",
   "execution_count": 19,
   "outputs": [],
   "source": [
    "#Створимо таблиці довільними методами. Я вирішив назвати таблиці більш інтуїтивно vehicles, drivers, roads. Та зробити невелику нормалізацію, у нас в кожній таблиці зустрічається атрибут категорія, тому я вирішив винести цей атриубут в окрему таблицю та просто в кожну з таблиць подобавляти зовінішні клоючі\n",
    "\n",
    "create_all_tables_sql_query = '''\n",
    "create table categories\n",
    "(\n",
    "    id            bigserial\n",
    "        primary key,\n",
    "    category_name varchar(255)\n",
    ");\n",
    "\n",
    "create table vehicles\n",
    "(\n",
    "    id                  bigserial\n",
    "        primary key,\n",
    "    vehicle_type        varchar(255),\n",
    "    milleage            double precision,\n",
    "    max_speed           double precision,\n",
    "    passenger_count     integer,\n",
    "    vehicle_category_id bigint\n",
    "        constraint fk_vehicle_category_constraint\n",
    "            references categories\n",
    ");\n",
    "\n",
    "create table drivers\n",
    "(\n",
    "    id                 bigserial\n",
    "        primary key,\n",
    "    driver_name        varchar(255),\n",
    "    driver_category_id bigint\n",
    "        constraint fk_driver_category_constraint\n",
    "            references categories,\n",
    "    vehicle_id         bigint\n",
    "        constraint fk_vehicle_constraint\n",
    "            references vehicles\n",
    ");\n",
    "\n",
    "create table roads\n",
    "(\n",
    "    id               bigserial\n",
    "        primary key,\n",
    "    permitted_road   varchar(255),\n",
    "    road_category_id bigint\n",
    "        constraint fk_road_category_constraint\n",
    "            references categories\n",
    ");'''\n",
    "\n",
    "execute_query(cursor, connection, create_all_tables_sql_query)"
   ],
   "metadata": {
    "collapsed": false,
    "ExecuteTime": {
     "end_time": "2023-10-21T11:57:12.999783102Z",
     "start_time": "2023-10-21T11:57:12.980716121Z"
    }
   },
   "id": "bbeac628a93807fb"
  },
  {
   "cell_type": "code",
   "execution_count": 20,
   "outputs": [],
   "source": [
    "#Заповнимо наші таблиці за умовою задачі\n",
    "\n",
    "fill_tables_sql_query = '''\n",
    "insert into categories (id, category_name) values (1, 'A');\n",
    "insert into categories (id, category_name) values (2, 'B');\n",
    "insert into categories (id, category_name) values (3, 'C');\n",
    "\n",
    "insert into vehicles (id, vehicle_type, milleage, max_speed, passenger_count, vehicle_category_id) values (1, 'Мотоцикл-Аврора', 10000, 120, 2, 1);\n",
    "insert into vehicles (id, vehicle_type, milleage, max_speed, passenger_count, vehicle_category_id) values (2, 'Мопед', 5000, 90, 1, 1);\n",
    "insert into vehicles (id, vehicle_type, milleage, max_speed, passenger_count, vehicle_category_id) values (3, 'Скутер', 500, 70, 2, 1);\n",
    "insert into vehicles (id, vehicle_type, milleage, max_speed, passenger_count, vehicle_category_id) values (4, 'Авто седан Тойота', 100000, 170, 5, 2);\n",
    "insert into vehicles (id, vehicle_type, milleage, max_speed, passenger_count, vehicle_category_id) values (5, 'Авто купе БМВ', 300000, 220, 5, 2);\n",
    "insert into vehicles (id, vehicle_type, milleage, max_speed, passenger_count, vehicle_category_id) values (6, 'Авто Мазда 6 седан', 138600, 240, 5, 2);\n",
    "insert into vehicles (id, vehicle_type, milleage, max_speed, passenger_count, vehicle_category_id) values (7, 'Авто БМВ X7 джип', 200000, 300, 7, 2);\n",
    "insert into vehicles (id, vehicle_type, milleage, max_speed, passenger_count, vehicle_category_id) values (8, 'Авто Хюндай Соната купе', 30000, 90, 5, 2);\n",
    "insert into vehicles (id, vehicle_type, milleage, max_speed, passenger_count, vehicle_category_id) values (9, 'Авто смарт', 100000, 175, 2, 2);\n",
    "insert into vehicles (id, vehicle_type, milleage, max_speed, passenger_count, vehicle_category_id) values (10, 'Авто Ролс Ройс', 100, 280, 5, 2);\n",
    "insert into vehicles (id, vehicle_type, milleage, max_speed, passenger_count, vehicle_category_id) values (11, 'Авто Тойота Приус хетчбек', 10000, 200, 5, 2);\n",
    "insert into vehicles (id, vehicle_type, milleage, max_speed, passenger_count, vehicle_category_id) values (12, 'Авто Форд фокус седан', 600000, 190, 5, 2);\n",
    "insert into vehicles (id, vehicle_type, milleage, max_speed, passenger_count, vehicle_category_id) values (13, 'Авто Митсубищи Лансер 10 седан', 50000, 140, 5, 2);\n",
    "insert into vehicles (id, vehicle_type, milleage, max_speed, passenger_count, vehicle_category_id) values (14, 'Авто джили хетчбек', 400000, 168, 5, 2);\n",
    "insert into vehicles (id, vehicle_type, milleage, max_speed, passenger_count, vehicle_category_id) values (15, 'Авто Хонда Акорд седан', 1000000, 193, 5, 2);\n",
    "insert into vehicles (id, vehicle_type, milleage, max_speed, passenger_count, vehicle_category_id) values (16, 'Вантажівка ISUZU', 1000000, 120, 3, 3);\n",
    "insert into vehicles (id, vehicle_type, milleage, max_speed, passenger_count, vehicle_category_id) values (17, 'Мікроавтобус Ford Transit', 130000, 150, 8, 3);\n",
    "insert into vehicles (id, vehicle_type, milleage, max_speed, passenger_count, vehicle_category_id) values (18, 'Мікроавтобус VW T4', 120000, 180, 8, 3);\n",
    "insert into vehicles (id, vehicle_type, milleage, max_speed, passenger_count, vehicle_category_id) values (19, 'Автобус Mercedess Sprinter', 190000, 170, 24, 3);\n",
    "insert into vehicles (id, vehicle_type, milleage, max_speed, passenger_count, vehicle_category_id) values (20, 'Автобус ISUZU ', 200000, 120, 30, 3);\n",
    "\n",
    "insert into drivers (id, driver_name, driver_category_id, vehicle_id) values (3, 'Андрій', 1, 3);\n",
    "insert into drivers (id, driver_name, driver_category_id, vehicle_id) values (1, 'Василь', 1, 4); --Помилковий запис. Водій з категорією А водить транспорт категорії B\n",
    "insert into drivers (id, driver_name, driver_category_id, vehicle_id) values (2, 'Ілля', 1, 5); --Помилковий запис. Водій з категорією А водить транспорт категорії B\n",
    "insert into drivers (id, driver_name, driver_category_id, vehicle_id) values (8, 'Вадим', 2, 8);\n",
    "insert into drivers (id, driver_name, driver_category_id, vehicle_id) values (9, 'Анастасія', 2, 9);\n",
    "insert into drivers (id, driver_name, driver_category_id, vehicle_id) values (10, 'Вячеслав', 2, 10);\n",
    "insert into drivers (id, driver_name, driver_category_id, vehicle_id) values (11, 'Оксамит', 2, 11);\n",
    "insert into drivers (id, driver_name, driver_category_id, vehicle_id) values (12, 'Іван', 2, 12);\n",
    "insert into drivers (id, driver_name, driver_category_id, vehicle_id) values (13, 'Володимир', 2, 13);\n",
    "insert into drivers (id, driver_name, driver_category_id, vehicle_id) values (14, 'Олександр', 2, 14);\n",
    "insert into drivers (id, driver_name, driver_category_id, vehicle_id) values (15, 'Олексій', 2, 15);\n",
    "insert into drivers (id, driver_name, driver_category_id, vehicle_id) values (6, 'Сергій', 2, 6);\n",
    "insert into drivers (id, driver_name, driver_category_id, vehicle_id) values (7, 'Влад', 2, 7);\n",
    "insert into drivers (id, driver_name, driver_category_id, vehicle_id) values (5, 'Петро', 2, 2); --Помилковий запис. Водій з категорією B водить транспорт категорії A\n",
    "insert into drivers (id, driver_name, driver_category_id, vehicle_id) values (4, 'Аліна', 2, 1); --Помилковий запис. Водій з категорією B водить транспорт категорії A\n",
    "insert into drivers (id, driver_name, driver_category_id, vehicle_id) values (16, 'Гаврил', 3, 8); --Помилковий запис. Водій з категорією C водить транспорт категорії B\n",
    "insert into drivers (id, driver_name, driver_category_id, vehicle_id) values (19, 'Дмитро', 3, 19);\n",
    "insert into drivers (id, driver_name, driver_category_id, vehicle_id) values (17, 'Інна', 3, 9); --Помилковий запис. Водій з категорією C водить транспорт категорії B\n",
    "insert into drivers (id, driver_name, driver_category_id, vehicle_id) values (20, 'Юлія', 3, 20);\n",
    "insert into drivers (id, driver_name, driver_category_id, vehicle_id) values (18, 'Оксана', 3, 10); --Помилковий запис. Водій з категорією C водить транспорт категорії B\n",
    "\n",
    "insert into roads (id, permitted_road, road_category_id) values (1, 'М-30', 1);\n",
    "insert into roads (id, permitted_road, road_category_id) values (2, 'Р-60', 2);\n",
    "insert into roads (id, permitted_road, road_category_id) values (3, 'РО-29', 2);\n",
    "insert into roads (id, permitted_road, road_category_id) values (4, 'YI-09', 1);\n",
    "insert into roads (id, permitted_road, road_category_id) values (5, 'TR-32', 2);\n",
    "insert into roads (id, permitted_road, road_category_id) values (6, 'HLM-17', 2);\n",
    "insert into roads (id, permitted_road, road_category_id) values (7, 'NV-34', 1);\n",
    "insert into roads (id, permitted_road, road_category_id) values (8, 'FA-86', 1);\n",
    "insert into roads (id, permitted_road, road_category_id) values (9, 'JNB-546', 3);\n",
    "insert into roads (id, permitted_road, road_category_id) values (10, 'DJZW-8718', 3);\n",
    "\n",
    "'''\n",
    "\n",
    "execute_query(cursor, connection, fill_tables_sql_query)"
   ],
   "metadata": {
    "collapsed": false,
    "ExecuteTime": {
     "end_time": "2023-10-21T11:57:18.039435507Z",
     "start_time": "2023-10-21T11:57:17.865338295Z"
    }
   },
   "id": "50c4d71da8ee6146"
  },
  {
   "cell_type": "code",
   "execution_count": 21,
   "outputs": [
    {
     "data": {
      "text/plain": "    driver_id  vehicle_id driver_name                    vehicle_type  \\\n0           3           3      Андрій                          Скутер   \n1           8           8       Вадим         Авто Хюндай Соната купе   \n2           9           9   Анастасія                      Авто смарт   \n3          10          10    Вячеслав                  Авто Ролс Ройс   \n4          11          11     Оксамит       Авто Тойота Приус хетчбек   \n5          12          12        Іван           Авто Форд фокус седан   \n6          13          13   Володимир  Авто Митсубищи Лансер 10 седан   \n7          14          14   Олександр              Авто джили хетчбек   \n8          15          15     Олексій          Авто Хонда Акорд седан   \n9           6           6      Сергій              Авто Мазда 6 седан   \n10          7           7        Влад                Авто БМВ X7 джип   \n11         19          19      Дмитро      Автобус Mercedess Sprinter   \n12         20          20        Юлія                  Автобус ISUZU    \n\n   vehicle_category driver_category  \n0                 A               A  \n1                 B               B  \n2                 B               B  \n3                 B               B  \n4                 B               B  \n5                 B               B  \n6                 B               B  \n7                 B               B  \n8                 B               B  \n9                 B               B  \n10                B               B  \n11                C               C  \n12                C               C  ",
      "text/html": "<div>\n<style scoped>\n    .dataframe tbody tr th:only-of-type {\n        vertical-align: middle;\n    }\n\n    .dataframe tbody tr th {\n        vertical-align: top;\n    }\n\n    .dataframe thead th {\n        text-align: right;\n    }\n</style>\n<table border=\"1\" class=\"dataframe\">\n  <thead>\n    <tr style=\"text-align: right;\">\n      <th></th>\n      <th>driver_id</th>\n      <th>vehicle_id</th>\n      <th>driver_name</th>\n      <th>vehicle_type</th>\n      <th>vehicle_category</th>\n      <th>driver_category</th>\n    </tr>\n  </thead>\n  <tbody>\n    <tr>\n      <th>0</th>\n      <td>3</td>\n      <td>3</td>\n      <td>Андрій</td>\n      <td>Скутер</td>\n      <td>A</td>\n      <td>A</td>\n    </tr>\n    <tr>\n      <th>1</th>\n      <td>8</td>\n      <td>8</td>\n      <td>Вадим</td>\n      <td>Авто Хюндай Соната купе</td>\n      <td>B</td>\n      <td>B</td>\n    </tr>\n    <tr>\n      <th>2</th>\n      <td>9</td>\n      <td>9</td>\n      <td>Анастасія</td>\n      <td>Авто смарт</td>\n      <td>B</td>\n      <td>B</td>\n    </tr>\n    <tr>\n      <th>3</th>\n      <td>10</td>\n      <td>10</td>\n      <td>Вячеслав</td>\n      <td>Авто Ролс Ройс</td>\n      <td>B</td>\n      <td>B</td>\n    </tr>\n    <tr>\n      <th>4</th>\n      <td>11</td>\n      <td>11</td>\n      <td>Оксамит</td>\n      <td>Авто Тойота Приус хетчбек</td>\n      <td>B</td>\n      <td>B</td>\n    </tr>\n    <tr>\n      <th>5</th>\n      <td>12</td>\n      <td>12</td>\n      <td>Іван</td>\n      <td>Авто Форд фокус седан</td>\n      <td>B</td>\n      <td>B</td>\n    </tr>\n    <tr>\n      <th>6</th>\n      <td>13</td>\n      <td>13</td>\n      <td>Володимир</td>\n      <td>Авто Митсубищи Лансер 10 седан</td>\n      <td>B</td>\n      <td>B</td>\n    </tr>\n    <tr>\n      <th>7</th>\n      <td>14</td>\n      <td>14</td>\n      <td>Олександр</td>\n      <td>Авто джили хетчбек</td>\n      <td>B</td>\n      <td>B</td>\n    </tr>\n    <tr>\n      <th>8</th>\n      <td>15</td>\n      <td>15</td>\n      <td>Олексій</td>\n      <td>Авто Хонда Акорд седан</td>\n      <td>B</td>\n      <td>B</td>\n    </tr>\n    <tr>\n      <th>9</th>\n      <td>6</td>\n      <td>6</td>\n      <td>Сергій</td>\n      <td>Авто Мазда 6 седан</td>\n      <td>B</td>\n      <td>B</td>\n    </tr>\n    <tr>\n      <th>10</th>\n      <td>7</td>\n      <td>7</td>\n      <td>Влад</td>\n      <td>Авто БМВ X7 джип</td>\n      <td>B</td>\n      <td>B</td>\n    </tr>\n    <tr>\n      <th>11</th>\n      <td>19</td>\n      <td>19</td>\n      <td>Дмитро</td>\n      <td>Автобус Mercedess Sprinter</td>\n      <td>C</td>\n      <td>C</td>\n    </tr>\n    <tr>\n      <th>12</th>\n      <td>20</td>\n      <td>20</td>\n      <td>Юлія</td>\n      <td>Автобус ISUZU</td>\n      <td>C</td>\n      <td>C</td>\n    </tr>\n  </tbody>\n</table>\n</div>"
     },
     "execution_count": 21,
     "metadata": {},
     "output_type": "execute_result"
    }
   ],
   "source": [
    "successfully_driver_vehicle_matching_df = pd.read_sql_query(\n",
    "    '''select d.id             as driver_id,\n",
    "       v.id             as vehicle_id,\n",
    "       d.driver_name,\n",
    "       v.vehicle_type,\n",
    "       c.category_name  as vehicle_category,\n",
    "       c2.category_name as driver_category\n",
    "from drivers d\n",
    "         LEFT JOIN vehicles v on v.id = d.vehicle_id\n",
    "         LEFT JOIN categories c on c.id = v.vehicle_category_id\n",
    "         LEFT JOIN categories c2 on c2.id = d.driver_category_id\n",
    "                   \n",
    "where d.driver_category_id = v.vehicle_category_id''',\n",
    "    connection)\n",
    "successfully_driver_vehicle_matching_df"
   ],
   "metadata": {
    "collapsed": false,
    "ExecuteTime": {
     "end_time": "2023-10-21T11:57:37.706968259Z",
     "start_time": "2023-10-21T11:57:37.665719905Z"
    }
   },
   "id": "e136da8b96aa6c3a"
  },
  {
   "cell_type": "code",
   "execution_count": 22,
   "outputs": [],
   "source": [
    "successfully_driver_vehicle_matching_df.to_excel('success_driver_matching.xlsx')"
   ],
   "metadata": {
    "collapsed": false,
    "ExecuteTime": {
     "end_time": "2023-10-21T11:57:53.522308590Z",
     "start_time": "2023-10-21T11:57:53.503377994Z"
    }
   },
   "id": "e0c8564271c79ed2"
  },
  {
   "cell_type": "code",
   "execution_count": 24,
   "outputs": [
    {
     "data": {
      "text/plain": "   id driver_name  driver_category_id  vehicle_id\n0  19      Дмитро                   3          19\n1  20        Юлія                   3          20",
      "text/html": "<div>\n<style scoped>\n    .dataframe tbody tr th:only-of-type {\n        vertical-align: middle;\n    }\n\n    .dataframe tbody tr th {\n        vertical-align: top;\n    }\n\n    .dataframe thead th {\n        text-align: right;\n    }\n</style>\n<table border=\"1\" class=\"dataframe\">\n  <thead>\n    <tr style=\"text-align: right;\">\n      <th></th>\n      <th>id</th>\n      <th>driver_name</th>\n      <th>driver_category_id</th>\n      <th>vehicle_id</th>\n    </tr>\n  </thead>\n  <tbody>\n    <tr>\n      <th>0</th>\n      <td>19</td>\n      <td>Дмитро</td>\n      <td>3</td>\n      <td>19</td>\n    </tr>\n    <tr>\n      <th>1</th>\n      <td>20</td>\n      <td>Юлія</td>\n      <td>3</td>\n      <td>20</td>\n    </tr>\n  </tbody>\n</table>\n</div>"
     },
     "execution_count": 24,
     "metadata": {},
     "output_type": "execute_result"
    }
   ],
   "source": [
    "two_types_road_drivers = pd.read_sql_query(\n",
    "    '''SELECT d.*\n",
    "FROM drivers d\n",
    "LEFT JOIN vehicles v ON v.id = d.vehicle_id\n",
    "LEFT JOIN categories c1 ON c1.id = v.vehicle_category_id\n",
    "LEFT JOIN categories c2 ON c2.id = d.driver_category_id\n",
    "WHERE d.driver_category_id = v.vehicle_category_id\n",
    "  AND d.driver_category_id IN (\n",
    "    SELECT r.road_category_id\n",
    "    FROM roads r\n",
    "    GROUP BY r.road_category_id\n",
    "    HAVING COUNT(*) = 2\n",
    "  );''',\n",
    "    connection)\n",
    "two_types_road_drivers"
   ],
   "metadata": {
    "collapsed": false,
    "ExecuteTime": {
     "end_time": "2023-10-21T11:58:19.300395251Z",
     "start_time": "2023-10-21T11:58:19.289653764Z"
    }
   },
   "id": "2714e938a071f68b"
  },
  {
   "cell_type": "code",
   "execution_count": 25,
   "outputs": [],
   "source": [
    "two_types_road_drivers.to_excel('two_types_road_drivers.xlsx')"
   ],
   "metadata": {
    "collapsed": false,
    "ExecuteTime": {
     "end_time": "2023-10-21T11:58:28.242949940Z",
     "start_time": "2023-10-21T11:58:28.220434708Z"
    }
   },
   "id": "8ed89c020c6cf7dd"
  },
  {
   "cell_type": "code",
   "execution_count": 27,
   "outputs": [
    {
     "data": {
      "text/plain": "  category_name  avg(v.max_speed)\n0             A         93.333333\n1             B        197.166667\n2             C        148.000000",
      "text/html": "<div>\n<style scoped>\n    .dataframe tbody tr th:only-of-type {\n        vertical-align: middle;\n    }\n\n    .dataframe tbody tr th {\n        vertical-align: top;\n    }\n\n    .dataframe thead th {\n        text-align: right;\n    }\n</style>\n<table border=\"1\" class=\"dataframe\">\n  <thead>\n    <tr style=\"text-align: right;\">\n      <th></th>\n      <th>category_name</th>\n      <th>avg(v.max_speed)</th>\n    </tr>\n  </thead>\n  <tbody>\n    <tr>\n      <th>0</th>\n      <td>A</td>\n      <td>93.333333</td>\n    </tr>\n    <tr>\n      <th>1</th>\n      <td>B</td>\n      <td>197.166667</td>\n    </tr>\n    <tr>\n      <th>2</th>\n      <td>C</td>\n      <td>148.000000</td>\n    </tr>\n  </tbody>\n</table>\n</div>"
     },
     "execution_count": 27,
     "metadata": {},
     "output_type": "execute_result"
    }
   ],
   "source": [
    "speed_average_by_category = pd.read_sql_query('''\n",
    "select c.category_name, avg(v.max_speed)\n",
    "from vehicles v\n",
    "         left outer join categories c on c.id = v.vehicle_category_id\n",
    "group by v.vehicle_category_id, category_name\n",
    "ORDER BY category_name\n",
    "''', connection)\n",
    "speed_average_by_category"
   ],
   "metadata": {
    "collapsed": false,
    "ExecuteTime": {
     "end_time": "2023-10-21T12:04:33.418924074Z",
     "start_time": "2023-10-21T12:04:33.410323445Z"
    }
   },
   "id": "5f8c2a7c33d10b39"
  },
  {
   "cell_type": "code",
   "execution_count": 28,
   "outputs": [
    {
     "data": {
      "text/plain": "  category_name  max(v.milleage)\n0             A          10000.0\n1             B        1000000.0\n2             C        1000000.0",
      "text/html": "<div>\n<style scoped>\n    .dataframe tbody tr th:only-of-type {\n        vertical-align: middle;\n    }\n\n    .dataframe tbody tr th {\n        vertical-align: top;\n    }\n\n    .dataframe thead th {\n        text-align: right;\n    }\n</style>\n<table border=\"1\" class=\"dataframe\">\n  <thead>\n    <tr style=\"text-align: right;\">\n      <th></th>\n      <th>category_name</th>\n      <th>max(v.milleage)</th>\n    </tr>\n  </thead>\n  <tbody>\n    <tr>\n      <th>0</th>\n      <td>A</td>\n      <td>10000.0</td>\n    </tr>\n    <tr>\n      <th>1</th>\n      <td>B</td>\n      <td>1000000.0</td>\n    </tr>\n    <tr>\n      <th>2</th>\n      <td>C</td>\n      <td>1000000.0</td>\n    </tr>\n  </tbody>\n</table>\n</div>"
     },
     "execution_count": 28,
     "metadata": {},
     "output_type": "execute_result"
    }
   ],
   "source": [
    "max_milleage_by_category = pd.read_sql_query('''\n",
    "select c.category_name, max(v.milleage)\n",
    "from vehicles v\n",
    "         left outer join categories c on c.id = v.vehicle_category_id\n",
    "group by v.vehicle_category_id, category_name\n",
    "ORDER BY category_name\n",
    "''', connection)\n",
    "max_milleage_by_category"
   ],
   "metadata": {
    "collapsed": false,
    "ExecuteTime": {
     "end_time": "2023-10-21T12:06:32.769615424Z",
     "start_time": "2023-10-21T12:06:32.739941629Z"
    }
   },
   "id": "e474a3a5164051bc"
  },
  {
   "cell_type": "code",
   "execution_count": 29,
   "outputs": [
    {
     "data": {
      "text/plain": "   max(v.max_speed)\n0             170.0",
      "text/html": "<div>\n<style scoped>\n    .dataframe tbody tr th:only-of-type {\n        vertical-align: middle;\n    }\n\n    .dataframe tbody tr th {\n        vertical-align: top;\n    }\n\n    .dataframe thead th {\n        text-align: right;\n    }\n</style>\n<table border=\"1\" class=\"dataframe\">\n  <thead>\n    <tr style=\"text-align: right;\">\n      <th></th>\n      <th>max(v.max_speed)</th>\n    </tr>\n  </thead>\n  <tbody>\n    <tr>\n      <th>0</th>\n      <td>170.0</td>\n    </tr>\n  </tbody>\n</table>\n</div>"
     },
     "execution_count": 29,
     "metadata": {},
     "output_type": "execute_result"
    }
   ],
   "source": [
    "max_speed_by_passenger_quantity = pd.read_sql_query('''\n",
    "select max(v.max_speed)\n",
    "from vehicles v\n",
    "         left outer join categories c on c.id = v.vehicle_category_id where v.passenger_count > 8\n",
    "''', connection)\n",
    "max_speed_by_passenger_quantity"
   ],
   "metadata": {
    "collapsed": false,
    "ExecuteTime": {
     "end_time": "2023-10-21T12:08:37.038745104Z",
     "start_time": "2023-10-21T12:08:36.997787363Z"
    }
   },
   "id": "4448ccd7e5c7461b"
  },
  {
   "cell_type": "code",
   "execution_count": null,
   "outputs": [],
   "source": [],
   "metadata": {
    "collapsed": false
   },
   "id": "3bcd5215f5d5d58e"
  }
 ],
 "metadata": {
  "kernelspec": {
   "display_name": "Python 3",
   "language": "python",
   "name": "python3"
  },
  "language_info": {
   "codemirror_mode": {
    "name": "ipython",
    "version": 2
   },
   "file_extension": ".py",
   "mimetype": "text/x-python",
   "name": "python",
   "nbconvert_exporter": "python",
   "pygments_lexer": "ipython2",
   "version": "2.7.6"
  }
 },
 "nbformat": 4,
 "nbformat_minor": 5
}
