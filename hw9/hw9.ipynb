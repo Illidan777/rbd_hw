{
 "cells": [
  {
   "cell_type": "code",
   "execution_count": 6,
   "id": "initial_id",
   "metadata": {
    "collapsed": true,
    "ExecuteTime": {
     "end_time": "2023-11-10T17:17:49.064108734Z",
     "start_time": "2023-11-10T17:17:49.039207921Z"
    }
   },
   "outputs": [
    {
     "data": {
      "text/plain": "      Unnamed: 0  battery_power bluetooth  weight  memory  n_cores   ram  \\\n0              0            842        NO     188       7      2.0  2549   \n1              1           1021       YES     136      53      3.0  2631   \n2              2            563       YES     145      41      5.0  2603   \n3              3            615       YES     131      10      6.0  2769   \n4              4           1821       YES     141      44      2.0  1411   \n...          ...            ...       ...     ...     ...      ...   ...   \n4015        4015            747        NO     131      10      2.0   103   \n4016        4016            766        NO     104      12      3.0   355   \n4017        4017            839        NO     112       9      1.0   408   \n4018        4018            809        NO     123       7      2.0   112   \n4019        4019            799        NO     125      10      3.0   925   \n\n     dual_sim  wifi  pixel_height  pixel_width  price_range  \n0           0     1            20          756          1.0  \n1           1     0           905         1988          2.0  \n2           1     0          1263         1716          2.0  \n3           0     0          1216         1786          2.0  \n4           0     0          1208         1212          1.0  \n...       ...   ...           ...          ...          ...  \n4015        1     0           767         1024          1.0  \n4016        0     0           428          456          1.0  \n4017        1     1          1088          255          1.0  \n4018        1     0           365         1173          1.0  \n4019        1     1          1135         1196          1.0  \n\n[4020 rows x 12 columns]",
      "text/html": "<div>\n<style scoped>\n    .dataframe tbody tr th:only-of-type {\n        vertical-align: middle;\n    }\n\n    .dataframe tbody tr th {\n        vertical-align: top;\n    }\n\n    .dataframe thead th {\n        text-align: right;\n    }\n</style>\n<table border=\"1\" class=\"dataframe\">\n  <thead>\n    <tr style=\"text-align: right;\">\n      <th></th>\n      <th>Unnamed: 0</th>\n      <th>battery_power</th>\n      <th>bluetooth</th>\n      <th>weight</th>\n      <th>memory</th>\n      <th>n_cores</th>\n      <th>ram</th>\n      <th>dual_sim</th>\n      <th>wifi</th>\n      <th>pixel_height</th>\n      <th>pixel_width</th>\n      <th>price_range</th>\n    </tr>\n  </thead>\n  <tbody>\n    <tr>\n      <th>0</th>\n      <td>0</td>\n      <td>842</td>\n      <td>NO</td>\n      <td>188</td>\n      <td>7</td>\n      <td>2.0</td>\n      <td>2549</td>\n      <td>0</td>\n      <td>1</td>\n      <td>20</td>\n      <td>756</td>\n      <td>1.0</td>\n    </tr>\n    <tr>\n      <th>1</th>\n      <td>1</td>\n      <td>1021</td>\n      <td>YES</td>\n      <td>136</td>\n      <td>53</td>\n      <td>3.0</td>\n      <td>2631</td>\n      <td>1</td>\n      <td>0</td>\n      <td>905</td>\n      <td>1988</td>\n      <td>2.0</td>\n    </tr>\n    <tr>\n      <th>2</th>\n      <td>2</td>\n      <td>563</td>\n      <td>YES</td>\n      <td>145</td>\n      <td>41</td>\n      <td>5.0</td>\n      <td>2603</td>\n      <td>1</td>\n      <td>0</td>\n      <td>1263</td>\n      <td>1716</td>\n      <td>2.0</td>\n    </tr>\n    <tr>\n      <th>3</th>\n      <td>3</td>\n      <td>615</td>\n      <td>YES</td>\n      <td>131</td>\n      <td>10</td>\n      <td>6.0</td>\n      <td>2769</td>\n      <td>0</td>\n      <td>0</td>\n      <td>1216</td>\n      <td>1786</td>\n      <td>2.0</td>\n    </tr>\n    <tr>\n      <th>4</th>\n      <td>4</td>\n      <td>1821</td>\n      <td>YES</td>\n      <td>141</td>\n      <td>44</td>\n      <td>2.0</td>\n      <td>1411</td>\n      <td>0</td>\n      <td>0</td>\n      <td>1208</td>\n      <td>1212</td>\n      <td>1.0</td>\n    </tr>\n    <tr>\n      <th>...</th>\n      <td>...</td>\n      <td>...</td>\n      <td>...</td>\n      <td>...</td>\n      <td>...</td>\n      <td>...</td>\n      <td>...</td>\n      <td>...</td>\n      <td>...</td>\n      <td>...</td>\n      <td>...</td>\n      <td>...</td>\n    </tr>\n    <tr>\n      <th>4015</th>\n      <td>4015</td>\n      <td>747</td>\n      <td>NO</td>\n      <td>131</td>\n      <td>10</td>\n      <td>2.0</td>\n      <td>103</td>\n      <td>1</td>\n      <td>0</td>\n      <td>767</td>\n      <td>1024</td>\n      <td>1.0</td>\n    </tr>\n    <tr>\n      <th>4016</th>\n      <td>4016</td>\n      <td>766</td>\n      <td>NO</td>\n      <td>104</td>\n      <td>12</td>\n      <td>3.0</td>\n      <td>355</td>\n      <td>0</td>\n      <td>0</td>\n      <td>428</td>\n      <td>456</td>\n      <td>1.0</td>\n    </tr>\n    <tr>\n      <th>4017</th>\n      <td>4017</td>\n      <td>839</td>\n      <td>NO</td>\n      <td>112</td>\n      <td>9</td>\n      <td>1.0</td>\n      <td>408</td>\n      <td>1</td>\n      <td>1</td>\n      <td>1088</td>\n      <td>255</td>\n      <td>1.0</td>\n    </tr>\n    <tr>\n      <th>4018</th>\n      <td>4018</td>\n      <td>809</td>\n      <td>NO</td>\n      <td>123</td>\n      <td>7</td>\n      <td>2.0</td>\n      <td>112</td>\n      <td>1</td>\n      <td>0</td>\n      <td>365</td>\n      <td>1173</td>\n      <td>1.0</td>\n    </tr>\n    <tr>\n      <th>4019</th>\n      <td>4019</td>\n      <td>799</td>\n      <td>NO</td>\n      <td>125</td>\n      <td>10</td>\n      <td>3.0</td>\n      <td>925</td>\n      <td>1</td>\n      <td>1</td>\n      <td>1135</td>\n      <td>1196</td>\n      <td>1.0</td>\n    </tr>\n  </tbody>\n</table>\n<p>4020 rows × 12 columns</p>\n</div>"
     },
     "execution_count": 6,
     "metadata": {},
     "output_type": "execute_result"
    }
   ],
   "source": [
    "\n",
    "import pandas as pd\n",
    "\n",
    "# я скопіював частину коду с препроцесингом данних з попередньої домашки. Тому можно проскролити нижче до етапу\n",
    "# побудови нейромережі\n",
    "df = pd.read_csv('/home/ilia/PycharmProjects/rbd_hw/my_phone.csv')\n",
    "df\n"
   ]
  },
  {
   "cell_type": "code",
   "execution_count": 7,
   "outputs": [
    {
     "data": {
      "text/plain": "       Unnamed: 0  battery_power       weight       memory      n_cores  \\\ncount  4020.00000    4020.000000  4020.000000  4020.000000  4020.000000   \nmean   2009.50000    1127.392289   139.426617    27.362438     3.963930   \nstd    1160.61837     425.790696    33.675572    18.112879     2.220142   \nmin       0.00000     500.000000    80.000000     2.000000     1.000000   \n25%    1004.75000     780.750000   111.000000    12.000000     2.000000   \n50%    2009.50000     983.000000   139.000000    22.000000     4.000000   \n75%    3014.25000    1489.000000   168.000000    43.000000     6.000000   \nmax    4019.00000    1999.000000   200.000000    64.000000     8.000000   \n\n               ram         wifi  pixel_height  pixel_width  price_range  \ncount  4020.000000  4020.000000   4020.000000  4020.000000  3020.000000  \nmean   1715.922637     0.501990    672.843532  1116.360945     1.331126  \nstd    1184.300498     0.500058    404.404351   459.694423     0.940227  \nmin       6.000000     0.000000      0.000000   240.000000     0.000000  \n25%     652.000000     0.000000    364.750000   739.000000     1.000000  \n50%    1489.500000     1.000000    635.000000  1065.500000     1.000000  \n75%    2746.000000     1.000000    951.000000  1492.250000     2.000000  \nmax    3998.000000     1.000000   1960.000000  1998.000000     3.000000  ",
      "text/html": "<div>\n<style scoped>\n    .dataframe tbody tr th:only-of-type {\n        vertical-align: middle;\n    }\n\n    .dataframe tbody tr th {\n        vertical-align: top;\n    }\n\n    .dataframe thead th {\n        text-align: right;\n    }\n</style>\n<table border=\"1\" class=\"dataframe\">\n  <thead>\n    <tr style=\"text-align: right;\">\n      <th></th>\n      <th>Unnamed: 0</th>\n      <th>battery_power</th>\n      <th>weight</th>\n      <th>memory</th>\n      <th>n_cores</th>\n      <th>ram</th>\n      <th>wifi</th>\n      <th>pixel_height</th>\n      <th>pixel_width</th>\n      <th>price_range</th>\n    </tr>\n  </thead>\n  <tbody>\n    <tr>\n      <th>count</th>\n      <td>4020.00000</td>\n      <td>4020.000000</td>\n      <td>4020.000000</td>\n      <td>4020.000000</td>\n      <td>4020.000000</td>\n      <td>4020.000000</td>\n      <td>4020.000000</td>\n      <td>4020.000000</td>\n      <td>4020.000000</td>\n      <td>3020.000000</td>\n    </tr>\n    <tr>\n      <th>mean</th>\n      <td>2009.50000</td>\n      <td>1127.392289</td>\n      <td>139.426617</td>\n      <td>27.362438</td>\n      <td>3.963930</td>\n      <td>1715.922637</td>\n      <td>0.501990</td>\n      <td>672.843532</td>\n      <td>1116.360945</td>\n      <td>1.331126</td>\n    </tr>\n    <tr>\n      <th>std</th>\n      <td>1160.61837</td>\n      <td>425.790696</td>\n      <td>33.675572</td>\n      <td>18.112879</td>\n      <td>2.220142</td>\n      <td>1184.300498</td>\n      <td>0.500058</td>\n      <td>404.404351</td>\n      <td>459.694423</td>\n      <td>0.940227</td>\n    </tr>\n    <tr>\n      <th>min</th>\n      <td>0.00000</td>\n      <td>500.000000</td>\n      <td>80.000000</td>\n      <td>2.000000</td>\n      <td>1.000000</td>\n      <td>6.000000</td>\n      <td>0.000000</td>\n      <td>0.000000</td>\n      <td>240.000000</td>\n      <td>0.000000</td>\n    </tr>\n    <tr>\n      <th>25%</th>\n      <td>1004.75000</td>\n      <td>780.750000</td>\n      <td>111.000000</td>\n      <td>12.000000</td>\n      <td>2.000000</td>\n      <td>652.000000</td>\n      <td>0.000000</td>\n      <td>364.750000</td>\n      <td>739.000000</td>\n      <td>1.000000</td>\n    </tr>\n    <tr>\n      <th>50%</th>\n      <td>2009.50000</td>\n      <td>983.000000</td>\n      <td>139.000000</td>\n      <td>22.000000</td>\n      <td>4.000000</td>\n      <td>1489.500000</td>\n      <td>1.000000</td>\n      <td>635.000000</td>\n      <td>1065.500000</td>\n      <td>1.000000</td>\n    </tr>\n    <tr>\n      <th>75%</th>\n      <td>3014.25000</td>\n      <td>1489.000000</td>\n      <td>168.000000</td>\n      <td>43.000000</td>\n      <td>6.000000</td>\n      <td>2746.000000</td>\n      <td>1.000000</td>\n      <td>951.000000</td>\n      <td>1492.250000</td>\n      <td>2.000000</td>\n    </tr>\n    <tr>\n      <th>max</th>\n      <td>4019.00000</td>\n      <td>1999.000000</td>\n      <td>200.000000</td>\n      <td>64.000000</td>\n      <td>8.000000</td>\n      <td>3998.000000</td>\n      <td>1.000000</td>\n      <td>1960.000000</td>\n      <td>1998.000000</td>\n      <td>3.000000</td>\n    </tr>\n  </tbody>\n</table>\n</div>"
     },
     "execution_count": 7,
     "metadata": {},
     "output_type": "execute_result"
    }
   ],
   "source": [
    "df.describe()"
   ],
   "metadata": {
    "collapsed": false,
    "ExecuteTime": {
     "end_time": "2023-11-10T17:17:50.049160991Z",
     "start_time": "2023-11-10T17:17:50.023671808Z"
    }
   },
   "id": "465e97565ca01c3b"
  },
  {
   "cell_type": "code",
   "execution_count": 8,
   "outputs": [
    {
     "data": {
      "text/plain": "Unnamed: 0       0.0\nbattery_power    0.0\nbluetooth        0.0\nweight           0.0\nmemory           0.0\nn_cores          0.0\nram              0.0\ndual_sim         0.0\nwifi             0.0\npixel_height     0.0\npixel_width      0.0\nprice_range      0.0\ndtype: float64"
     },
     "execution_count": 8,
     "metadata": {},
     "output_type": "execute_result"
    }
   ],
   "source": [
    "# Колнка blutues  текстова, і ми в ній бачимо значення так або ні і це можна замінити на 0 або 1, але для початку\n",
    "# впевнетись що в ній нема нічого окрім цих варіантів і нема пропусків.\n",
    "\n",
    "df[df['bluetooth'].isna()].sum()  # перевіряємо що нема пропусків.\n"
   ],
   "metadata": {
    "collapsed": false,
    "ExecuteTime": {
     "end_time": "2023-11-10T17:17:50.807184232Z",
     "start_time": "2023-11-10T17:17:50.802504965Z"
    }
   },
   "id": "1279ddb9b371bf73"
  },
  {
   "cell_type": "code",
   "execution_count": 9,
   "outputs": [
    {
     "data": {
      "text/plain": "array(['NO', 'YES'], dtype=object)"
     },
     "execution_count": 9,
     "metadata": {},
     "output_type": "execute_result"
    }
   ],
   "source": [
    "import numpy as np\n",
    "\n",
    "np.unique(df['bluetooth'])  #перевіряємо що маємо тільки два унікальних значення, тепер можемо замінити Yes - 1, No - 0"
   ],
   "metadata": {
    "collapsed": false,
    "ExecuteTime": {
     "end_time": "2023-11-10T17:17:51.607837016Z",
     "start_time": "2023-11-10T17:17:51.603155174Z"
    }
   },
   "id": "ee9eee31444bc228"
  },
  {
   "cell_type": "code",
   "execution_count": 10,
   "outputs": [
    {
     "data": {
      "text/plain": "array([0, 1], dtype=object)"
     },
     "execution_count": 10,
     "metadata": {},
     "output_type": "execute_result"
    }
   ],
   "source": [
    "df.loc[df[df['bluetooth'] == 'YES'].index, 'bluetooth'] = 1\n",
    "df.loc[df[df['bluetooth'] == 'NO'].index, 'bluetooth'] = 0\n",
    "np.unique(df['bluetooth'])  #перевіряємо що маємо тільки два унікальних значення 1 and 0"
   ],
   "metadata": {
    "collapsed": false,
    "ExecuteTime": {
     "end_time": "2023-11-10T17:17:52.547705611Z",
     "start_time": "2023-11-10T17:17:52.515645159Z"
    }
   },
   "id": "d9cb96067b40a38e"
  },
  {
   "cell_type": "code",
   "execution_count": 11,
   "outputs": [
    {
     "data": {
      "text/plain": "       battery_power       weight       memory      n_cores          ram  \\\ncount    4020.000000  4020.000000  4020.000000  4020.000000  4020.000000   \nmean     1127.392289   139.426617    27.362438     3.963930  1715.922637   \nstd       425.790696    33.675572    18.112879     2.220142  1184.300498   \nmin       500.000000    80.000000     2.000000     1.000000     6.000000   \n25%       780.750000   111.000000    12.000000     2.000000   652.000000   \n50%       983.000000   139.000000    22.000000     4.000000  1489.500000   \n75%      1489.000000   168.000000    43.000000     6.000000  2746.000000   \nmax      1999.000000   200.000000    64.000000     8.000000  3998.000000   \n\n              wifi  pixel_height  pixel_width  price_range  \ncount  4020.000000   4020.000000  4020.000000  3020.000000  \nmean      0.501990    672.843532  1116.360945     1.331126  \nstd       0.500058    404.404351   459.694423     0.940227  \nmin       0.000000      0.000000   240.000000     0.000000  \n25%       0.000000    364.750000   739.000000     1.000000  \n50%       1.000000    635.000000  1065.500000     1.000000  \n75%       1.000000    951.000000  1492.250000     2.000000  \nmax       1.000000   1960.000000  1998.000000     3.000000  ",
      "text/html": "<div>\n<style scoped>\n    .dataframe tbody tr th:only-of-type {\n        vertical-align: middle;\n    }\n\n    .dataframe tbody tr th {\n        vertical-align: top;\n    }\n\n    .dataframe thead th {\n        text-align: right;\n    }\n</style>\n<table border=\"1\" class=\"dataframe\">\n  <thead>\n    <tr style=\"text-align: right;\">\n      <th></th>\n      <th>battery_power</th>\n      <th>weight</th>\n      <th>memory</th>\n      <th>n_cores</th>\n      <th>ram</th>\n      <th>wifi</th>\n      <th>pixel_height</th>\n      <th>pixel_width</th>\n      <th>price_range</th>\n    </tr>\n  </thead>\n  <tbody>\n    <tr>\n      <th>count</th>\n      <td>4020.000000</td>\n      <td>4020.000000</td>\n      <td>4020.000000</td>\n      <td>4020.000000</td>\n      <td>4020.000000</td>\n      <td>4020.000000</td>\n      <td>4020.000000</td>\n      <td>4020.000000</td>\n      <td>3020.000000</td>\n    </tr>\n    <tr>\n      <th>mean</th>\n      <td>1127.392289</td>\n      <td>139.426617</td>\n      <td>27.362438</td>\n      <td>3.963930</td>\n      <td>1715.922637</td>\n      <td>0.501990</td>\n      <td>672.843532</td>\n      <td>1116.360945</td>\n      <td>1.331126</td>\n    </tr>\n    <tr>\n      <th>std</th>\n      <td>425.790696</td>\n      <td>33.675572</td>\n      <td>18.112879</td>\n      <td>2.220142</td>\n      <td>1184.300498</td>\n      <td>0.500058</td>\n      <td>404.404351</td>\n      <td>459.694423</td>\n      <td>0.940227</td>\n    </tr>\n    <tr>\n      <th>min</th>\n      <td>500.000000</td>\n      <td>80.000000</td>\n      <td>2.000000</td>\n      <td>1.000000</td>\n      <td>6.000000</td>\n      <td>0.000000</td>\n      <td>0.000000</td>\n      <td>240.000000</td>\n      <td>0.000000</td>\n    </tr>\n    <tr>\n      <th>25%</th>\n      <td>780.750000</td>\n      <td>111.000000</td>\n      <td>12.000000</td>\n      <td>2.000000</td>\n      <td>652.000000</td>\n      <td>0.000000</td>\n      <td>364.750000</td>\n      <td>739.000000</td>\n      <td>1.000000</td>\n    </tr>\n    <tr>\n      <th>50%</th>\n      <td>983.000000</td>\n      <td>139.000000</td>\n      <td>22.000000</td>\n      <td>4.000000</td>\n      <td>1489.500000</td>\n      <td>1.000000</td>\n      <td>635.000000</td>\n      <td>1065.500000</td>\n      <td>1.000000</td>\n    </tr>\n    <tr>\n      <th>75%</th>\n      <td>1489.000000</td>\n      <td>168.000000</td>\n      <td>43.000000</td>\n      <td>6.000000</td>\n      <td>2746.000000</td>\n      <td>1.000000</td>\n      <td>951.000000</td>\n      <td>1492.250000</td>\n      <td>2.000000</td>\n    </tr>\n    <tr>\n      <th>max</th>\n      <td>1999.000000</td>\n      <td>200.000000</td>\n      <td>64.000000</td>\n      <td>8.000000</td>\n      <td>3998.000000</td>\n      <td>1.000000</td>\n      <td>1960.000000</td>\n      <td>1998.000000</td>\n      <td>3.000000</td>\n    </tr>\n  </tbody>\n</table>\n</div>"
     },
     "execution_count": 11,
     "metadata": {},
     "output_type": "execute_result"
    }
   ],
   "source": [
    "#Також бачу колонку без назви, яка повністю співпадає з індексацією пандаса, тому не несе для нас жодної цінності, її можна викинути.\n",
    "df = df.loc[:, ~df.columns.str.contains('^Unnamed')]\n",
    "df.describe()"
   ],
   "metadata": {
    "collapsed": false,
    "ExecuteTime": {
     "end_time": "2023-11-10T17:17:53.352573461Z",
     "start_time": "2023-11-10T17:17:53.329900132Z"
    }
   },
   "id": "27a1a0ba02274023"
  },
  {
   "cell_type": "code",
   "execution_count": 12,
   "outputs": [
    {
     "data": {
      "text/plain": "array([0, 1])"
     },
     "execution_count": 12,
     "metadata": {},
     "output_type": "execute_result"
    }
   ],
   "source": [
    "# Також хотілось би перевірити інші булеві колонки на унікальність\n",
    "np.unique(df.wifi)\n",
    "#З вай-фаєм все гуд"
   ],
   "metadata": {
    "collapsed": false,
    "ExecuteTime": {
     "end_time": "2023-11-10T17:17:54.345740112Z",
     "start_time": "2023-11-10T17:17:54.303154028Z"
    }
   },
   "id": "4123e9442a73aeaf"
  },
  {
   "cell_type": "code",
   "execution_count": 13,
   "outputs": [
    {
     "data": {
      "text/plain": "array(['0', '1', 'NO'], dtype=object)"
     },
     "execution_count": 13,
     "metadata": {},
     "output_type": "execute_result"
    }
   ],
   "source": [
    "np.unique(df.dual_sim)\n",
    "#Оо, заховався))"
   ],
   "metadata": {
    "collapsed": false,
    "ExecuteTime": {
     "end_time": "2023-11-10T17:17:55.366730394Z",
     "start_time": "2023-11-10T17:17:55.353741727Z"
    }
   },
   "id": "3272a6fe881b3a32"
  },
  {
   "cell_type": "code",
   "execution_count": 14,
   "outputs": [
    {
     "ename": "TypeError",
     "evalue": "'<' not supported between instances of 'int' and 'str'",
     "output_type": "error",
     "traceback": [
      "\u001B[0;31m---------------------------------------------------------------------------\u001B[0m",
      "\u001B[0;31mTypeError\u001B[0m                                 Traceback (most recent call last)",
      "Input \u001B[0;32mIn [14]\u001B[0m, in \u001B[0;36m<cell line: 3>\u001B[0;34m()\u001B[0m\n\u001B[1;32m      1\u001B[0m \u001B[38;5;66;03m# Заміняємо цих красунчиків та знов перевіряємо\u001B[39;00m\n\u001B[1;32m      2\u001B[0m df\u001B[38;5;241m.\u001B[39mloc[df[df[\u001B[38;5;124m'\u001B[39m\u001B[38;5;124mdual_sim\u001B[39m\u001B[38;5;124m'\u001B[39m] \u001B[38;5;241m==\u001B[39m \u001B[38;5;124m'\u001B[39m\u001B[38;5;124mNO\u001B[39m\u001B[38;5;124m'\u001B[39m]\u001B[38;5;241m.\u001B[39mindex, \u001B[38;5;124m'\u001B[39m\u001B[38;5;124mdual_sim\u001B[39m\u001B[38;5;124m'\u001B[39m] \u001B[38;5;241m=\u001B[39m \u001B[38;5;241m0\u001B[39m\n\u001B[0;32m----> 3\u001B[0m \u001B[43mnp\u001B[49m\u001B[38;5;241;43m.\u001B[39;49m\u001B[43munique\u001B[49m\u001B[43m(\u001B[49m\u001B[43mdf\u001B[49m\u001B[38;5;241;43m.\u001B[39;49m\u001B[43mdual_sim\u001B[49m\u001B[43m)\u001B[49m\n",
      "File \u001B[0;32m~/anaconda3/lib/python3.9/site-packages/numpy/lib/arraysetops.py:274\u001B[0m, in \u001B[0;36munique\u001B[0;34m(ar, return_index, return_inverse, return_counts, axis, equal_nan)\u001B[0m\n\u001B[1;32m    272\u001B[0m ar \u001B[38;5;241m=\u001B[39m np\u001B[38;5;241m.\u001B[39masanyarray(ar)\n\u001B[1;32m    273\u001B[0m \u001B[38;5;28;01mif\u001B[39;00m axis \u001B[38;5;129;01mis\u001B[39;00m \u001B[38;5;28;01mNone\u001B[39;00m:\n\u001B[0;32m--> 274\u001B[0m     ret \u001B[38;5;241m=\u001B[39m \u001B[43m_unique1d\u001B[49m\u001B[43m(\u001B[49m\u001B[43mar\u001B[49m\u001B[43m,\u001B[49m\u001B[43m \u001B[49m\u001B[43mreturn_index\u001B[49m\u001B[43m,\u001B[49m\u001B[43m \u001B[49m\u001B[43mreturn_inverse\u001B[49m\u001B[43m,\u001B[49m\u001B[43m \u001B[49m\u001B[43mreturn_counts\u001B[49m\u001B[43m,\u001B[49m\u001B[43m \u001B[49m\n\u001B[1;32m    275\u001B[0m \u001B[43m                    \u001B[49m\u001B[43mequal_nan\u001B[49m\u001B[38;5;241;43m=\u001B[39;49m\u001B[43mequal_nan\u001B[49m\u001B[43m)\u001B[49m\n\u001B[1;32m    276\u001B[0m     \u001B[38;5;28;01mreturn\u001B[39;00m _unpack_tuple(ret)\n\u001B[1;32m    278\u001B[0m \u001B[38;5;66;03m# axis was specified and not None\u001B[39;00m\n",
      "File \u001B[0;32m~/anaconda3/lib/python3.9/site-packages/numpy/lib/arraysetops.py:336\u001B[0m, in \u001B[0;36m_unique1d\u001B[0;34m(ar, return_index, return_inverse, return_counts, equal_nan)\u001B[0m\n\u001B[1;32m    334\u001B[0m     aux \u001B[38;5;241m=\u001B[39m ar[perm]\n\u001B[1;32m    335\u001B[0m \u001B[38;5;28;01melse\u001B[39;00m:\n\u001B[0;32m--> 336\u001B[0m     \u001B[43mar\u001B[49m\u001B[38;5;241;43m.\u001B[39;49m\u001B[43msort\u001B[49m\u001B[43m(\u001B[49m\u001B[43m)\u001B[49m\n\u001B[1;32m    337\u001B[0m     aux \u001B[38;5;241m=\u001B[39m ar\n\u001B[1;32m    338\u001B[0m mask \u001B[38;5;241m=\u001B[39m np\u001B[38;5;241m.\u001B[39mempty(aux\u001B[38;5;241m.\u001B[39mshape, dtype\u001B[38;5;241m=\u001B[39mnp\u001B[38;5;241m.\u001B[39mbool_)\n",
      "\u001B[0;31mTypeError\u001B[0m: '<' not supported between instances of 'int' and 'str'"
     ]
    }
   ],
   "source": [
    "# Заміняємо цих красунчиків та знов перевіряємо\n",
    "df.loc[df[df['dual_sim'] == 'NO'].index, 'dual_sim'] = 0\n",
    "np.unique(df.dual_sim)"
   ],
   "metadata": {
    "collapsed": false,
    "ExecuteTime": {
     "end_time": "2023-11-10T17:17:56.242305103Z",
     "start_time": "2023-11-10T17:17:56.177428771Z"
    }
   },
   "id": "1c7baf4a87a1c810"
  },
  {
   "cell_type": "code",
   "execution_count": 15,
   "outputs": [
    {
     "name": "stderr",
     "output_type": "stream",
     "text": [
      "/tmp/ipykernel_191079/1328366856.py:3: SettingWithCopyWarning: \n",
      "A value is trying to be set on a copy of a slice from a DataFrame.\n",
      "Try using .loc[row_indexer,col_indexer] = value instead\n",
      "\n",
      "See the caveats in the documentation: https://pandas.pydata.org/pandas-docs/stable/user_guide/indexing.html#returning-a-view-versus-a-copy\n",
      "  df[\"dual_sim\"] = pd.to_numeric(df[\"dual_sim\"])\n"
     ]
    },
    {
     "data": {
      "text/plain": "array([0, 1])"
     },
     "execution_count": 15,
     "metadata": {},
     "output_type": "execute_result"
    }
   ],
   "source": [
    "#І знову привіт)) мій прокол що я не зробив перевірку df.info але нічого, зараз зробимо заміни на строчний 0 а потім змінимо тип колонки\n",
    "df.loc[df[df['dual_sim'] == 'NO'].index, 'dual_sim'] = '0'\n",
    "df[\"dual_sim\"] = pd.to_numeric(df[\"dual_sim\"])\n",
    "np.unique(df.dual_sim)"
   ],
   "metadata": {
    "collapsed": false,
    "ExecuteTime": {
     "end_time": "2023-11-10T17:17:57.349000471Z",
     "start_time": "2023-11-10T17:17:57.161041295Z"
    }
   },
   "id": "b17b347301b82913"
  },
  {
   "cell_type": "code",
   "execution_count": 16,
   "outputs": [
    {
     "name": "stdout",
     "output_type": "stream",
     "text": [
      "<class 'pandas.core.frame.DataFrame'>\n",
      "RangeIndex: 4020 entries, 0 to 4019\n",
      "Data columns (total 11 columns):\n",
      " #   Column         Non-Null Count  Dtype  \n",
      "---  ------         --------------  -----  \n",
      " 0   battery_power  4020 non-null   int64  \n",
      " 1   bluetooth      4020 non-null   object \n",
      " 2   weight         4020 non-null   int64  \n",
      " 3   memory         4020 non-null   int64  \n",
      " 4   n_cores        4020 non-null   float64\n",
      " 5   ram            4020 non-null   int64  \n",
      " 6   dual_sim       4020 non-null   int64  \n",
      " 7   wifi           4020 non-null   int64  \n",
      " 8   pixel_height   4020 non-null   int64  \n",
      " 9   pixel_width    4020 non-null   int64  \n",
      " 10  price_range    3020 non-null   float64\n",
      "dtypes: float64(2), int64(8), object(1)\n",
      "memory usage: 345.6+ KB\n"
     ]
    }
   ],
   "source": [
    "df.info()\n",
    "# Бачимо що bluetooth також стринга, виконаємо той самий мув. А також дуже цікаво що колнка з кількістю ядер типу флоат, і прайс рендж також. В цих\n",
    "# колонках не може бути чисел з плаваючою точкою, це дискретна величина, бо 2.4 ядра важко собі уявити, а також прайс рендж за умовою задачі у нас може\n",
    "# бути між 0 та 3, що є також дискретною величиною"
   ],
   "metadata": {
    "collapsed": false,
    "ExecuteTime": {
     "end_time": "2023-11-10T17:17:58.730243686Z",
     "start_time": "2023-11-10T17:17:58.716794991Z"
    }
   },
   "id": "596a99fbf8a0031a"
  },
  {
   "cell_type": "code",
   "execution_count": 17,
   "outputs": [
    {
     "name": "stderr",
     "output_type": "stream",
     "text": [
      "/tmp/ipykernel_191079/854081312.py:2: SettingWithCopyWarning: \n",
      "A value is trying to be set on a copy of a slice from a DataFrame.\n",
      "Try using .loc[row_indexer,col_indexer] = value instead\n",
      "\n",
      "See the caveats in the documentation: https://pandas.pydata.org/pandas-docs/stable/user_guide/indexing.html#returning-a-view-versus-a-copy\n",
      "  df[\"bluetooth\"] = pd.to_numeric(df[\"bluetooth\"])\n"
     ]
    },
    {
     "data": {
      "text/plain": "battery_power      int64\nbluetooth          int64\nweight             int64\nmemory             int64\nn_cores          float64\nram                int64\ndual_sim           int64\nwifi               int64\npixel_height       int64\npixel_width        int64\nprice_range      float64\ndtype: object"
     },
     "execution_count": 17,
     "metadata": {},
     "output_type": "execute_result"
    }
   ],
   "source": [
    "#Спочатку зікінчимо з нашим bluetooth\n",
    "df[\"bluetooth\"] = pd.to_numeric(df[\"bluetooth\"])\n",
    "df.dtypes"
   ],
   "metadata": {
    "collapsed": false,
    "ExecuteTime": {
     "end_time": "2023-11-10T17:17:59.761801366Z",
     "start_time": "2023-11-10T17:17:59.737199826Z"
    }
   },
   "id": "72c36a4d54f50449"
  },
  {
   "cell_type": "code",
   "execution_count": 18,
   "outputs": [
    {
     "data": {
      "text/plain": "     battery_power  bluetooth  weight  memory  n_cores   ram  dual_sim  wifi  \\\n72             605          0     142       9      3.5   392         0     0   \n76            1114          0     197       9      3.5   907         0     0   \n83            1008          0     114      61      3.5  2009         0     0   \n87            1083          1     178      64      3.5  3210         1     0   \n90            1724          0     177      57      3.5  2822         1     0   \n94            1322          0     140       7      3.5  1418         1     0   \n95            1137          1     196       7      3.5  3616         0     1   \n110            783          0     106      43      3.5  2016         1     0   \n\n     pixel_height  pixel_width  price_range  \n72            160         1026          0.0  \n76           1040         1071          0.0  \n83           1077         1122          1.0  \n87           1025         1118          3.0  \n90           1605         1924          3.0  \n94            177         1990          1.0  \n95            942         1179          3.0  \n110          1198         1471          1.0  ",
      "text/html": "<div>\n<style scoped>\n    .dataframe tbody tr th:only-of-type {\n        vertical-align: middle;\n    }\n\n    .dataframe tbody tr th {\n        vertical-align: top;\n    }\n\n    .dataframe thead th {\n        text-align: right;\n    }\n</style>\n<table border=\"1\" class=\"dataframe\">\n  <thead>\n    <tr style=\"text-align: right;\">\n      <th></th>\n      <th>battery_power</th>\n      <th>bluetooth</th>\n      <th>weight</th>\n      <th>memory</th>\n      <th>n_cores</th>\n      <th>ram</th>\n      <th>dual_sim</th>\n      <th>wifi</th>\n      <th>pixel_height</th>\n      <th>pixel_width</th>\n      <th>price_range</th>\n    </tr>\n  </thead>\n  <tbody>\n    <tr>\n      <th>72</th>\n      <td>605</td>\n      <td>0</td>\n      <td>142</td>\n      <td>9</td>\n      <td>3.5</td>\n      <td>392</td>\n      <td>0</td>\n      <td>0</td>\n      <td>160</td>\n      <td>1026</td>\n      <td>0.0</td>\n    </tr>\n    <tr>\n      <th>76</th>\n      <td>1114</td>\n      <td>0</td>\n      <td>197</td>\n      <td>9</td>\n      <td>3.5</td>\n      <td>907</td>\n      <td>0</td>\n      <td>0</td>\n      <td>1040</td>\n      <td>1071</td>\n      <td>0.0</td>\n    </tr>\n    <tr>\n      <th>83</th>\n      <td>1008</td>\n      <td>0</td>\n      <td>114</td>\n      <td>61</td>\n      <td>3.5</td>\n      <td>2009</td>\n      <td>0</td>\n      <td>0</td>\n      <td>1077</td>\n      <td>1122</td>\n      <td>1.0</td>\n    </tr>\n    <tr>\n      <th>87</th>\n      <td>1083</td>\n      <td>1</td>\n      <td>178</td>\n      <td>64</td>\n      <td>3.5</td>\n      <td>3210</td>\n      <td>1</td>\n      <td>0</td>\n      <td>1025</td>\n      <td>1118</td>\n      <td>3.0</td>\n    </tr>\n    <tr>\n      <th>90</th>\n      <td>1724</td>\n      <td>0</td>\n      <td>177</td>\n      <td>57</td>\n      <td>3.5</td>\n      <td>2822</td>\n      <td>1</td>\n      <td>0</td>\n      <td>1605</td>\n      <td>1924</td>\n      <td>3.0</td>\n    </tr>\n    <tr>\n      <th>94</th>\n      <td>1322</td>\n      <td>0</td>\n      <td>140</td>\n      <td>7</td>\n      <td>3.5</td>\n      <td>1418</td>\n      <td>1</td>\n      <td>0</td>\n      <td>177</td>\n      <td>1990</td>\n      <td>1.0</td>\n    </tr>\n    <tr>\n      <th>95</th>\n      <td>1137</td>\n      <td>1</td>\n      <td>196</td>\n      <td>7</td>\n      <td>3.5</td>\n      <td>3616</td>\n      <td>0</td>\n      <td>1</td>\n      <td>942</td>\n      <td>1179</td>\n      <td>3.0</td>\n    </tr>\n    <tr>\n      <th>110</th>\n      <td>783</td>\n      <td>0</td>\n      <td>106</td>\n      <td>43</td>\n      <td>3.5</td>\n      <td>2016</td>\n      <td>1</td>\n      <td>0</td>\n      <td>1198</td>\n      <td>1471</td>\n      <td>1.0</td>\n    </tr>\n  </tbody>\n</table>\n</div>"
     },
     "execution_count": 18,
     "metadata": {},
     "output_type": "execute_result"
    }
   ],
   "source": [
    "# Тепер напевне повернемось до наших кількості ядер та прайс ренджу\n",
    "df[~df['n_cores'].apply(lambda x: x.is_integer())]\n",
    "# Bingoo!"
   ],
   "metadata": {
    "collapsed": false,
    "ExecuteTime": {
     "end_time": "2023-11-10T17:18:00.716223676Z",
     "start_time": "2023-11-10T17:18:00.679981933Z"
    }
   },
   "id": "9d57ecf4812c3519"
  },
  {
   "cell_type": "code",
   "execution_count": 19,
   "outputs": [
    {
     "data": {
      "text/plain": "      battery_power  bluetooth  weight  memory  n_cores   ram  dual_sim  wifi  \\\n2000           1043          1     193       5      3.0  3476         1     0   \n2001            841          1     191      61      5.0  3895         1     0   \n2002           1807          1     186      27      3.0  2396         0     1   \n2003           1546          0      96      25      8.0  3893         1     0   \n2004           1434          0     108      49      6.0  1773         0     1   \n...             ...        ...     ...     ...      ...   ...       ...   ...   \n2995           1700          1     170      54      7.0  2121         0     0   \n2996            609          0     186      13      4.0  1933         1     1   \n2997           1185          0      80       8      1.0  1223         0     0   \n2998           1533          1     171      50      2.0  2509         1     0   \n2999           1270          1     140      35      6.0  2828         0     1   \n\n      pixel_height  pixel_width  price_range  \n2000           226         1412          NaN  \n2001           746          857          NaN  \n2002          1270         1366          NaN  \n2003           295         1752          NaN  \n2004           749          810          NaN  \n...            ...          ...          ...  \n2995           644          913          NaN  \n2996          1152         1632          NaN  \n2997           477          825          NaN  \n2998            38          832          NaN  \n2999           457          608          NaN  \n\n[1000 rows x 11 columns]",
      "text/html": "<div>\n<style scoped>\n    .dataframe tbody tr th:only-of-type {\n        vertical-align: middle;\n    }\n\n    .dataframe tbody tr th {\n        vertical-align: top;\n    }\n\n    .dataframe thead th {\n        text-align: right;\n    }\n</style>\n<table border=\"1\" class=\"dataframe\">\n  <thead>\n    <tr style=\"text-align: right;\">\n      <th></th>\n      <th>battery_power</th>\n      <th>bluetooth</th>\n      <th>weight</th>\n      <th>memory</th>\n      <th>n_cores</th>\n      <th>ram</th>\n      <th>dual_sim</th>\n      <th>wifi</th>\n      <th>pixel_height</th>\n      <th>pixel_width</th>\n      <th>price_range</th>\n    </tr>\n  </thead>\n  <tbody>\n    <tr>\n      <th>2000</th>\n      <td>1043</td>\n      <td>1</td>\n      <td>193</td>\n      <td>5</td>\n      <td>3.0</td>\n      <td>3476</td>\n      <td>1</td>\n      <td>0</td>\n      <td>226</td>\n      <td>1412</td>\n      <td>NaN</td>\n    </tr>\n    <tr>\n      <th>2001</th>\n      <td>841</td>\n      <td>1</td>\n      <td>191</td>\n      <td>61</td>\n      <td>5.0</td>\n      <td>3895</td>\n      <td>1</td>\n      <td>0</td>\n      <td>746</td>\n      <td>857</td>\n      <td>NaN</td>\n    </tr>\n    <tr>\n      <th>2002</th>\n      <td>1807</td>\n      <td>1</td>\n      <td>186</td>\n      <td>27</td>\n      <td>3.0</td>\n      <td>2396</td>\n      <td>0</td>\n      <td>1</td>\n      <td>1270</td>\n      <td>1366</td>\n      <td>NaN</td>\n    </tr>\n    <tr>\n      <th>2003</th>\n      <td>1546</td>\n      <td>0</td>\n      <td>96</td>\n      <td>25</td>\n      <td>8.0</td>\n      <td>3893</td>\n      <td>1</td>\n      <td>0</td>\n      <td>295</td>\n      <td>1752</td>\n      <td>NaN</td>\n    </tr>\n    <tr>\n      <th>2004</th>\n      <td>1434</td>\n      <td>0</td>\n      <td>108</td>\n      <td>49</td>\n      <td>6.0</td>\n      <td>1773</td>\n      <td>0</td>\n      <td>1</td>\n      <td>749</td>\n      <td>810</td>\n      <td>NaN</td>\n    </tr>\n    <tr>\n      <th>...</th>\n      <td>...</td>\n      <td>...</td>\n      <td>...</td>\n      <td>...</td>\n      <td>...</td>\n      <td>...</td>\n      <td>...</td>\n      <td>...</td>\n      <td>...</td>\n      <td>...</td>\n      <td>...</td>\n    </tr>\n    <tr>\n      <th>2995</th>\n      <td>1700</td>\n      <td>1</td>\n      <td>170</td>\n      <td>54</td>\n      <td>7.0</td>\n      <td>2121</td>\n      <td>0</td>\n      <td>0</td>\n      <td>644</td>\n      <td>913</td>\n      <td>NaN</td>\n    </tr>\n    <tr>\n      <th>2996</th>\n      <td>609</td>\n      <td>0</td>\n      <td>186</td>\n      <td>13</td>\n      <td>4.0</td>\n      <td>1933</td>\n      <td>1</td>\n      <td>1</td>\n      <td>1152</td>\n      <td>1632</td>\n      <td>NaN</td>\n    </tr>\n    <tr>\n      <th>2997</th>\n      <td>1185</td>\n      <td>0</td>\n      <td>80</td>\n      <td>8</td>\n      <td>1.0</td>\n      <td>1223</td>\n      <td>0</td>\n      <td>0</td>\n      <td>477</td>\n      <td>825</td>\n      <td>NaN</td>\n    </tr>\n    <tr>\n      <th>2998</th>\n      <td>1533</td>\n      <td>1</td>\n      <td>171</td>\n      <td>50</td>\n      <td>2.0</td>\n      <td>2509</td>\n      <td>1</td>\n      <td>0</td>\n      <td>38</td>\n      <td>832</td>\n      <td>NaN</td>\n    </tr>\n    <tr>\n      <th>2999</th>\n      <td>1270</td>\n      <td>1</td>\n      <td>140</td>\n      <td>35</td>\n      <td>6.0</td>\n      <td>2828</td>\n      <td>0</td>\n      <td>1</td>\n      <td>457</td>\n      <td>608</td>\n      <td>NaN</td>\n    </tr>\n  </tbody>\n</table>\n<p>1000 rows × 11 columns</p>\n</div>"
     },
     "execution_count": 19,
     "metadata": {},
     "output_type": "execute_result"
    }
   ],
   "source": [
    "df[~df['price_range'].apply(lambda x: x.is_integer())]\n",
    "# Ну і по прайс ренджу ми бачимо тільки пропуски, але про них сказано в умові задачі, тому поки з ними ми нічого не робимо"
   ],
   "metadata": {
    "collapsed": false,
    "ExecuteTime": {
     "end_time": "2023-11-10T17:18:01.790880901Z",
     "start_time": "2023-11-10T17:18:01.787504327Z"
    }
   },
   "id": "dd119cfcb02daa72"
  },
  {
   "cell_type": "code",
   "execution_count": 20,
   "outputs": [
    {
     "data": {
      "text/plain": "       battery_power    bluetooth       weight       memory      n_cores  \\\ncount    4020.000000  4020.000000  4020.000000  4020.000000  4020.000000   \nmean     1127.392289     0.374627   139.426617    27.362438     3.963930   \nstd       425.790696     0.484087    33.675572    18.112879     2.220142   \nmin       500.000000     0.000000    80.000000     2.000000     1.000000   \n25%       780.750000     0.000000   111.000000    12.000000     2.000000   \n50%       983.000000     0.000000   139.000000    22.000000     4.000000   \n75%      1489.000000     1.000000   168.000000    43.000000     6.000000   \nmax      1999.000000     1.000000   200.000000    64.000000     8.000000   \n\n               ram     dual_sim         wifi  pixel_height  pixel_width  \\\ncount  4020.000000  4020.000000  4020.000000   4020.000000  4020.000000   \nmean   1715.922637     0.507214     0.501990    672.843532  1116.360945   \nstd    1184.300498     0.500010     0.500058    404.404351   459.694423   \nmin       6.000000     0.000000     0.000000      0.000000   240.000000   \n25%     652.000000     0.000000     0.000000    364.750000   739.000000   \n50%    1489.500000     1.000000     1.000000    635.000000  1065.500000   \n75%    2746.000000     1.000000     1.000000    951.000000  1492.250000   \nmax    3998.000000     1.000000     1.000000   1960.000000  1998.000000   \n\n       price_range  \ncount  3020.000000  \nmean      1.331126  \nstd       0.940227  \nmin       0.000000  \n25%       1.000000  \n50%       1.000000  \n75%       2.000000  \nmax       3.000000  ",
      "text/html": "<div>\n<style scoped>\n    .dataframe tbody tr th:only-of-type {\n        vertical-align: middle;\n    }\n\n    .dataframe tbody tr th {\n        vertical-align: top;\n    }\n\n    .dataframe thead th {\n        text-align: right;\n    }\n</style>\n<table border=\"1\" class=\"dataframe\">\n  <thead>\n    <tr style=\"text-align: right;\">\n      <th></th>\n      <th>battery_power</th>\n      <th>bluetooth</th>\n      <th>weight</th>\n      <th>memory</th>\n      <th>n_cores</th>\n      <th>ram</th>\n      <th>dual_sim</th>\n      <th>wifi</th>\n      <th>pixel_height</th>\n      <th>pixel_width</th>\n      <th>price_range</th>\n    </tr>\n  </thead>\n  <tbody>\n    <tr>\n      <th>count</th>\n      <td>4020.000000</td>\n      <td>4020.000000</td>\n      <td>4020.000000</td>\n      <td>4020.000000</td>\n      <td>4020.000000</td>\n      <td>4020.000000</td>\n      <td>4020.000000</td>\n      <td>4020.000000</td>\n      <td>4020.000000</td>\n      <td>4020.000000</td>\n      <td>3020.000000</td>\n    </tr>\n    <tr>\n      <th>mean</th>\n      <td>1127.392289</td>\n      <td>0.374627</td>\n      <td>139.426617</td>\n      <td>27.362438</td>\n      <td>3.963930</td>\n      <td>1715.922637</td>\n      <td>0.507214</td>\n      <td>0.501990</td>\n      <td>672.843532</td>\n      <td>1116.360945</td>\n      <td>1.331126</td>\n    </tr>\n    <tr>\n      <th>std</th>\n      <td>425.790696</td>\n      <td>0.484087</td>\n      <td>33.675572</td>\n      <td>18.112879</td>\n      <td>2.220142</td>\n      <td>1184.300498</td>\n      <td>0.500010</td>\n      <td>0.500058</td>\n      <td>404.404351</td>\n      <td>459.694423</td>\n      <td>0.940227</td>\n    </tr>\n    <tr>\n      <th>min</th>\n      <td>500.000000</td>\n      <td>0.000000</td>\n      <td>80.000000</td>\n      <td>2.000000</td>\n      <td>1.000000</td>\n      <td>6.000000</td>\n      <td>0.000000</td>\n      <td>0.000000</td>\n      <td>0.000000</td>\n      <td>240.000000</td>\n      <td>0.000000</td>\n    </tr>\n    <tr>\n      <th>25%</th>\n      <td>780.750000</td>\n      <td>0.000000</td>\n      <td>111.000000</td>\n      <td>12.000000</td>\n      <td>2.000000</td>\n      <td>652.000000</td>\n      <td>0.000000</td>\n      <td>0.000000</td>\n      <td>364.750000</td>\n      <td>739.000000</td>\n      <td>1.000000</td>\n    </tr>\n    <tr>\n      <th>50%</th>\n      <td>983.000000</td>\n      <td>0.000000</td>\n      <td>139.000000</td>\n      <td>22.000000</td>\n      <td>4.000000</td>\n      <td>1489.500000</td>\n      <td>1.000000</td>\n      <td>1.000000</td>\n      <td>635.000000</td>\n      <td>1065.500000</td>\n      <td>1.000000</td>\n    </tr>\n    <tr>\n      <th>75%</th>\n      <td>1489.000000</td>\n      <td>1.000000</td>\n      <td>168.000000</td>\n      <td>43.000000</td>\n      <td>6.000000</td>\n      <td>2746.000000</td>\n      <td>1.000000</td>\n      <td>1.000000</td>\n      <td>951.000000</td>\n      <td>1492.250000</td>\n      <td>2.000000</td>\n    </tr>\n    <tr>\n      <th>max</th>\n      <td>1999.000000</td>\n      <td>1.000000</td>\n      <td>200.000000</td>\n      <td>64.000000</td>\n      <td>8.000000</td>\n      <td>3998.000000</td>\n      <td>1.000000</td>\n      <td>1.000000</td>\n      <td>1960.000000</td>\n      <td>1998.000000</td>\n      <td>3.000000</td>\n    </tr>\n  </tbody>\n</table>\n</div>"
     },
     "execution_count": 20,
     "metadata": {},
     "output_type": "execute_result"
    }
   ],
   "source": [
    "df.describe()\n",
    "# Зробимо ще раз дескраб та підрезюмуємо підвохи які зробили і які лишились.\n",
    "\n",
    "# Зробили\n",
    "# 1) Дропнули аннеймд колонку\n",
    "# 2)Замінили блютуз текстовий формат на числовий.\n",
    "# Знайшли текст в dual_sim та також замінили на числовий формат. Але вони схожі з попереднім тому будемо вважати за один\n",
    "# Лишились\n",
    "# 3)В колонці з кількістю ядер э не цілочисельні значення\n",
    "# 4)Також в колонці pixel-height є нульові значення, що за контекстом вважаються неправильними\n",
    "# 5)В колонці ram також ми бачимо дуже низьке мінімальне значення. Велика розбіжність між максимальним так квартилями"
   ],
   "metadata": {
    "collapsed": false,
    "ExecuteTime": {
     "end_time": "2023-11-10T17:18:02.848771232Z",
     "start_time": "2023-11-10T17:18:02.831375195Z"
    }
   },
   "id": "a538b86b2cb2db9"
  },
  {
   "cell_type": "code",
   "execution_count": 21,
   "outputs": [
    {
     "data": {
      "text/plain": "               battery_power  bluetooth    weight    memory   n_cores  \\\nbattery_power       1.000000   0.202061  0.001322  0.227132  0.166516   \nbluetooth           0.202061   1.000000  0.014691  0.241694  0.191305   \nweight              0.001322   0.014691  1.000000 -0.005098 -0.006696   \nmemory              0.227132   0.241694 -0.005098  1.000000  0.178856   \nn_cores             0.166516   0.191305 -0.006696  0.178856  1.000000   \nram                 0.268012   0.296157  0.023810  0.309080  0.221545   \ndual_sim           -0.029181   0.022755 -0.005141 -0.002858 -0.008171   \nwifi                0.003372   0.003087  0.014570  0.014851  0.001634   \npixel_height       -0.044463  -0.084924  0.004641 -0.067509 -0.070942   \npixel_width         0.234409   0.192876  0.011553  0.235756  0.183732   \nprice_range         0.295102   0.142709 -0.016382  0.171308  0.113166   \n\n                    ram  dual_sim      wifi  pixel_height  pixel_width  \\\nbattery_power  0.268012 -0.029181  0.003372     -0.044463     0.234409   \nbluetooth      0.296157  0.022755  0.003087     -0.084924     0.192876   \nweight         0.023810 -0.005141  0.014570      0.004641     0.011553   \nmemory         0.309080 -0.002858  0.014851     -0.067509     0.235756   \nn_cores        0.221545 -0.008171  0.001634     -0.070942     0.183732   \nram            1.000000  0.041500  0.012478     -0.089169     0.288331   \ndual_sim       0.041500  1.000000  0.021338     -0.010794     0.016625   \nwifi           0.012478  0.021338  1.000000      0.022922     0.006872   \npixel_height  -0.089169 -0.010794  0.022922      1.000000     0.326835   \npixel_width    0.288331  0.016625  0.006872      0.326835     1.000000   \nprice_range    0.826434  0.017631  0.019492      0.093849     0.258094   \n\n               price_range  \nbattery_power     0.295102  \nbluetooth         0.142709  \nweight           -0.016382  \nmemory            0.171308  \nn_cores           0.113166  \nram               0.826434  \ndual_sim          0.017631  \nwifi              0.019492  \npixel_height      0.093849  \npixel_width       0.258094  \nprice_range       1.000000  ",
      "text/html": "<div>\n<style scoped>\n    .dataframe tbody tr th:only-of-type {\n        vertical-align: middle;\n    }\n\n    .dataframe tbody tr th {\n        vertical-align: top;\n    }\n\n    .dataframe thead th {\n        text-align: right;\n    }\n</style>\n<table border=\"1\" class=\"dataframe\">\n  <thead>\n    <tr style=\"text-align: right;\">\n      <th></th>\n      <th>battery_power</th>\n      <th>bluetooth</th>\n      <th>weight</th>\n      <th>memory</th>\n      <th>n_cores</th>\n      <th>ram</th>\n      <th>dual_sim</th>\n      <th>wifi</th>\n      <th>pixel_height</th>\n      <th>pixel_width</th>\n      <th>price_range</th>\n    </tr>\n  </thead>\n  <tbody>\n    <tr>\n      <th>battery_power</th>\n      <td>1.000000</td>\n      <td>0.202061</td>\n      <td>0.001322</td>\n      <td>0.227132</td>\n      <td>0.166516</td>\n      <td>0.268012</td>\n      <td>-0.029181</td>\n      <td>0.003372</td>\n      <td>-0.044463</td>\n      <td>0.234409</td>\n      <td>0.295102</td>\n    </tr>\n    <tr>\n      <th>bluetooth</th>\n      <td>0.202061</td>\n      <td>1.000000</td>\n      <td>0.014691</td>\n      <td>0.241694</td>\n      <td>0.191305</td>\n      <td>0.296157</td>\n      <td>0.022755</td>\n      <td>0.003087</td>\n      <td>-0.084924</td>\n      <td>0.192876</td>\n      <td>0.142709</td>\n    </tr>\n    <tr>\n      <th>weight</th>\n      <td>0.001322</td>\n      <td>0.014691</td>\n      <td>1.000000</td>\n      <td>-0.005098</td>\n      <td>-0.006696</td>\n      <td>0.023810</td>\n      <td>-0.005141</td>\n      <td>0.014570</td>\n      <td>0.004641</td>\n      <td>0.011553</td>\n      <td>-0.016382</td>\n    </tr>\n    <tr>\n      <th>memory</th>\n      <td>0.227132</td>\n      <td>0.241694</td>\n      <td>-0.005098</td>\n      <td>1.000000</td>\n      <td>0.178856</td>\n      <td>0.309080</td>\n      <td>-0.002858</td>\n      <td>0.014851</td>\n      <td>-0.067509</td>\n      <td>0.235756</td>\n      <td>0.171308</td>\n    </tr>\n    <tr>\n      <th>n_cores</th>\n      <td>0.166516</td>\n      <td>0.191305</td>\n      <td>-0.006696</td>\n      <td>0.178856</td>\n      <td>1.000000</td>\n      <td>0.221545</td>\n      <td>-0.008171</td>\n      <td>0.001634</td>\n      <td>-0.070942</td>\n      <td>0.183732</td>\n      <td>0.113166</td>\n    </tr>\n    <tr>\n      <th>ram</th>\n      <td>0.268012</td>\n      <td>0.296157</td>\n      <td>0.023810</td>\n      <td>0.309080</td>\n      <td>0.221545</td>\n      <td>1.000000</td>\n      <td>0.041500</td>\n      <td>0.012478</td>\n      <td>-0.089169</td>\n      <td>0.288331</td>\n      <td>0.826434</td>\n    </tr>\n    <tr>\n      <th>dual_sim</th>\n      <td>-0.029181</td>\n      <td>0.022755</td>\n      <td>-0.005141</td>\n      <td>-0.002858</td>\n      <td>-0.008171</td>\n      <td>0.041500</td>\n      <td>1.000000</td>\n      <td>0.021338</td>\n      <td>-0.010794</td>\n      <td>0.016625</td>\n      <td>0.017631</td>\n    </tr>\n    <tr>\n      <th>wifi</th>\n      <td>0.003372</td>\n      <td>0.003087</td>\n      <td>0.014570</td>\n      <td>0.014851</td>\n      <td>0.001634</td>\n      <td>0.012478</td>\n      <td>0.021338</td>\n      <td>1.000000</td>\n      <td>0.022922</td>\n      <td>0.006872</td>\n      <td>0.019492</td>\n    </tr>\n    <tr>\n      <th>pixel_height</th>\n      <td>-0.044463</td>\n      <td>-0.084924</td>\n      <td>0.004641</td>\n      <td>-0.067509</td>\n      <td>-0.070942</td>\n      <td>-0.089169</td>\n      <td>-0.010794</td>\n      <td>0.022922</td>\n      <td>1.000000</td>\n      <td>0.326835</td>\n      <td>0.093849</td>\n    </tr>\n    <tr>\n      <th>pixel_width</th>\n      <td>0.234409</td>\n      <td>0.192876</td>\n      <td>0.011553</td>\n      <td>0.235756</td>\n      <td>0.183732</td>\n      <td>0.288331</td>\n      <td>0.016625</td>\n      <td>0.006872</td>\n      <td>0.326835</td>\n      <td>1.000000</td>\n      <td>0.258094</td>\n    </tr>\n    <tr>\n      <th>price_range</th>\n      <td>0.295102</td>\n      <td>0.142709</td>\n      <td>-0.016382</td>\n      <td>0.171308</td>\n      <td>0.113166</td>\n      <td>0.826434</td>\n      <td>0.017631</td>\n      <td>0.019492</td>\n      <td>0.093849</td>\n      <td>0.258094</td>\n      <td>1.000000</td>\n    </tr>\n  </tbody>\n</table>\n</div>"
     },
     "execution_count": 21,
     "metadata": {},
     "output_type": "execute_result"
    }
   ],
   "source": [
    "#Почнемо з н-корів, насправді можна було замінити ці значення або округлити або замінити модою. Але є напркклад в сучасному світі є такі хараектиристики які суттєво можуть впливати на прайс, а це наша ціль. Тому на початку потрібно відслідкувати тенденції та кореляції пов'язані з цим атрибутом. Бо можливо значення 3.5 помилкове і не спроста всі нецілочисельні знвчення в цій колонці однакові. Тому для початку подивимось на кореляцію\n",
    "import seaborn as sns\n",
    "\n",
    "df.corr()\n",
    "# Можемо прослідкувати дуже несуттєву кореляцію колонки н-кор майже з усіма параметрами, тому замінимо помилкові значення на моду"
   ],
   "metadata": {
    "collapsed": false,
    "ExecuteTime": {
     "end_time": "2023-11-10T17:18:05.121991019Z",
     "start_time": "2023-11-10T17:18:05.097884465Z"
    }
   },
   "id": "eabc07bc33faed43"
  },
  {
   "cell_type": "code",
   "execution_count": 22,
   "outputs": [
    {
     "data": {
      "text/plain": "<AxesSubplot:>"
     },
     "execution_count": 22,
     "metadata": {},
     "output_type": "execute_result"
    },
    {
     "data": {
      "text/plain": "<Figure size 640x480 with 2 Axes>",
      "image/png": "[encoded data removed]"
     },
     "metadata": {},
     "output_type": "display_data"
    }
   ],
   "source": [
    "sns.heatmap(df.corr())"
   ],
   "metadata": {
    "collapsed": false,
    "ExecuteTime": {
     "end_time": "2023-11-10T17:18:06.537953410Z",
     "start_time": "2023-11-10T17:18:06.327099147Z"
    }
   },
   "id": "5e59934c460c321d"
  },
  {
   "cell_type": "code",
   "execution_count": 23,
   "outputs": [
    {
     "data": {
      "text/plain": "0    4.0\nName: n_cores, dtype: float64"
     },
     "execution_count": 23,
     "metadata": {},
     "output_type": "execute_result"
    }
   ],
   "source": [
    "df[\n",
    "    'n_cores'].mode()  # Мода в нас 4 і як гарно склалось що нанші значення не дуже далеко від неї тому округлення в нашому випадку також підійшло б"
   ],
   "metadata": {
    "collapsed": false,
    "ExecuteTime": {
     "end_time": "2023-11-10T17:18:08.265283932Z",
     "start_time": "2023-11-10T17:18:08.260128362Z"
    }
   },
   "id": "9512a22f24ddfeee"
  },
  {
   "cell_type": "code",
   "execution_count": 24,
   "outputs": [
    {
     "data": {
      "text/plain": "Empty DataFrame\nColumns: [battery_power, bluetooth, weight, memory, n_cores, ram, dual_sim, wifi, pixel_height, pixel_width, price_range]\nIndex: []",
      "text/html": "<div>\n<style scoped>\n    .dataframe tbody tr th:only-of-type {\n        vertical-align: middle;\n    }\n\n    .dataframe tbody tr th {\n        vertical-align: top;\n    }\n\n    .dataframe thead th {\n        text-align: right;\n    }\n</style>\n<table border=\"1\" class=\"dataframe\">\n  <thead>\n    <tr style=\"text-align: right;\">\n      <th></th>\n      <th>battery_power</th>\n      <th>bluetooth</th>\n      <th>weight</th>\n      <th>memory</th>\n      <th>n_cores</th>\n      <th>ram</th>\n      <th>dual_sim</th>\n      <th>wifi</th>\n      <th>pixel_height</th>\n      <th>pixel_width</th>\n      <th>price_range</th>\n    </tr>\n  </thead>\n  <tbody>\n  </tbody>\n</table>\n</div>"
     },
     "execution_count": 24,
     "metadata": {},
     "output_type": "execute_result"
    }
   ],
   "source": [
    "#Заміняємо на перевіряємо\n",
    "df.loc[df[~df['n_cores'].apply(lambda x: x.is_integer())].index, 'n_cores'] = df['n_cores'].mode()[0]\n",
    "df[~df['n_cores'].apply(lambda x: x.is_integer())]"
   ],
   "metadata": {
    "collapsed": false,
    "ExecuteTime": {
     "end_time": "2023-11-10T17:18:11.153819386Z",
     "start_time": "2023-11-10T17:18:11.140841944Z"
    }
   },
   "id": "fac8648f97092391"
  },
  {
   "cell_type": "code",
   "execution_count": 25,
   "outputs": [
    {
     "name": "stderr",
     "output_type": "stream",
     "text": [
      "/tmp/ipykernel_191079/3053347862.py:1: SettingWithCopyWarning: \n",
      "A value is trying to be set on a copy of a slice from a DataFrame.\n",
      "Try using .loc[row_indexer,col_indexer] = value instead\n",
      "\n",
      "See the caveats in the documentation: https://pandas.pydata.org/pandas-docs/stable/user_guide/indexing.html#returning-a-view-versus-a-copy\n",
      "  df['n_cores'] = pd.to_numeric(df['n_cores'], downcast='integer', errors='coerce')\n"
     ]
    }
   ],
   "source": [
    "df['n_cores'] = pd.to_numeric(df['n_cores'], downcast='integer', errors='coerce')"
   ],
   "metadata": {
    "collapsed": false,
    "ExecuteTime": {
     "end_time": "2023-11-10T17:18:12.313719785Z",
     "start_time": "2023-11-10T17:18:12.281719599Z"
    }
   },
   "id": "9abe77c2f26d145"
  },
  {
   "cell_type": "code",
   "execution_count": 26,
   "outputs": [
    {
     "data": {
      "text/plain": "      battery_power  bluetooth  weight  memory  n_cores   ram  dual_sim  wifi  \\\n1481           1834          0      99      40        4  3692         0     0   \n1933            897          1     154       2        8  1958         0     0   \n2420            986          0      80      26        8  1316         0     0   \n2819           1992          1     153      43        5  2179         1     0   \n\n      pixel_height  pixel_width  price_range  \n1481             0         1987          3.0  \n1933             0          994          1.0  \n2420             0         1214          NaN  \n2819             0          883          NaN  ",
      "text/html": "<div>\n<style scoped>\n    .dataframe tbody tr th:only-of-type {\n        vertical-align: middle;\n    }\n\n    .dataframe tbody tr th {\n        vertical-align: top;\n    }\n\n    .dataframe thead th {\n        text-align: right;\n    }\n</style>\n<table border=\"1\" class=\"dataframe\">\n  <thead>\n    <tr style=\"text-align: right;\">\n      <th></th>\n      <th>battery_power</th>\n      <th>bluetooth</th>\n      <th>weight</th>\n      <th>memory</th>\n      <th>n_cores</th>\n      <th>ram</th>\n      <th>dual_sim</th>\n      <th>wifi</th>\n      <th>pixel_height</th>\n      <th>pixel_width</th>\n      <th>price_range</th>\n    </tr>\n  </thead>\n  <tbody>\n    <tr>\n      <th>1481</th>\n      <td>1834</td>\n      <td>0</td>\n      <td>99</td>\n      <td>40</td>\n      <td>4</td>\n      <td>3692</td>\n      <td>0</td>\n      <td>0</td>\n      <td>0</td>\n      <td>1987</td>\n      <td>3.0</td>\n    </tr>\n    <tr>\n      <th>1933</th>\n      <td>897</td>\n      <td>1</td>\n      <td>154</td>\n      <td>2</td>\n      <td>8</td>\n      <td>1958</td>\n      <td>0</td>\n      <td>0</td>\n      <td>0</td>\n      <td>994</td>\n      <td>1.0</td>\n    </tr>\n    <tr>\n      <th>2420</th>\n      <td>986</td>\n      <td>0</td>\n      <td>80</td>\n      <td>26</td>\n      <td>8</td>\n      <td>1316</td>\n      <td>0</td>\n      <td>0</td>\n      <td>0</td>\n      <td>1214</td>\n      <td>NaN</td>\n    </tr>\n    <tr>\n      <th>2819</th>\n      <td>1992</td>\n      <td>1</td>\n      <td>153</td>\n      <td>43</td>\n      <td>5</td>\n      <td>2179</td>\n      <td>1</td>\n      <td>0</td>\n      <td>0</td>\n      <td>883</td>\n      <td>NaN</td>\n    </tr>\n  </tbody>\n</table>\n</div>"
     },
     "execution_count": 26,
     "metadata": {},
     "output_type": "execute_result"
    }
   ],
   "source": [
    "#Далі розберемося з нульовими pixel_height\n",
    "# Таких записів ми маємо всього 4, це +- 0.1 відсоток. А до цього ж присутнє два записи де прайс рендж відсутній. Насправді я б їх викинув, але можна\n",
    "# спробувати такий варіант. З таблиці кореляції можна побачити що атрибут pixel_height не суттєво, але найбільше коррелює з pixel_width. Тому можна\n",
    "# спробувати дослідити до якого квартилю входять ті значення pixel_width у яких pixel_height 0 та взяти середнє pixel_height з того квартилю.\n",
    "df[df.pixel_height <= 0]"
   ],
   "metadata": {
    "collapsed": false,
    "ExecuteTime": {
     "end_time": "2023-11-10T17:18:13.371330563Z",
     "start_time": "2023-11-10T17:18:13.363991192Z"
    }
   },
   "id": "cdaf48e29f3bcfb5"
  },
  {
   "cell_type": "code",
   "execution_count": 27,
   "outputs": [
    {
     "data": {
      "text/plain": "      pixel_height  pixel_width\n0               20          756\n1              905         1988\n2             1263         1716\n3             1216         1786\n4             1208         1212\n...            ...          ...\n4015           767         1024\n4016           428          456\n4017          1088          255\n4018           365         1173\n4019          1135         1196\n\n[4020 rows x 2 columns]",
      "text/html": "<div>\n<style scoped>\n    .dataframe tbody tr th:only-of-type {\n        vertical-align: middle;\n    }\n\n    .dataframe tbody tr th {\n        vertical-align: top;\n    }\n\n    .dataframe thead th {\n        text-align: right;\n    }\n</style>\n<table border=\"1\" class=\"dataframe\">\n  <thead>\n    <tr style=\"text-align: right;\">\n      <th></th>\n      <th>pixel_height</th>\n      <th>pixel_width</th>\n    </tr>\n  </thead>\n  <tbody>\n    <tr>\n      <th>0</th>\n      <td>20</td>\n      <td>756</td>\n    </tr>\n    <tr>\n      <th>1</th>\n      <td>905</td>\n      <td>1988</td>\n    </tr>\n    <tr>\n      <th>2</th>\n      <td>1263</td>\n      <td>1716</td>\n    </tr>\n    <tr>\n      <th>3</th>\n      <td>1216</td>\n      <td>1786</td>\n    </tr>\n    <tr>\n      <th>4</th>\n      <td>1208</td>\n      <td>1212</td>\n    </tr>\n    <tr>\n      <th>...</th>\n      <td>...</td>\n      <td>...</td>\n    </tr>\n    <tr>\n      <th>4015</th>\n      <td>767</td>\n      <td>1024</td>\n    </tr>\n    <tr>\n      <th>4016</th>\n      <td>428</td>\n      <td>456</td>\n    </tr>\n    <tr>\n      <th>4017</th>\n      <td>1088</td>\n      <td>255</td>\n    </tr>\n    <tr>\n      <th>4018</th>\n      <td>365</td>\n      <td>1173</td>\n    </tr>\n    <tr>\n      <th>4019</th>\n      <td>1135</td>\n      <td>1196</td>\n    </tr>\n  </tbody>\n</table>\n<p>4020 rows × 2 columns</p>\n</div>"
     },
     "execution_count": 27,
     "metadata": {},
     "output_type": "execute_result"
    }
   ],
   "source": [
    "## Візьмемо наприклад перший запис де ширина 1987 він виходить за 75 квартиль, отримаємо звідти ширину и висоту і прослідкуємо тенденції\n",
    "\n",
    "df.loc[:, ['pixel_height', 'pixel_width']]\n",
    "\n",
    "# Особливих закономірностей не видно, але видно те що у більшості випадків ширина більше за висоту і все ж таки +- прослідкуваєьбся +- залежність але як \n",
    "# я і казав вище не сильно. Тому я покрутив і так і так і прийняв рішення замінити ці значення таким чином. Я отримаю серію різниць між шириною і висотою,\n",
    "# возьму звідти середнє. Та для кожного нашого 0 відніму від поточної ширини це середнє і таким чином заміню. Нема чіткою впевненості що це правильно, але\n",
    "# якщо врахувати те що у нас таких 4 записи з усієї генеральної сукупності і 2 записи с купуності яку ми будемо предіктиити то я думаю це не сильно \n",
    "# заафектить. Мені просто цікаво чи хоч трохи правильний в мене хід думок"
   ],
   "metadata": {
    "collapsed": false,
    "ExecuteTime": {
     "end_time": "2023-11-10T17:18:14.325127158Z",
     "start_time": "2023-11-10T17:18:14.318174428Z"
    }
   },
   "id": "bf40b909566e5dd8"
  },
  {
   "cell_type": "code",
   "execution_count": 28,
   "outputs": [
    {
     "name": "stderr",
     "output_type": "stream",
     "text": [
      "/tmp/ipykernel_191079/2455655435.py:7: SettingWithCopyWarning: \n",
      "A value is trying to be set on a copy of a slice from a DataFrame.\n",
      "Try using .loc[row_indexer,col_indexer] = value instead\n",
      "\n",
      "See the caveats in the documentation: https://pandas.pydata.org/pandas-docs/stable/user_guide/indexing.html#returning-a-view-versus-a-copy\n",
      "  df.loc[index, 'pixel_height'] = df.iloc[index].pixel_width - diff_mean\n"
     ]
    },
    {
     "data": {
      "text/plain": "Empty DataFrame\nColumns: [battery_power, bluetooth, weight, memory, n_cores, ram, dual_sim, wifi, pixel_height, pixel_width, price_range]\nIndex: []",
      "text/html": "<div>\n<style scoped>\n    .dataframe tbody tr th:only-of-type {\n        vertical-align: middle;\n    }\n\n    .dataframe tbody tr th {\n        vertical-align: top;\n    }\n\n    .dataframe thead th {\n        text-align: right;\n    }\n</style>\n<table border=\"1\" class=\"dataframe\">\n  <thead>\n    <tr style=\"text-align: right;\">\n      <th></th>\n      <th>battery_power</th>\n      <th>bluetooth</th>\n      <th>weight</th>\n      <th>memory</th>\n      <th>n_cores</th>\n      <th>ram</th>\n      <th>dual_sim</th>\n      <th>wifi</th>\n      <th>pixel_height</th>\n      <th>pixel_width</th>\n      <th>price_range</th>\n    </tr>\n  </thead>\n  <tbody>\n  </tbody>\n</table>\n</div>"
     },
     "execution_count": 28,
     "metadata": {},
     "output_type": "execute_result"
    }
   ],
   "source": [
    "#Заміняємо та перевіряємо\n",
    "pixel_height = df[df['pixel_height'] != 0].pixel_height\n",
    "\n",
    "diff_mean = (df['pixel_width'] - pixel_height).mean()\n",
    "\n",
    "for index in df[df.pixel_height <= 0].index:\n",
    "    df.loc[index, 'pixel_height'] = df.iloc[index].pixel_width - diff_mean\n",
    "\n",
    "df[df.pixel_height <= 0]"
   ],
   "metadata": {
    "collapsed": false,
    "ExecuteTime": {
     "end_time": "2023-11-10T17:18:15.555944346Z",
     "start_time": "2023-11-10T17:18:15.519708693Z"
    }
   },
   "id": "c985a52c74bb6e40"
  },
  {
   "cell_type": "code",
   "execution_count": 29,
   "outputs": [
    {
     "data": {
      "text/plain": "       battery_power    bluetooth       weight       memory      n_cores  \\\ncount    4020.000000  4020.000000  4020.000000  4020.000000  4020.000000   \nmean     1127.392289     0.374627   139.426617    27.362438     3.964925   \nstd       425.790696     0.484087    33.675572    18.112879     2.220046   \nmin       500.000000     0.000000    80.000000     2.000000     1.000000   \n25%       780.750000     0.000000   111.000000    12.000000     2.000000   \n50%       983.000000     0.000000   139.000000    22.000000     4.000000   \n75%      1489.000000     1.000000   168.000000    43.000000     6.000000   \nmax      1999.000000     1.000000   200.000000    64.000000     8.000000   \n\n               ram     dual_sim         wifi  pixel_height  pixel_width  \\\ncount  4020.000000  4020.000000  4020.000000   4020.000000  4020.000000   \nmean   1715.922637     0.507214     0.501990    673.666224  1116.360945   \nstd    1184.300498     0.500010     0.500058    404.104108   459.694423   \nmin       6.000000     0.000000     0.000000      1.000000   240.000000   \n25%     652.000000     0.000000     0.000000    366.000000   739.000000   \n50%    1489.500000     1.000000     1.000000    635.000000  1065.500000   \n75%    2746.000000     1.000000     1.000000    951.000000  1492.250000   \nmax    3998.000000     1.000000     1.000000   1960.000000  1998.000000   \n\n       price_range  \ncount  3020.000000  \nmean      1.331126  \nstd       0.940227  \nmin       0.000000  \n25%       1.000000  \n50%       1.000000  \n75%       2.000000  \nmax       3.000000  ",
      "text/html": "<div>\n<style scoped>\n    .dataframe tbody tr th:only-of-type {\n        vertical-align: middle;\n    }\n\n    .dataframe tbody tr th {\n        vertical-align: top;\n    }\n\n    .dataframe thead th {\n        text-align: right;\n    }\n</style>\n<table border=\"1\" class=\"dataframe\">\n  <thead>\n    <tr style=\"text-align: right;\">\n      <th></th>\n      <th>battery_power</th>\n      <th>bluetooth</th>\n      <th>weight</th>\n      <th>memory</th>\n      <th>n_cores</th>\n      <th>ram</th>\n      <th>dual_sim</th>\n      <th>wifi</th>\n      <th>pixel_height</th>\n      <th>pixel_width</th>\n      <th>price_range</th>\n    </tr>\n  </thead>\n  <tbody>\n    <tr>\n      <th>count</th>\n      <td>4020.000000</td>\n      <td>4020.000000</td>\n      <td>4020.000000</td>\n      <td>4020.000000</td>\n      <td>4020.000000</td>\n      <td>4020.000000</td>\n      <td>4020.000000</td>\n      <td>4020.000000</td>\n      <td>4020.000000</td>\n      <td>4020.000000</td>\n      <td>3020.000000</td>\n    </tr>\n    <tr>\n      <th>mean</th>\n      <td>1127.392289</td>\n      <td>0.374627</td>\n      <td>139.426617</td>\n      <td>27.362438</td>\n      <td>3.964925</td>\n      <td>1715.922637</td>\n      <td>0.507214</td>\n      <td>0.501990</td>\n      <td>673.666224</td>\n      <td>1116.360945</td>\n      <td>1.331126</td>\n    </tr>\n    <tr>\n      <th>std</th>\n      <td>425.790696</td>\n      <td>0.484087</td>\n      <td>33.675572</td>\n      <td>18.112879</td>\n      <td>2.220046</td>\n      <td>1184.300498</td>\n      <td>0.500010</td>\n      <td>0.500058</td>\n      <td>404.104108</td>\n      <td>459.694423</td>\n      <td>0.940227</td>\n    </tr>\n    <tr>\n      <th>min</th>\n      <td>500.000000</td>\n      <td>0.000000</td>\n      <td>80.000000</td>\n      <td>2.000000</td>\n      <td>1.000000</td>\n      <td>6.000000</td>\n      <td>0.000000</td>\n      <td>0.000000</td>\n      <td>1.000000</td>\n      <td>240.000000</td>\n      <td>0.000000</td>\n    </tr>\n    <tr>\n      <th>25%</th>\n      <td>780.750000</td>\n      <td>0.000000</td>\n      <td>111.000000</td>\n      <td>12.000000</td>\n      <td>2.000000</td>\n      <td>652.000000</td>\n      <td>0.000000</td>\n      <td>0.000000</td>\n      <td>366.000000</td>\n      <td>739.000000</td>\n      <td>1.000000</td>\n    </tr>\n    <tr>\n      <th>50%</th>\n      <td>983.000000</td>\n      <td>0.000000</td>\n      <td>139.000000</td>\n      <td>22.000000</td>\n      <td>4.000000</td>\n      <td>1489.500000</td>\n      <td>1.000000</td>\n      <td>1.000000</td>\n      <td>635.000000</td>\n      <td>1065.500000</td>\n      <td>1.000000</td>\n    </tr>\n    <tr>\n      <th>75%</th>\n      <td>1489.000000</td>\n      <td>1.000000</td>\n      <td>168.000000</td>\n      <td>43.000000</td>\n      <td>6.000000</td>\n      <td>2746.000000</td>\n      <td>1.000000</td>\n      <td>1.000000</td>\n      <td>951.000000</td>\n      <td>1492.250000</td>\n      <td>2.000000</td>\n    </tr>\n    <tr>\n      <th>max</th>\n      <td>1999.000000</td>\n      <td>1.000000</td>\n      <td>200.000000</td>\n      <td>64.000000</td>\n      <td>8.000000</td>\n      <td>3998.000000</td>\n      <td>1.000000</td>\n      <td>1.000000</td>\n      <td>1960.000000</td>\n      <td>1998.000000</td>\n      <td>3.000000</td>\n    </tr>\n  </tbody>\n</table>\n</div>"
     },
     "execution_count": 29,
     "metadata": {},
     "output_type": "execute_result"
    }
   ],
   "source": [
    "#Зробимо ще раз дескрайб\n",
    "\n",
    "df.describe()\n",
    "# Хм картина по pixel_height мене всеодно не радує. Було мінімальне 0, зараз 1 и максимальне 1960 - супер)) Треба щось робити\n",
    "# Але можна зазначити таку річ у нас по всій генеральній сукупності можна поділити девайси на два типи, там де кількість\n",
    "# пікселів по ширині більше за \n",
    "# кількість пікселів по висоті і навпаки. В попередньому cell я не ділив на множини бо в нас там pixel_height = 0 і не зрозуміло до якої він входить.\n",
    "# Тому ми просто перерахували висоту віднявши від ширини середню різницю."
   ],
   "metadata": {
    "collapsed": false,
    "ExecuteTime": {
     "end_time": "2023-11-10T17:18:16.660822424Z",
     "start_time": "2023-11-10T17:18:16.634659642Z"
    }
   },
   "id": "fa56a5b67e7dc879"
  },
  {
   "cell_type": "code",
   "execution_count": 30,
   "outputs": [
    {
     "name": "stdout",
     "output_type": "stream",
     "text": [
      "Mean of difference between height and width where HEIGHT BIGGER:  311.1067615658363\n",
      "Deviation:  223.71922494938542\n",
      "Mean of difference between width and height where WIDTH BIGGER:  565.3673065908192\n",
      "Deviation:  421.86902565276546\n"
     ]
    }
   ],
   "source": [
    "pixel_height = df[df['pixel_height'] != 0].pixel_height\n",
    "\n",
    "df_height_bigger = df[df['pixel_height'] > df['pixel_width']]\n",
    "height_bigger_diff = (df_height_bigger.pixel_height - df_height_bigger.pixel_width)\n",
    "height_bigger_diff_mean = height_bigger_diff.mean()\n",
    "\n",
    "df_width_bigger = df[df['pixel_height'] < df['pixel_width']]\n",
    "width_bigger_diff = (df_width_bigger.pixel_width - df_width_bigger.pixel_height)\n",
    "width_bigger_diff_mean = width_bigger_diff.mean()\n",
    "\n",
    "print('Mean of difference between height and width where HEIGHT BIGGER: ', height_bigger_diff_mean)\n",
    "print('Deviation: ', height_bigger_diff.std())\n",
    "\n",
    "print('Mean of difference between width and height where WIDTH BIGGER: ', width_bigger_diff_mean)\n",
    "print('Deviation: ', width_bigger_diff.std())\n",
    "\n",
    "# Ми порахували середню різницю між тим і тим атрибутом по двом множинам, середнє, та відхилення"
   ],
   "metadata": {
    "collapsed": false,
    "ExecuteTime": {
     "end_time": "2023-11-10T17:18:17.782081942Z",
     "start_time": "2023-11-10T17:18:17.768741607Z"
    }
   },
   "id": "4f3a6aadad99725b"
  },
  {
   "cell_type": "code",
   "execution_count": 31,
   "outputs": [
    {
     "data": {
      "text/plain": "       battery_power  bluetooth      weight      memory     n_cores  \\\ncount     562.000000      562.0  562.000000  562.000000  562.000000   \nmean      791.822064        0.0  138.546263   12.120996    2.537367   \nstd        29.566813        0.0   28.515415    2.886372    1.089338   \nmin       743.000000        0.0   88.000000    7.000000    1.000000   \n25%       767.000000        0.0  116.000000   10.000000    2.000000   \n50%       790.000000        0.0  139.000000   12.000000    2.500000   \n75%       818.750000        0.0  162.000000   14.000000    4.000000   \nmax       842.000000        0.0  188.000000   17.000000    4.000000   \n\n               ram    dual_sim        wifi  pixel_height  pixel_width  \\\ncount   562.000000  562.000000  562.000000    562.000000   562.000000   \nmean    494.508897    0.492883    0.480427    889.108541   578.001779   \nstd     280.454560    0.500395    0.500062    216.119720   231.516711   \nmin       6.000000    0.000000    0.000000    350.000000   240.000000   \n25%     252.500000    0.000000    0.000000    742.250000   384.500000   \n50%     502.500000    0.000000    0.000000    917.000000   527.500000   \n75%     737.000000    1.000000    1.000000   1076.750000   756.750000   \nmax    1002.000000    1.000000    1.000000   1199.000000  1160.000000   \n\n       price_range  \ncount        562.0  \nmean           1.0  \nstd            0.0  \nmin            1.0  \n25%            1.0  \n50%            1.0  \n75%            1.0  \nmax            1.0  ",
      "text/html": "<div>\n<style scoped>\n    .dataframe tbody tr th:only-of-type {\n        vertical-align: middle;\n    }\n\n    .dataframe tbody tr th {\n        vertical-align: top;\n    }\n\n    .dataframe thead th {\n        text-align: right;\n    }\n</style>\n<table border=\"1\" class=\"dataframe\">\n  <thead>\n    <tr style=\"text-align: right;\">\n      <th></th>\n      <th>battery_power</th>\n      <th>bluetooth</th>\n      <th>weight</th>\n      <th>memory</th>\n      <th>n_cores</th>\n      <th>ram</th>\n      <th>dual_sim</th>\n      <th>wifi</th>\n      <th>pixel_height</th>\n      <th>pixel_width</th>\n      <th>price_range</th>\n    </tr>\n  </thead>\n  <tbody>\n    <tr>\n      <th>count</th>\n      <td>562.000000</td>\n      <td>562.0</td>\n      <td>562.000000</td>\n      <td>562.000000</td>\n      <td>562.000000</td>\n      <td>562.000000</td>\n      <td>562.000000</td>\n      <td>562.000000</td>\n      <td>562.000000</td>\n      <td>562.000000</td>\n      <td>562.0</td>\n    </tr>\n    <tr>\n      <th>mean</th>\n      <td>791.822064</td>\n      <td>0.0</td>\n      <td>138.546263</td>\n      <td>12.120996</td>\n      <td>2.537367</td>\n      <td>494.508897</td>\n      <td>0.492883</td>\n      <td>0.480427</td>\n      <td>889.108541</td>\n      <td>578.001779</td>\n      <td>1.0</td>\n    </tr>\n    <tr>\n      <th>std</th>\n      <td>29.566813</td>\n      <td>0.0</td>\n      <td>28.515415</td>\n      <td>2.886372</td>\n      <td>1.089338</td>\n      <td>280.454560</td>\n      <td>0.500395</td>\n      <td>0.500062</td>\n      <td>216.119720</td>\n      <td>231.516711</td>\n      <td>0.0</td>\n    </tr>\n    <tr>\n      <th>min</th>\n      <td>743.000000</td>\n      <td>0.0</td>\n      <td>88.000000</td>\n      <td>7.000000</td>\n      <td>1.000000</td>\n      <td>6.000000</td>\n      <td>0.000000</td>\n      <td>0.000000</td>\n      <td>350.000000</td>\n      <td>240.000000</td>\n      <td>1.0</td>\n    </tr>\n    <tr>\n      <th>25%</th>\n      <td>767.000000</td>\n      <td>0.0</td>\n      <td>116.000000</td>\n      <td>10.000000</td>\n      <td>2.000000</td>\n      <td>252.500000</td>\n      <td>0.000000</td>\n      <td>0.000000</td>\n      <td>742.250000</td>\n      <td>384.500000</td>\n      <td>1.0</td>\n    </tr>\n    <tr>\n      <th>50%</th>\n      <td>790.000000</td>\n      <td>0.0</td>\n      <td>139.000000</td>\n      <td>12.000000</td>\n      <td>2.500000</td>\n      <td>502.500000</td>\n      <td>0.000000</td>\n      <td>0.000000</td>\n      <td>917.000000</td>\n      <td>527.500000</td>\n      <td>1.0</td>\n    </tr>\n    <tr>\n      <th>75%</th>\n      <td>818.750000</td>\n      <td>0.0</td>\n      <td>162.000000</td>\n      <td>14.000000</td>\n      <td>4.000000</td>\n      <td>737.000000</td>\n      <td>1.000000</td>\n      <td>1.000000</td>\n      <td>1076.750000</td>\n      <td>756.750000</td>\n      <td>1.0</td>\n    </tr>\n    <tr>\n      <th>max</th>\n      <td>842.000000</td>\n      <td>0.0</td>\n      <td>188.000000</td>\n      <td>17.000000</td>\n      <td>4.000000</td>\n      <td>1002.000000</td>\n      <td>1.000000</td>\n      <td>1.000000</td>\n      <td>1199.000000</td>\n      <td>1160.000000</td>\n      <td>1.0</td>\n    </tr>\n  </tbody>\n</table>\n</div>"
     },
     "execution_count": 31,
     "metadata": {},
     "output_type": "execute_result"
    }
   ],
   "source": [
    "df_height_bigger.describe()\n",
    "#Бачимо що по множині де висота більше за ширину +- адекватне співвідношення, тому ми візьмемо їх різницю за еталонну. Чому ми візьмемо за еталонну різницю\n",
    "# саме з цієї множини. Тому що за результатом дескрайбу вона не аномальне і співвідношення екранів за метриками виглядає гарамонійно. Нема великих різниць\n",
    "# між висотою та шириною. А коефіцієнт співвідношення не може бути різним в сторону де висота більше за ширину та навпаки. Ми вже не беремо до рорахнуку\n",
    "# метрику по типу 16:9 4;3 і тдб по перше ми не маємо цієї інформації в датасеті, по друге на мою думку вираховувати це в рамках цього датасету це оверкіл.\n",
    "# Отже ця різниця буде працювати в дві сторони"
   ],
   "metadata": {
    "collapsed": false,
    "ExecuteTime": {
     "end_time": "2023-11-10T17:18:18.883064226Z",
     "start_time": "2023-11-10T17:18:18.858763394Z"
    }
   },
   "id": "87bc31fbe8c6428c"
  },
  {
   "cell_type": "code",
   "execution_count": 32,
   "outputs": [
    {
     "data": {
      "text/plain": "       battery_power    bluetooth       weight       memory      n_cores  \\\ncount    3457.000000  3457.000000  3457.000000  3457.000000  3457.000000   \nmean     1182.033844     0.435638   139.567255    29.845820     4.197281   \nstd       435.160719     0.495912    34.447443    18.333466     2.270066   \nmin       500.000000     0.000000    80.000000     2.000000     1.000000   \n25%       796.000000     0.000000   110.000000    13.000000     2.000000   \n50%      1122.000000     0.000000   139.000000    28.000000     4.000000   \n75%      1563.000000     1.000000   169.000000    46.000000     6.000000   \nmax      1999.000000     1.000000   200.000000    64.000000     8.000000   \n\n               ram     dual_sim         wifi  pixel_height  pixel_width  \\\ncount  3457.000000  3457.000000  3457.000000   3457.000000  3457.000000   \nmean   1914.944461     0.509401     0.505351    638.571079  1203.938386   \nstd    1155.569005     0.499984     0.500044    416.561329   426.882760   \nmin       8.000000     0.000000     0.000000      1.000000   384.000000   \n25%     834.000000     0.000000     0.000000    322.000000   843.000000   \n50%    1850.000000     1.000000     1.000000    568.000000  1161.000000   \n75%    2915.000000     1.000000     1.000000    899.000000  1567.000000   \nmax    3998.000000     1.000000     1.000000   1960.000000  1998.000000   \n\n       price_range  \ncount  2457.000000  \nmean      1.407000  \nstd       1.027512  \nmin       0.000000  \n25%       1.000000  \n50%       1.000000  \n75%       2.000000  \nmax       3.000000  ",
      "text/html": "<div>\n<style scoped>\n    .dataframe tbody tr th:only-of-type {\n        vertical-align: middle;\n    }\n\n    .dataframe tbody tr th {\n        vertical-align: top;\n    }\n\n    .dataframe thead th {\n        text-align: right;\n    }\n</style>\n<table border=\"1\" class=\"dataframe\">\n  <thead>\n    <tr style=\"text-align: right;\">\n      <th></th>\n      <th>battery_power</th>\n      <th>bluetooth</th>\n      <th>weight</th>\n      <th>memory</th>\n      <th>n_cores</th>\n      <th>ram</th>\n      <th>dual_sim</th>\n      <th>wifi</th>\n      <th>pixel_height</th>\n      <th>pixel_width</th>\n      <th>price_range</th>\n    </tr>\n  </thead>\n  <tbody>\n    <tr>\n      <th>count</th>\n      <td>3457.000000</td>\n      <td>3457.000000</td>\n      <td>3457.000000</td>\n      <td>3457.000000</td>\n      <td>3457.000000</td>\n      <td>3457.000000</td>\n      <td>3457.000000</td>\n      <td>3457.000000</td>\n      <td>3457.000000</td>\n      <td>3457.000000</td>\n      <td>2457.000000</td>\n    </tr>\n    <tr>\n      <th>mean</th>\n      <td>1182.033844</td>\n      <td>0.435638</td>\n      <td>139.567255</td>\n      <td>29.845820</td>\n      <td>4.197281</td>\n      <td>1914.944461</td>\n      <td>0.509401</td>\n      <td>0.505351</td>\n      <td>638.571079</td>\n      <td>1203.938386</td>\n      <td>1.407000</td>\n    </tr>\n    <tr>\n      <th>std</th>\n      <td>435.160719</td>\n      <td>0.495912</td>\n      <td>34.447443</td>\n      <td>18.333466</td>\n      <td>2.270066</td>\n      <td>1155.569005</td>\n      <td>0.499984</td>\n      <td>0.500044</td>\n      <td>416.561329</td>\n      <td>426.882760</td>\n      <td>1.027512</td>\n    </tr>\n    <tr>\n      <th>min</th>\n      <td>500.000000</td>\n      <td>0.000000</td>\n      <td>80.000000</td>\n      <td>2.000000</td>\n      <td>1.000000</td>\n      <td>8.000000</td>\n      <td>0.000000</td>\n      <td>0.000000</td>\n      <td>1.000000</td>\n      <td>384.000000</td>\n      <td>0.000000</td>\n    </tr>\n    <tr>\n      <th>25%</th>\n      <td>796.000000</td>\n      <td>0.000000</td>\n      <td>110.000000</td>\n      <td>13.000000</td>\n      <td>2.000000</td>\n      <td>834.000000</td>\n      <td>0.000000</td>\n      <td>0.000000</td>\n      <td>322.000000</td>\n      <td>843.000000</td>\n      <td>1.000000</td>\n    </tr>\n    <tr>\n      <th>50%</th>\n      <td>1122.000000</td>\n      <td>0.000000</td>\n      <td>139.000000</td>\n      <td>28.000000</td>\n      <td>4.000000</td>\n      <td>1850.000000</td>\n      <td>1.000000</td>\n      <td>1.000000</td>\n      <td>568.000000</td>\n      <td>1161.000000</td>\n      <td>1.000000</td>\n    </tr>\n    <tr>\n      <th>75%</th>\n      <td>1563.000000</td>\n      <td>1.000000</td>\n      <td>169.000000</td>\n      <td>46.000000</td>\n      <td>6.000000</td>\n      <td>2915.000000</td>\n      <td>1.000000</td>\n      <td>1.000000</td>\n      <td>899.000000</td>\n      <td>1567.000000</td>\n      <td>2.000000</td>\n    </tr>\n    <tr>\n      <th>max</th>\n      <td>1999.000000</td>\n      <td>1.000000</td>\n      <td>200.000000</td>\n      <td>64.000000</td>\n      <td>8.000000</td>\n      <td>3998.000000</td>\n      <td>1.000000</td>\n      <td>1.000000</td>\n      <td>1960.000000</td>\n      <td>1998.000000</td>\n      <td>3.000000</td>\n    </tr>\n  </tbody>\n</table>\n</div>"
     },
     "execution_count": 32,
     "metadata": {},
     "output_type": "execute_result"
    }
   ],
   "source": [
    "df_width_bigger.describe()\n",
    "#Ось ми і локалізували аномалію"
   ],
   "metadata": {
    "collapsed": false,
    "ExecuteTime": {
     "end_time": "2023-11-10T17:18:19.805550625Z",
     "start_time": "2023-11-10T17:18:19.770822208Z"
    }
   },
   "id": "1b522f7500956172"
  },
  {
   "cell_type": "code",
   "execution_count": 33,
   "outputs": [
    {
     "data": {
      "text/plain": "      battery_power  bluetooth  weight  memory  n_cores   ram  dual_sim  wifi  \\\n0               842          0     188       7        2  2549         0     1   \n1              1021          1     136      53        3  2631         1     0   \n2               563          1     145      41        5  2603         1     0   \n3               615          1     131      10        6  2769         0     0   \n5              1859          0     164      22        1  1067         1     0   \n...             ...        ...     ...     ...      ...   ...       ...   ...   \n4008            780          0     118       9        1   249         1     0   \n4010            750          0     164      15        2   572         0     0   \n4013            754          0     145      15        4   591         1     0   \n4014            825          0     163       9        3    48         0     1   \n4018            809          0     123       7        2   112         1     0   \n\n      pixel_height  pixel_width  price_range  \n0             20.0          756          1.0  \n1            905.0         1988          2.0  \n2           1263.0         1716          2.0  \n3           1216.0         1786          2.0  \n5           1004.0         1654          1.0  \n...            ...          ...          ...  \n4008         627.0          993          1.0  \n4010         572.0         1108          1.0  \n4013         660.0         1143          1.0  \n4014         482.0          856          1.0  \n4018         365.0         1173          1.0  \n\n[2292 rows x 11 columns]",
      "text/html": "<div>\n<style scoped>\n    .dataframe tbody tr th:only-of-type {\n        vertical-align: middle;\n    }\n\n    .dataframe tbody tr th {\n        vertical-align: top;\n    }\n\n    .dataframe thead th {\n        text-align: right;\n    }\n</style>\n<table border=\"1\" class=\"dataframe\">\n  <thead>\n    <tr style=\"text-align: right;\">\n      <th></th>\n      <th>battery_power</th>\n      <th>bluetooth</th>\n      <th>weight</th>\n      <th>memory</th>\n      <th>n_cores</th>\n      <th>ram</th>\n      <th>dual_sim</th>\n      <th>wifi</th>\n      <th>pixel_height</th>\n      <th>pixel_width</th>\n      <th>price_range</th>\n    </tr>\n  </thead>\n  <tbody>\n    <tr>\n      <th>0</th>\n      <td>842</td>\n      <td>0</td>\n      <td>188</td>\n      <td>7</td>\n      <td>2</td>\n      <td>2549</td>\n      <td>0</td>\n      <td>1</td>\n      <td>20.0</td>\n      <td>756</td>\n      <td>1.0</td>\n    </tr>\n    <tr>\n      <th>1</th>\n      <td>1021</td>\n      <td>1</td>\n      <td>136</td>\n      <td>53</td>\n      <td>3</td>\n      <td>2631</td>\n      <td>1</td>\n      <td>0</td>\n      <td>905.0</td>\n      <td>1988</td>\n      <td>2.0</td>\n    </tr>\n    <tr>\n      <th>2</th>\n      <td>563</td>\n      <td>1</td>\n      <td>145</td>\n      <td>41</td>\n      <td>5</td>\n      <td>2603</td>\n      <td>1</td>\n      <td>0</td>\n      <td>1263.0</td>\n      <td>1716</td>\n      <td>2.0</td>\n    </tr>\n    <tr>\n      <th>3</th>\n      <td>615</td>\n      <td>1</td>\n      <td>131</td>\n      <td>10</td>\n      <td>6</td>\n      <td>2769</td>\n      <td>0</td>\n      <td>0</td>\n      <td>1216.0</td>\n      <td>1786</td>\n      <td>2.0</td>\n    </tr>\n    <tr>\n      <th>5</th>\n      <td>1859</td>\n      <td>0</td>\n      <td>164</td>\n      <td>22</td>\n      <td>1</td>\n      <td>1067</td>\n      <td>1</td>\n      <td>0</td>\n      <td>1004.0</td>\n      <td>1654</td>\n      <td>1.0</td>\n    </tr>\n    <tr>\n      <th>...</th>\n      <td>...</td>\n      <td>...</td>\n      <td>...</td>\n      <td>...</td>\n      <td>...</td>\n      <td>...</td>\n      <td>...</td>\n      <td>...</td>\n      <td>...</td>\n      <td>...</td>\n      <td>...</td>\n    </tr>\n    <tr>\n      <th>4008</th>\n      <td>780</td>\n      <td>0</td>\n      <td>118</td>\n      <td>9</td>\n      <td>1</td>\n      <td>249</td>\n      <td>1</td>\n      <td>0</td>\n      <td>627.0</td>\n      <td>993</td>\n      <td>1.0</td>\n    </tr>\n    <tr>\n      <th>4010</th>\n      <td>750</td>\n      <td>0</td>\n      <td>164</td>\n      <td>15</td>\n      <td>2</td>\n      <td>572</td>\n      <td>0</td>\n      <td>0</td>\n      <td>572.0</td>\n      <td>1108</td>\n      <td>1.0</td>\n    </tr>\n    <tr>\n      <th>4013</th>\n      <td>754</td>\n      <td>0</td>\n      <td>145</td>\n      <td>15</td>\n      <td>4</td>\n      <td>591</td>\n      <td>1</td>\n      <td>0</td>\n      <td>660.0</td>\n      <td>1143</td>\n      <td>1.0</td>\n    </tr>\n    <tr>\n      <th>4014</th>\n      <td>825</td>\n      <td>0</td>\n      <td>163</td>\n      <td>9</td>\n      <td>3</td>\n      <td>48</td>\n      <td>0</td>\n      <td>1</td>\n      <td>482.0</td>\n      <td>856</td>\n      <td>1.0</td>\n    </tr>\n    <tr>\n      <th>4018</th>\n      <td>809</td>\n      <td>0</td>\n      <td>123</td>\n      <td>7</td>\n      <td>2</td>\n      <td>112</td>\n      <td>1</td>\n      <td>0</td>\n      <td>365.0</td>\n      <td>1173</td>\n      <td>1.0</td>\n    </tr>\n  </tbody>\n</table>\n<p>2292 rows × 11 columns</p>\n</div>"
     },
     "execution_count": 33,
     "metadata": {},
     "output_type": "execute_result"
    }
   ],
   "source": [
    "# Тепер нам потрібно знайти записи по колонці pixel_height в тій множині у яких різниця між атрибутами аномально відхиляється від еталонної. \n",
    "# Тому що не дуже реалістично коли по ширині у нас 1900 пікселей, а по висоті 4 наприклад))\n",
    "\n",
    "# ВВиглядає страшно але насправді цей запис виглядає так, просто якщо я буду юзати df_width_bigger я не отримаю оригінальні індекси з нашого датафрейму,\n",
    "# тому я його інтерпретивував так\n",
    "# abnormal_pixel_height_df = df_width_bigger[(df_width_bigger['pixel_width'] - df_width_bigger['pixel_height']) > height_bigger_diff_mean]\n",
    "\n",
    "abnormal_pixel_height_df = df[df['pixel_height'] < df['pixel_width']][(df[df['pixel_height'] < df['pixel_width']][\n",
    "                                                                           'pixel_width'] -\n",
    "                                                                       df[df['pixel_height'] < df['pixel_width']][\n",
    "                                                                           'pixel_height']) > height_bigger_diff_mean]\n",
    "abnormal_pixel_height_df"
   ],
   "metadata": {
    "collapsed": false,
    "ExecuteTime": {
     "end_time": "2023-11-10T17:18:23.136567986Z",
     "start_time": "2023-11-10T17:18:23.113429223Z"
    }
   },
   "id": "f6230fb5edcee154"
  },
  {
   "cell_type": "markdown",
   "source": [],
   "metadata": {
    "collapsed": false
   },
   "id": "9268904d7ead734"
  },
  {
   "cell_type": "code",
   "execution_count": 34,
   "outputs": [
    {
     "name": "stderr",
     "output_type": "stream",
     "text": [
      "/tmp/ipykernel_191079/120537210.py:8: SettingWithCopyWarning: \n",
      "A value is trying to be set on a copy of a slice from a DataFrame.\n",
      "Try using .loc[row_indexer,col_indexer] = value instead\n",
      "\n",
      "See the caveats in the documentation: https://pandas.pydata.org/pandas-docs/stable/user_guide/indexing.html#returning-a-view-versus-a-copy\n",
      "  df['pixel_height'] = pd.to_numeric(df['pixel_height'], downcast='integer', errors='coerce')\n"
     ]
    },
    {
     "data": {
      "text/plain": "       battery_power    bluetooth       weight       memory      n_cores  \\\ncount    4020.000000  4020.000000  4020.000000  4020.000000  4020.000000   \nmean     1127.392289     0.374627   139.426617    27.362438     3.964925   \nstd       425.790696     0.484087    33.675572    18.112879     2.220046   \nmin       500.000000     0.000000    80.000000     2.000000     1.000000   \n25%       780.750000     0.000000   111.000000    12.000000     2.000000   \n50%       983.000000     0.000000   139.000000    22.000000     4.000000   \n75%      1489.000000     1.000000   168.000000    43.000000     6.000000   \nmax      1999.000000     1.000000   200.000000    64.000000     8.000000   \n\n               ram     dual_sim         wifi  pixel_height  pixel_width  \\\ncount  4020.000000  4020.000000  4020.000000   4020.000000  4020.000000   \nmean   1715.922637     0.507214     0.501990    938.179104  1116.360945   \nstd    1184.300498     0.500010     0.500058    391.369800   459.694423   \nmin       6.000000     0.000000     0.000000    190.000000   240.000000   \n25%     652.000000     0.000000     0.000000    628.000000   739.000000   \n50%    1489.500000     1.000000     1.000000    902.000000  1065.500000   \n75%    2746.000000     1.000000     1.000000   1225.250000  1492.250000   \nmax    3998.000000     1.000000     1.000000   1960.000000  1998.000000   \n\n       price_range  \ncount  3020.000000  \nmean      1.331126  \nstd       0.940227  \nmin       0.000000  \n25%       1.000000  \n50%       1.000000  \n75%       2.000000  \nmax       3.000000  ",
      "text/html": "<div>\n<style scoped>\n    .dataframe tbody tr th:only-of-type {\n        vertical-align: middle;\n    }\n\n    .dataframe tbody tr th {\n        vertical-align: top;\n    }\n\n    .dataframe thead th {\n        text-align: right;\n    }\n</style>\n<table border=\"1\" class=\"dataframe\">\n  <thead>\n    <tr style=\"text-align: right;\">\n      <th></th>\n      <th>battery_power</th>\n      <th>bluetooth</th>\n      <th>weight</th>\n      <th>memory</th>\n      <th>n_cores</th>\n      <th>ram</th>\n      <th>dual_sim</th>\n      <th>wifi</th>\n      <th>pixel_height</th>\n      <th>pixel_width</th>\n      <th>price_range</th>\n    </tr>\n  </thead>\n  <tbody>\n    <tr>\n      <th>count</th>\n      <td>4020.000000</td>\n      <td>4020.000000</td>\n      <td>4020.000000</td>\n      <td>4020.000000</td>\n      <td>4020.000000</td>\n      <td>4020.000000</td>\n      <td>4020.000000</td>\n      <td>4020.000000</td>\n      <td>4020.000000</td>\n      <td>4020.000000</td>\n      <td>3020.000000</td>\n    </tr>\n    <tr>\n      <th>mean</th>\n      <td>1127.392289</td>\n      <td>0.374627</td>\n      <td>139.426617</td>\n      <td>27.362438</td>\n      <td>3.964925</td>\n      <td>1715.922637</td>\n      <td>0.507214</td>\n      <td>0.501990</td>\n      <td>938.179104</td>\n      <td>1116.360945</td>\n      <td>1.331126</td>\n    </tr>\n    <tr>\n      <th>std</th>\n      <td>425.790696</td>\n      <td>0.484087</td>\n      <td>33.675572</td>\n      <td>18.112879</td>\n      <td>2.220046</td>\n      <td>1184.300498</td>\n      <td>0.500010</td>\n      <td>0.500058</td>\n      <td>391.369800</td>\n      <td>459.694423</td>\n      <td>0.940227</td>\n    </tr>\n    <tr>\n      <th>min</th>\n      <td>500.000000</td>\n      <td>0.000000</td>\n      <td>80.000000</td>\n      <td>2.000000</td>\n      <td>1.000000</td>\n      <td>6.000000</td>\n      <td>0.000000</td>\n      <td>0.000000</td>\n      <td>190.000000</td>\n      <td>240.000000</td>\n      <td>0.000000</td>\n    </tr>\n    <tr>\n      <th>25%</th>\n      <td>780.750000</td>\n      <td>0.000000</td>\n      <td>111.000000</td>\n      <td>12.000000</td>\n      <td>2.000000</td>\n      <td>652.000000</td>\n      <td>0.000000</td>\n      <td>0.000000</td>\n      <td>628.000000</td>\n      <td>739.000000</td>\n      <td>1.000000</td>\n    </tr>\n    <tr>\n      <th>50%</th>\n      <td>983.000000</td>\n      <td>0.000000</td>\n      <td>139.000000</td>\n      <td>22.000000</td>\n      <td>4.000000</td>\n      <td>1489.500000</td>\n      <td>1.000000</td>\n      <td>1.000000</td>\n      <td>902.000000</td>\n      <td>1065.500000</td>\n      <td>1.000000</td>\n    </tr>\n    <tr>\n      <th>75%</th>\n      <td>1489.000000</td>\n      <td>1.000000</td>\n      <td>168.000000</td>\n      <td>43.000000</td>\n      <td>6.000000</td>\n      <td>2746.000000</td>\n      <td>1.000000</td>\n      <td>1.000000</td>\n      <td>1225.250000</td>\n      <td>1492.250000</td>\n      <td>2.000000</td>\n    </tr>\n    <tr>\n      <th>max</th>\n      <td>1999.000000</td>\n      <td>1.000000</td>\n      <td>200.000000</td>\n      <td>64.000000</td>\n      <td>8.000000</td>\n      <td>3998.000000</td>\n      <td>1.000000</td>\n      <td>1.000000</td>\n      <td>1960.000000</td>\n      <td>1998.000000</td>\n      <td>3.000000</td>\n    </tr>\n  </tbody>\n</table>\n</div>"
     },
     "execution_count": 34,
     "metadata": {},
     "output_type": "execute_result"
    }
   ],
   "source": [
    "#Знайшовши всі аномальні записи, ми перерахуєм в них висоту віднявши від ширини середню еталонну різницю.\n",
    "\n",
    "import math\n",
    "\n",
    "#Перерахуємо pixel_height та перевіримо\n",
    "for index in abnormal_pixel_height_df.index:\n",
    "    df.loc[index, 'pixel_height'] = math.ceil(df.iloc[index].pixel_width - height_bigger_diff_mean)\n",
    "df['pixel_height'] = pd.to_numeric(df['pixel_height'], downcast='integer', errors='coerce')\n",
    "\n",
    "df.describe()\n",
    "# Тепер ми бачимо більш менш прийнятну картину де кожен аттрибут більш мен гарні метрики, окрім ram, але ми ще ним не займались. І наші pixel-height \n",
    "# pixel_width виглядають не дуже через різницю між максиммальним та мінімальним, але на ці атрибути треба дивитись у співвідношені, тому все ок, \n",
    "# телефони можуть буть маленькими з маленьким дозволом екрану"
   ],
   "metadata": {
    "collapsed": false,
    "ExecuteTime": {
     "end_time": "2023-11-10T17:18:28.028829329Z",
     "start_time": "2023-11-10T17:18:27.762273021Z"
    }
   },
   "id": "94902ed60cfb6baf"
  },
  {
   "cell_type": "code",
   "execution_count": 193,
   "outputs": [],
   "source": [
    "#Вже на очищених данних натренуємо нашу нейромережу. Зробимо той самий хід, який я робив в попередній домашці. \n",
    "# Так як в нас немає тру вектора з прайс ренджом, вони в нас пропущені і нам їх потрібно запредіктити, \n",
    "# побудуємо та протестуємо нейромережу на данних де є прайс рендж, доведемо її до гарної точності, і після \n",
    "# цього застосуємо на наших пропусках\n",
    "\n",
    "#Отримаємо датафрем с прайс ренджом без пропусків\n",
    "df_with_true_value = df[df['price_range'].notnull()]\n",
    "#Отримаємо датафрем с пропущеним прайс ренджом\n",
    "df_with_skipped_target = df[df['price_range'].isnull()]\n",
    "\n",
    "#Отримаємо матрицю без прайс ренджа та вектор з прайс ренджом\n",
    "X = df_with_true_value.drop(columns=['price_range'])\n",
    "Y = df_with_true_value['price_range']\n",
    "\n",
    "from fast_ml.model_development import train_valid_test_split\n",
    "\n",
    "# Засплітив дані моднявим способом\n",
    "X_train, Y_train, X_valid, Y_valid, X_test, Y_test = (\n",
    "    train_valid_test_split(df_with_true_value, target='price_range', valid_size=0.1, test_size=0.1, train_size=0.8))\n",
    "\n"
   ],
   "metadata": {
    "collapsed": false,
    "ExecuteTime": {
     "end_time": "2023-11-11T14:36:38.397475608Z",
     "start_time": "2023-11-11T14:36:38.379202147Z"
    }
   },
   "id": "7095c0ab34749818"
  },
  {
   "cell_type": "code",
   "execution_count": 233,
   "outputs": [],
   "source": [
    "# В нас в сплітах перевищує значення прайсу 1, це саме те скупчення прайс ренджів де у нас низька ram з якою я нерозібрався в попередній домашці, тому є невеликий \n",
    "# дисбаланс данних. У нас 50 відсотків прайсів 1 і інших 50 відсотків. Але я пробув робити і оверсемплінг і андерссемплінг і сильно це не повпливало на результат \n",
    "# роботи моделі. Тому я і кажу що дисбаланс невеликий.\n",
    "\n",
    "# from imblearn.over_sampling import SMOTE\n",
    "# \n",
    "# sampler = SMOTE()\n",
    "# \n",
    "# X_train_sampled, Y_train_sampled = sampler.fit_resample(X_train, Y_train)\n",
    "# X_valid_sampled, Y_valid_sampled =sampler.fit_resample(X_valid, Y_valid)\n",
    "# X_test_sampled, Y_test_sampled =sampler.fit_resample(X_test, Y_test)"
   ],
   "metadata": {
    "collapsed": false,
    "ExecuteTime": {
     "end_time": "2023-11-11T15:03:09.631027098Z",
     "start_time": "2023-11-11T15:03:09.588326888Z"
    }
   },
   "id": "e0533a9b2a452f5c"
  },
  {
   "cell_type": "code",
   "execution_count": 173,
   "outputs": [],
   "source": [
    "# Ох скільки я провозився з імпортом того тензору)) Все вирішилось налаштуванням енву\n",
    "from tensorflow import keras\n",
    "from keras.layers import LeakyReLU\n",
    "from keras.callbacks import EarlyStopping"
   ],
   "metadata": {
    "collapsed": false,
    "ExecuteTime": {
     "end_time": "2023-11-11T14:18:44.656316242Z",
     "start_time": "2023-11-11T14:18:44.649322644Z"
    }
   },
   "id": "a23ea5c4a166d5ba"
  },
  {
   "cell_type": "code",
   "execution_count": 242,
   "outputs": [
    {
     "name": "stdout",
     "output_type": "stream",
     "text": [
      "Epoch 1/100\n",
      "10/10 [==============================] - 1s 12ms/step - loss: 20.8314 - accuracy: 0.3300 - val_loss: 17.7793 - val_accuracy: 0.2649\n",
      "Epoch 2/100\n",
      "10/10 [==============================] - 0s 3ms/step - loss: 11.2499 - accuracy: 0.3367 - val_loss: 8.5524 - val_accuracy: 0.4238\n",
      "Epoch 3/100\n",
      "10/10 [==============================] - 0s 3ms/step - loss: 6.2830 - accuracy: 0.3700 - val_loss: 4.6683 - val_accuracy: 0.5066\n",
      "Epoch 4/100\n",
      "10/10 [==============================] - 0s 3ms/step - loss: 3.2758 - accuracy: 0.4833 - val_loss: 2.1691 - val_accuracy: 0.5265\n",
      "Epoch 5/100\n",
      "10/10 [==============================] - 0s 3ms/step - loss: 2.1228 - accuracy: 0.5100 - val_loss: 2.0030 - val_accuracy: 0.5497\n",
      "Epoch 6/100\n",
      "10/10 [==============================] - 0s 3ms/step - loss: 1.6755 - accuracy: 0.5900 - val_loss: 1.9442 - val_accuracy: 0.5596\n",
      "Epoch 7/100\n",
      "10/10 [==============================] - 0s 3ms/step - loss: 2.2215 - accuracy: 0.4933 - val_loss: 1.6961 - val_accuracy: 0.5563\n",
      "Epoch 8/100\n",
      "10/10 [==============================] - 0s 3ms/step - loss: 1.7426 - accuracy: 0.5167 - val_loss: 1.6795 - val_accuracy: 0.5464\n",
      "Epoch 9/100\n",
      "10/10 [==============================] - 0s 3ms/step - loss: 1.9577 - accuracy: 0.5000 - val_loss: 1.7480 - val_accuracy: 0.5695\n",
      "Epoch 10/100\n",
      "10/10 [==============================] - 0s 3ms/step - loss: 1.3560 - accuracy: 0.6033 - val_loss: 1.4912 - val_accuracy: 0.5629\n",
      "Epoch 11/100\n",
      "10/10 [==============================] - 0s 3ms/step - loss: 1.3860 - accuracy: 0.5700 - val_loss: 1.7357 - val_accuracy: 0.5430\n",
      "Epoch 12/100\n",
      "10/10 [==============================] - 0s 3ms/step - loss: 1.7961 - accuracy: 0.5200 - val_loss: 1.9326 - val_accuracy: 0.5927\n",
      "Epoch 13/100\n",
      "10/10 [==============================] - 0s 3ms/step - loss: 1.3469 - accuracy: 0.5833 - val_loss: 1.2532 - val_accuracy: 0.5894\n",
      "Epoch 14/100\n",
      "10/10 [==============================] - 0s 3ms/step - loss: 1.3424 - accuracy: 0.5633 - val_loss: 1.3981 - val_accuracy: 0.6093\n",
      "Epoch 15/100\n",
      "10/10 [==============================] - 0s 3ms/step - loss: 1.3578 - accuracy: 0.5567 - val_loss: 1.2261 - val_accuracy: 0.5695\n",
      "Epoch 16/100\n",
      "10/10 [==============================] - 0s 3ms/step - loss: 1.0922 - accuracy: 0.5933 - val_loss: 1.0602 - val_accuracy: 0.6126\n",
      "Epoch 17/100\n",
      "10/10 [==============================] - 0s 3ms/step - loss: 1.0522 - accuracy: 0.5734 - val_loss: 0.9922 - val_accuracy: 0.6225\n",
      "Epoch 18/100\n",
      "10/10 [==============================] - 0s 3ms/step - loss: 1.1462 - accuracy: 0.5400 - val_loss: 1.0563 - val_accuracy: 0.5861\n",
      "Epoch 19/100\n",
      "10/10 [==============================] - 0s 3ms/step - loss: 1.0199 - accuracy: 0.5700 - val_loss: 1.3046 - val_accuracy: 0.5795\n",
      "Epoch 20/100\n",
      "10/10 [==============================] - 0s 3ms/step - loss: 1.1525 - accuracy: 0.6033 - val_loss: 1.2360 - val_accuracy: 0.5629\n",
      "Epoch 21/100\n",
      "10/10 [==============================] - 0s 3ms/step - loss: 1.2335 - accuracy: 0.5733 - val_loss: 1.0200 - val_accuracy: 0.5894\n",
      "Epoch 22/100\n",
      "10/10 [==============================] - 0s 3ms/step - loss: 1.2009 - accuracy: 0.5767 - val_loss: 1.3608 - val_accuracy: 0.5795\n",
      "Epoch 23/100\n",
      "10/10 [==============================] - 0s 3ms/step - loss: 1.2038 - accuracy: 0.5733 - val_loss: 0.8178 - val_accuracy: 0.6755\n",
      "Epoch 24/100\n",
      "10/10 [==============================] - 0s 3ms/step - loss: 0.9514 - accuracy: 0.6033 - val_loss: 0.8477 - val_accuracy: 0.6755\n",
      "Epoch 25/100\n",
      "10/10 [==============================] - 0s 3ms/step - loss: 0.8509 - accuracy: 0.6818 - val_loss: 1.3655 - val_accuracy: 0.5728\n",
      "Epoch 26/100\n",
      "10/10 [==============================] - 0s 3ms/step - loss: 1.5457 - accuracy: 0.6200 - val_loss: 1.9384 - val_accuracy: 0.4570\n",
      "Epoch 27/100\n",
      "10/10 [==============================] - 0s 3ms/step - loss: 1.9114 - accuracy: 0.5333 - val_loss: 2.3593 - val_accuracy: 0.6060\n",
      "Epoch 28/100\n",
      "10/10 [==============================] - 0s 3ms/step - loss: 2.0574 - accuracy: 0.5500 - val_loss: 2.0298 - val_accuracy: 0.5497\n",
      "Epoch 29/100\n",
      "10/10 [==============================] - 0s 4ms/step - loss: 1.9754 - accuracy: 0.5800 - val_loss: 1.2491 - val_accuracy: 0.5795\n",
      "Epoch 30/100\n",
      "10/10 [==============================] - 0s 3ms/step - loss: 1.4949 - accuracy: 0.5667 - val_loss: 1.2191 - val_accuracy: 0.6093\n",
      "Epoch 31/100\n",
      "10/10 [==============================] - 0s 3ms/step - loss: 1.4316 - accuracy: 0.6267 - val_loss: 2.2243 - val_accuracy: 0.4834\n",
      "Epoch 32/100\n",
      "10/10 [==============================] - 0s 3ms/step - loss: 1.5278 - accuracy: 0.5867 - val_loss: 1.3581 - val_accuracy: 0.6556\n",
      "Epoch 33/100\n",
      "10/10 [==============================] - 0s 3ms/step - loss: 1.2987 - accuracy: 0.6119 - val_loss: 1.1732 - val_accuracy: 0.6556\n",
      "Epoch 34/100\n",
      "10/10 [==============================] - 0s 3ms/step - loss: 1.1056 - accuracy: 0.6333 - val_loss: 1.0755 - val_accuracy: 0.6391\n",
      "Epoch 35/100\n",
      "10/10 [==============================] - 0s 3ms/step - loss: 0.8514 - accuracy: 0.6300 - val_loss: 1.1222 - val_accuracy: 0.6093\n",
      "Epoch 36/100\n",
      "10/10 [==============================] - 0s 3ms/step - loss: 1.0579 - accuracy: 0.6167 - val_loss: 0.8445 - val_accuracy: 0.6755\n",
      "Epoch 37/100\n",
      "10/10 [==============================] - 0s 3ms/step - loss: 0.9887 - accuracy: 0.6500 - val_loss: 1.2696 - val_accuracy: 0.5960\n",
      "Epoch 38/100\n",
      "10/10 [==============================] - 0s 3ms/step - loss: 1.1733 - accuracy: 0.6333 - val_loss: 0.8574 - val_accuracy: 0.6887\n",
      "Epoch 39/100\n",
      "10/10 [==============================] - 0s 3ms/step - loss: 1.1546 - accuracy: 0.6367 - val_loss: 1.8504 - val_accuracy: 0.6788\n",
      "Epoch 40/100\n",
      "10/10 [==============================] - 0s 3ms/step - loss: 1.3227 - accuracy: 0.6300 - val_loss: 1.3143 - val_accuracy: 0.5993\n",
      "Epoch 41/100\n",
      "10/10 [==============================] - 0s 3ms/step - loss: 0.9150 - accuracy: 0.6783 - val_loss: 0.8648 - val_accuracy: 0.6921\n",
      "Epoch 42/100\n",
      "10/10 [==============================] - 0s 3ms/step - loss: 0.8076 - accuracy: 0.6600 - val_loss: 1.0154 - val_accuracy: 0.6457\n",
      "Epoch 43/100\n",
      "10/10 [==============================] - 0s 3ms/step - loss: 0.8914 - accuracy: 0.6967 - val_loss: 0.9321 - val_accuracy: 0.6457\n",
      "Epoch 44/100\n",
      "10/10 [==============================] - 0s 3ms/step - loss: 1.2543 - accuracy: 0.6467 - val_loss: 1.3718 - val_accuracy: 0.6457\n",
      "Epoch 45/100\n",
      "10/10 [==============================] - 0s 3ms/step - loss: 0.7363 - accuracy: 0.6867 - val_loss: 0.8303 - val_accuracy: 0.6689\n",
      "Epoch 46/100\n",
      "10/10 [==============================] - 0s 3ms/step - loss: 0.7765 - accuracy: 0.6967 - val_loss: 0.9595 - val_accuracy: 0.6623\n",
      "Epoch 47/100\n",
      "10/10 [==============================] - 0s 3ms/step - loss: 0.9136 - accuracy: 0.6700 - val_loss: 0.7957 - val_accuracy: 0.6921\n",
      "Epoch 48/100\n",
      "10/10 [==============================] - 0s 3ms/step - loss: 1.0105 - accuracy: 0.6233 - val_loss: 0.8435 - val_accuracy: 0.6821\n",
      "Epoch 49/100\n",
      "10/10 [==============================] - 0s 3ms/step - loss: 0.8306 - accuracy: 0.7098 - val_loss: 0.7873 - val_accuracy: 0.6854\n",
      "Epoch 50/100\n",
      "10/10 [==============================] - 0s 3ms/step - loss: 0.7976 - accuracy: 0.6933 - val_loss: 0.7490 - val_accuracy: 0.6755\n",
      "Epoch 51/100\n",
      "10/10 [==============================] - 0s 3ms/step - loss: 0.7655 - accuracy: 0.6900 - val_loss: 0.9241 - val_accuracy: 0.6689\n",
      "Epoch 52/100\n",
      "10/10 [==============================] - 0s 3ms/step - loss: 0.8948 - accuracy: 0.6800 - val_loss: 1.0988 - val_accuracy: 0.5861\n",
      "Epoch 53/100\n",
      "10/10 [==============================] - 0s 3ms/step - loss: 1.0400 - accuracy: 0.6700 - val_loss: 1.1995 - val_accuracy: 0.6060\n",
      "Epoch 54/100\n",
      "10/10 [==============================] - 0s 3ms/step - loss: 0.9318 - accuracy: 0.6600 - val_loss: 0.7903 - val_accuracy: 0.7285\n",
      "Epoch 55/100\n",
      "10/10 [==============================] - 0s 3ms/step - loss: 0.8426 - accuracy: 0.7133 - val_loss: 0.8608 - val_accuracy: 0.6821\n",
      "Epoch 56/100\n",
      "10/10 [==============================] - 0s 3ms/step - loss: 0.7177 - accuracy: 0.6733 - val_loss: 0.8073 - val_accuracy: 0.6954\n",
      "Epoch 57/100\n",
      "10/10 [==============================] - 0s 3ms/step - loss: 0.6729 - accuracy: 0.6993 - val_loss: 0.9012 - val_accuracy: 0.6755\n",
      "Epoch 58/100\n",
      "10/10 [==============================] - 0s 3ms/step - loss: 0.9245 - accuracy: 0.6633 - val_loss: 0.8942 - val_accuracy: 0.6656\n",
      "Epoch 59/100\n",
      "10/10 [==============================] - 0s 3ms/step - loss: 0.6881 - accuracy: 0.7200 - val_loss: 0.7439 - val_accuracy: 0.7020\n",
      "Epoch 60/100\n",
      "10/10 [==============================] - 0s 3ms/step - loss: 0.7074 - accuracy: 0.6900 - val_loss: 0.7100 - val_accuracy: 0.7285\n",
      "Epoch 61/100\n",
      "10/10 [==============================] - 0s 3ms/step - loss: 0.7061 - accuracy: 0.7100 - val_loss: 0.9511 - val_accuracy: 0.6424\n",
      "Epoch 62/100\n",
      "10/10 [==============================] - 0s 3ms/step - loss: 0.8097 - accuracy: 0.6667 - val_loss: 0.7386 - val_accuracy: 0.6887\n",
      "Epoch 63/100\n",
      "10/10 [==============================] - 0s 3ms/step - loss: 0.6588 - accuracy: 0.7000 - val_loss: 0.6946 - val_accuracy: 0.7086\n",
      "Epoch 64/100\n",
      "10/10 [==============================] - 0s 3ms/step - loss: 0.7694 - accuracy: 0.7167 - val_loss: 0.9049 - val_accuracy: 0.6821\n",
      "Epoch 65/100\n",
      "10/10 [==============================] - 0s 4ms/step - loss: 0.9203 - accuracy: 0.6434 - val_loss: 0.6915 - val_accuracy: 0.7219\n",
      "Epoch 66/100\n",
      "10/10 [==============================] - 0s 3ms/step - loss: 0.9161 - accuracy: 0.5867 - val_loss: 0.9581 - val_accuracy: 0.6225\n",
      "Epoch 67/100\n",
      "10/10 [==============================] - 0s 3ms/step - loss: 0.8151 - accuracy: 0.7100 - val_loss: 0.9978 - val_accuracy: 0.6258\n",
      "Epoch 68/100\n",
      "10/10 [==============================] - 0s 3ms/step - loss: 1.1089 - accuracy: 0.6333 - val_loss: 0.9808 - val_accuracy: 0.6358\n",
      "Epoch 69/100\n",
      "10/10 [==============================] - 0s 3ms/step - loss: 0.8877 - accuracy: 0.6933 - val_loss: 1.0181 - val_accuracy: 0.6291\n",
      "Epoch 70/100\n",
      "10/10 [==============================] - 0s 3ms/step - loss: 1.1208 - accuracy: 0.6633 - val_loss: 0.7293 - val_accuracy: 0.6987\n",
      "Epoch 71/100\n",
      "10/10 [==============================] - 0s 3ms/step - loss: 1.2165 - accuracy: 0.6967 - val_loss: 0.9825 - val_accuracy: 0.6358\n",
      "Epoch 72/100\n",
      "10/10 [==============================] - 0s 3ms/step - loss: 1.0941 - accuracy: 0.6767 - val_loss: 1.0529 - val_accuracy: 0.6722\n",
      "Epoch 73/100\n",
      "10/10 [==============================] - 0s 4ms/step - loss: 0.8179 - accuracy: 0.7063 - val_loss: 0.8024 - val_accuracy: 0.6755\n",
      "Epoch 74/100\n",
      "10/10 [==============================] - 0s 3ms/step - loss: 0.7595 - accuracy: 0.7000 - val_loss: 1.1363 - val_accuracy: 0.6755\n",
      "Epoch 75/100\n",
      "10/10 [==============================] - 0s 3ms/step - loss: 0.9450 - accuracy: 0.6700 - val_loss: 1.1103 - val_accuracy: 0.6821\n",
      "Epoch 76/100\n",
      "10/10 [==============================] - 0s 3ms/step - loss: 1.0087 - accuracy: 0.6533 - val_loss: 1.0464 - val_accuracy: 0.6854\n",
      "Epoch 77/100\n",
      "10/10 [==============================] - 0s 3ms/step - loss: 0.8063 - accuracy: 0.7033 - val_loss: 0.7352 - val_accuracy: 0.7020\n",
      "Epoch 78/100\n",
      "10/10 [==============================] - 0s 3ms/step - loss: 0.8638 - accuracy: 0.6500 - val_loss: 0.6525 - val_accuracy: 0.7483\n",
      "Epoch 79/100\n",
      "10/10 [==============================] - 0s 3ms/step - loss: 0.7138 - accuracy: 0.7100 - val_loss: 0.6986 - val_accuracy: 0.7152\n",
      "Epoch 80/100\n",
      "10/10 [==============================] - 0s 3ms/step - loss: 0.6123 - accuracy: 0.7533 - val_loss: 0.7767 - val_accuracy: 0.7086\n",
      "Epoch 81/100\n",
      "10/10 [==============================] - 0s 3ms/step - loss: 0.7325 - accuracy: 0.6853 - val_loss: 0.7200 - val_accuracy: 0.7020\n",
      "Epoch 82/100\n",
      "10/10 [==============================] - 0s 3ms/step - loss: 0.6781 - accuracy: 0.7100 - val_loss: 0.7679 - val_accuracy: 0.6821\n",
      "Epoch 83/100\n",
      "10/10 [==============================] - 0s 3ms/step - loss: 0.6355 - accuracy: 0.7333 - val_loss: 0.6529 - val_accuracy: 0.7550\n",
      "Epoch 84/100\n",
      "10/10 [==============================] - 0s 3ms/step - loss: 0.5628 - accuracy: 0.7733 - val_loss: 0.6258 - val_accuracy: 0.7583\n",
      "Epoch 85/100\n",
      "10/10 [==============================] - 0s 3ms/step - loss: 0.7804 - accuracy: 0.6467 - val_loss: 0.9888 - val_accuracy: 0.6854\n",
      "Epoch 86/100\n",
      "10/10 [==============================] - 0s 3ms/step - loss: 0.7325 - accuracy: 0.7000 - val_loss: 0.7068 - val_accuracy: 0.7517\n",
      "Epoch 87/100\n",
      "10/10 [==============================] - 0s 3ms/step - loss: 0.8033 - accuracy: 0.6567 - val_loss: 0.6270 - val_accuracy: 0.7417\n",
      "Epoch 88/100\n",
      "10/10 [==============================] - 0s 3ms/step - loss: 0.6373 - accuracy: 0.7333 - val_loss: 0.6621 - val_accuracy: 0.7450\n",
      "Epoch 89/100\n",
      "10/10 [==============================] - 0s 3ms/step - loss: 0.5733 - accuracy: 0.7500 - val_loss: 0.6207 - val_accuracy: 0.7417\n",
      "Epoch 90/100\n",
      "10/10 [==============================] - 0s 3ms/step - loss: 0.6018 - accuracy: 0.7203 - val_loss: 0.6413 - val_accuracy: 0.7351\n",
      "Epoch 91/100\n",
      "10/10 [==============================] - 0s 4ms/step - loss: 0.6932 - accuracy: 0.6800 - val_loss: 0.6514 - val_accuracy: 0.7417\n",
      "Epoch 92/100\n",
      "10/10 [==============================] - 0s 3ms/step - loss: 0.6244 - accuracy: 0.7300 - val_loss: 0.6185 - val_accuracy: 0.7715\n",
      "Epoch 93/100\n",
      "10/10 [==============================] - 0s 3ms/step - loss: 0.5936 - accuracy: 0.7167 - val_loss: 0.5988 - val_accuracy: 0.7781\n",
      "Epoch 94/100\n",
      "10/10 [==============================] - 0s 3ms/step - loss: 0.7780 - accuracy: 0.7100 - val_loss: 0.7028 - val_accuracy: 0.7053\n",
      "Epoch 95/100\n",
      "10/10 [==============================] - 0s 3ms/step - loss: 0.6518 - accuracy: 0.7100 - val_loss: 0.7266 - val_accuracy: 0.7185\n",
      "Epoch 96/100\n",
      "10/10 [==============================] - 0s 3ms/step - loss: 0.6314 - accuracy: 0.7167 - val_loss: 0.6477 - val_accuracy: 0.7417\n",
      "Epoch 97/100\n",
      "10/10 [==============================] - 0s 3ms/step - loss: 0.6458 - accuracy: 0.7400 - val_loss: 0.6565 - val_accuracy: 0.7450\n",
      "Epoch 98/100\n",
      "10/10 [==============================] - 0s 3ms/step - loss: 0.7743 - accuracy: 0.7028 - val_loss: 1.0037 - val_accuracy: 0.6556\n",
      "Epoch 99/100\n",
      "10/10 [==============================] - 0s 3ms/step - loss: 0.7855 - accuracy: 0.6800 - val_loss: 0.7360 - val_accuracy: 0.7086\n",
      "Epoch 100/100\n",
      "10/10 [==============================] - 0s 3ms/step - loss: 0.7746 - accuracy: 0.6933 - val_loss: 0.6680 - val_accuracy: 0.7483\n",
      "10/10 [==============================] - 0s 820us/step - loss: 0.7254 - accuracy: 0.7219\n",
      "Test score 0.725435197353363\n",
      "Test accuracy 0.7218543291091919\n"
     ]
    }
   ],
   "source": [
    "model = keras.Sequential()\n",
    "\n",
    "# Функцію активаціїї лики релу використав, скориставшись лайфхаком)) тому що у нас значення аутпутів можуть бути більше 1. Кількість леферів підбирав методом проб та \n",
    "# помилок\n",
    "input_layer = keras.layers.Dense(3, input_shape=[X_train.shape[1]], activation=LeakyReLU())\n",
    "model.add(input_layer)\n",
    "\n",
    "hidden_layer_1 = keras.layers.Dense(16, activation=LeakyReLU())\n",
    "model.add(hidden_layer_1)\n",
    "\n",
    "hidden_layer_2 = keras.layers.Dense(32, activation=LeakyReLU())\n",
    "model.add(hidden_layer_2)\n",
    "\n",
    "hidden_layer_3 = keras.layers.Dense(64, activation=LeakyReLU())\n",
    "model.add(hidden_layer_3)\n",
    "\n",
    "# Цікавий кейс з мого виконання дз. В мене в аутпут лейер кількість юнітів була 1 і я 2 години не міг зрозуміти чому модель предіктить тільки значення 1)) А потім \n",
    "# коли я додумався що в нас же на виході 4 класи і була ЕВРИКААА))\n",
    "output_layer = keras.layers.Dense(4, activation='softmax')\n",
    "model.add(output_layer)\n",
    "\n",
    "# Loss функцію sparse_categorical_crossentropy, тому що ця функція потребує інтових чисельних класів. Я би міг використати categorical_crossentropy, але вона потребує\n",
    "# one hot encoding , а він нам тут непотрібен бо в нас вже класи в чисельному форматі. А наприклад такі функції як mean_squared_error or mean_absolute_error вони \n",
    "# спрямовані на вирішення регресійної проблеми, що в нашому випадку не підходить. Ну і функція binary_crossentropy нам не підходить бо в нас не бінарний результат\n",
    "model.compile(optimizer='adam', loss='sparse_categorical_crossentropy', metrics=['accuracy'])\n",
    "\n",
    "# Кількість епох я обрав 100 тому що якщо ми обираємо нижче, то по результатам ми бачимо що модель недотреновується. По тій ж самій причині я не став використовувати \n",
    "# EarlyStopping , я спробував і прослідкував таку ж тенденцію як і при малій кількості епох. steps_per_epoch та batch_size обирав з міркувань оптимізації та швидкої \n",
    "# роботи.\n",
    "history = model.fit(X_train, Y_train,\n",
    "                    validation_data=(X_valid, Y_valid),\n",
    "                    epochs=100,\n",
    "                    steps_per_epoch=10,\n",
    "                    batch_size=30,\n",
    "                    validation_split=0.25)\n",
    "\n",
    "loss, accuracy = model.evaluate(X_test, Y_test)\n",
    "print('Test score', loss)\n",
    "print('Test accuracy', accuracy)\n",
    "\n"
   ],
   "metadata": {
    "collapsed": false,
    "ExecuteTime": {
     "end_time": "2023-11-11T15:05:47.350313006Z",
     "start_time": "2023-11-11T15:05:43.402400065Z"
    }
   },
   "id": "25c11c427bff6759"
  },
  {
   "cell_type": "code",
   "execution_count": 245,
   "outputs": [
    {
     "name": "stdout",
     "output_type": "stream",
     "text": [
      "10/10 [==============================] - 0s 913us/step\n"
     ]
    },
    {
     "data": {
      "text/plain": "      Original  Predicted\n3677       1.0          0\n1345       2.0          2\n1292       0.0          0\n3041       1.0          1\n3910       1.0          1\n...        ...        ...\n750        3.0          3\n1707       1.0          0\n3715       1.0          0\n903        2.0          2\n18         1.0          1\n\n[302 rows x 2 columns]",
      "text/html": "<div>\n<style scoped>\n    .dataframe tbody tr th:only-of-type {\n        vertical-align: middle;\n    }\n\n    .dataframe tbody tr th {\n        vertical-align: top;\n    }\n\n    .dataframe thead th {\n        text-align: right;\n    }\n</style>\n<table border=\"1\" class=\"dataframe\">\n  <thead>\n    <tr style=\"text-align: right;\">\n      <th></th>\n      <th>Original</th>\n      <th>Predicted</th>\n    </tr>\n  </thead>\n  <tbody>\n    <tr>\n      <th>3677</th>\n      <td>1.0</td>\n      <td>0</td>\n    </tr>\n    <tr>\n      <th>1345</th>\n      <td>2.0</td>\n      <td>2</td>\n    </tr>\n    <tr>\n      <th>1292</th>\n      <td>0.0</td>\n      <td>0</td>\n    </tr>\n    <tr>\n      <th>3041</th>\n      <td>1.0</td>\n      <td>1</td>\n    </tr>\n    <tr>\n      <th>3910</th>\n      <td>1.0</td>\n      <td>1</td>\n    </tr>\n    <tr>\n      <th>...</th>\n      <td>...</td>\n      <td>...</td>\n    </tr>\n    <tr>\n      <th>750</th>\n      <td>3.0</td>\n      <td>3</td>\n    </tr>\n    <tr>\n      <th>1707</th>\n      <td>1.0</td>\n      <td>0</td>\n    </tr>\n    <tr>\n      <th>3715</th>\n      <td>1.0</td>\n      <td>0</td>\n    </tr>\n    <tr>\n      <th>903</th>\n      <td>2.0</td>\n      <td>2</td>\n    </tr>\n    <tr>\n      <th>18</th>\n      <td>1.0</td>\n      <td>1</td>\n    </tr>\n  </tbody>\n</table>\n<p>302 rows × 2 columns</p>\n</div>"
     },
     "execution_count": 245,
     "metadata": {},
     "output_type": "execute_result"
    }
   ],
   "source": [
    "predictions = model.predict(X_test)\n",
    "predicted_labels = np.argmax(predictions, axis=1)\n",
    "\n",
    "test_result_df = pd.DataFrame({'Original':Y_test, 'Predicted' : predicted_labels})\n",
    "test_result_df\n",
    "# Можемо побачити, що результат досить непоганий порівнюючи наш тестовий вектор та прдікшн"
   ],
   "metadata": {
    "collapsed": false,
    "ExecuteTime": {
     "end_time": "2023-11-11T15:27:52.863851308Z",
     "start_time": "2023-11-11T15:27:52.807318419Z"
    }
   },
   "id": "c502f2e0257f9a03"
  },
  {
   "cell_type": "code",
   "execution_count": 248,
   "outputs": [
    {
     "name": "stdout",
     "output_type": "stream",
     "text": [
      "32/32 [==============================] - 0s 639us/step\n"
     ]
    },
    {
     "data": {
      "text/plain": "      battery_power  bluetooth  weight  memory  n_cores   ram  dual_sim  wifi  \\\n2000           1043          1     193       5        3  3476         1     0   \n2001            841          1     191      61        5  3895         1     0   \n2002           1807          1     186      27        3  2396         0     1   \n2003           1546          0      96      25        8  3893         1     0   \n2004           1434          0     108      49        6  1773         0     1   \n...             ...        ...     ...     ...      ...   ...       ...   ...   \n2995           1700          1     170      54        7  2121         0     0   \n2996            609          0     186      13        4  1933         1     1   \n2997           1185          0      80       8        1  1223         0     0   \n2998           1533          1     171      50        2  2509         1     0   \n2999           1270          1     140      35        6  2828         0     1   \n\n      pixel_height  pixel_width  predicted_price_range  \n2000          1101         1412                      3  \n2001           746          857                      3  \n2002          1270         1366                      3  \n2003          1441         1752                      3  \n2004           749          810                      3  \n...            ...          ...                    ...  \n2995           644          913                      1  \n2996          1321         1632                      1  \n2997           514          825                      0  \n2998           521          832                      1  \n2999           457          608                      3  \n\n[1000 rows x 11 columns]",
      "text/html": "<div>\n<style scoped>\n    .dataframe tbody tr th:only-of-type {\n        vertical-align: middle;\n    }\n\n    .dataframe tbody tr th {\n        vertical-align: top;\n    }\n\n    .dataframe thead th {\n        text-align: right;\n    }\n</style>\n<table border=\"1\" class=\"dataframe\">\n  <thead>\n    <tr style=\"text-align: right;\">\n      <th></th>\n      <th>battery_power</th>\n      <th>bluetooth</th>\n      <th>weight</th>\n      <th>memory</th>\n      <th>n_cores</th>\n      <th>ram</th>\n      <th>dual_sim</th>\n      <th>wifi</th>\n      <th>pixel_height</th>\n      <th>pixel_width</th>\n      <th>predicted_price_range</th>\n    </tr>\n  </thead>\n  <tbody>\n    <tr>\n      <th>2000</th>\n      <td>1043</td>\n      <td>1</td>\n      <td>193</td>\n      <td>5</td>\n      <td>3</td>\n      <td>3476</td>\n      <td>1</td>\n      <td>0</td>\n      <td>1101</td>\n      <td>1412</td>\n      <td>3</td>\n    </tr>\n    <tr>\n      <th>2001</th>\n      <td>841</td>\n      <td>1</td>\n      <td>191</td>\n      <td>61</td>\n      <td>5</td>\n      <td>3895</td>\n      <td>1</td>\n      <td>0</td>\n      <td>746</td>\n      <td>857</td>\n      <td>3</td>\n    </tr>\n    <tr>\n      <th>2002</th>\n      <td>1807</td>\n      <td>1</td>\n      <td>186</td>\n      <td>27</td>\n      <td>3</td>\n      <td>2396</td>\n      <td>0</td>\n      <td>1</td>\n      <td>1270</td>\n      <td>1366</td>\n      <td>3</td>\n    </tr>\n    <tr>\n      <th>2003</th>\n      <td>1546</td>\n      <td>0</td>\n      <td>96</td>\n      <td>25</td>\n      <td>8</td>\n      <td>3893</td>\n      <td>1</td>\n      <td>0</td>\n      <td>1441</td>\n      <td>1752</td>\n      <td>3</td>\n    </tr>\n    <tr>\n      <th>2004</th>\n      <td>1434</td>\n      <td>0</td>\n      <td>108</td>\n      <td>49</td>\n      <td>6</td>\n      <td>1773</td>\n      <td>0</td>\n      <td>1</td>\n      <td>749</td>\n      <td>810</td>\n      <td>3</td>\n    </tr>\n    <tr>\n      <th>...</th>\n      <td>...</td>\n      <td>...</td>\n      <td>...</td>\n      <td>...</td>\n      <td>...</td>\n      <td>...</td>\n      <td>...</td>\n      <td>...</td>\n      <td>...</td>\n      <td>...</td>\n      <td>...</td>\n    </tr>\n    <tr>\n      <th>2995</th>\n      <td>1700</td>\n      <td>1</td>\n      <td>170</td>\n      <td>54</td>\n      <td>7</td>\n      <td>2121</td>\n      <td>0</td>\n      <td>0</td>\n      <td>644</td>\n      <td>913</td>\n      <td>1</td>\n    </tr>\n    <tr>\n      <th>2996</th>\n      <td>609</td>\n      <td>0</td>\n      <td>186</td>\n      <td>13</td>\n      <td>4</td>\n      <td>1933</td>\n      <td>1</td>\n      <td>1</td>\n      <td>1321</td>\n      <td>1632</td>\n      <td>1</td>\n    </tr>\n    <tr>\n      <th>2997</th>\n      <td>1185</td>\n      <td>0</td>\n      <td>80</td>\n      <td>8</td>\n      <td>1</td>\n      <td>1223</td>\n      <td>0</td>\n      <td>0</td>\n      <td>514</td>\n      <td>825</td>\n      <td>0</td>\n    </tr>\n    <tr>\n      <th>2998</th>\n      <td>1533</td>\n      <td>1</td>\n      <td>171</td>\n      <td>50</td>\n      <td>2</td>\n      <td>2509</td>\n      <td>1</td>\n      <td>0</td>\n      <td>521</td>\n      <td>832</td>\n      <td>1</td>\n    </tr>\n    <tr>\n      <th>2999</th>\n      <td>1270</td>\n      <td>1</td>\n      <td>140</td>\n      <td>35</td>\n      <td>6</td>\n      <td>2828</td>\n      <td>0</td>\n      <td>1</td>\n      <td>457</td>\n      <td>608</td>\n      <td>3</td>\n    </tr>\n  </tbody>\n</table>\n<p>1000 rows × 11 columns</p>\n</div>"
     },
     "execution_count": 248,
     "metadata": {},
     "output_type": "execute_result"
    }
   ],
   "source": [
    "# Тепер застосуємо цю модель до наших пропусків\n",
    "X_skipped_test = df_with_skipped_target.drop(columns=['price_range'])\n",
    "predicted_df = X_skipped_test\n",
    "\n",
    "predicted_df['predicted_price_range'] = np.argmax(model.predict(X_skipped_test), axis=1)\n",
    "predicted_df"
   ],
   "metadata": {
    "collapsed": false,
    "ExecuteTime": {
     "end_time": "2023-11-11T15:35:57.068891558Z",
     "start_time": "2023-11-11T15:35:57.001736751Z"
    }
   },
   "id": "75bd9d91ae5f19fe"
  },
  {
   "cell_type": "code",
   "execution_count": null,
   "outputs": [],
   "source": [],
   "metadata": {
    "collapsed": false
   },
   "id": "b5296d0485790d34"
  }
 ],
 "metadata": {
  "kernelspec": {
   "display_name": "Python 3",
   "language": "python",
   "name": "python3"
  },
  "language_info": {
   "codemirror_mode": {
    "name": "ipython",
    "version": 2
   },
   "file_extension": ".py",
   "mimetype": "text/x-python",
   "name": "python",
   "nbconvert_exporter": "python",
   "pygments_lexer": "ipython2",
   "version": "2.7.6"
  }
 },
 "nbformat": 4,
 "nbformat_minor": 5
}
