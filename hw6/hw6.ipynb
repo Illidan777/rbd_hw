{
 "cells": [
  {
   "cell_type": "code",
   "execution_count": 71,
   "id": "initial_id",
   "metadata": {
    "collapsed": true,
    "ExecuteTime": {
     "end_time": "2023-10-20T15:31:39.224460071Z",
     "start_time": "2023-10-20T15:31:39.178877441Z"
    }
   },
   "outputs": [
    {
     "data": {
      "text/plain": "      sepal_length  sepal_width  petal_length  petal_width          species\n0             6.40         2.70          5.30         1.90   Iris-virginica\n1             7.38         4.04          5.15         2.37  Iris-versicolor\n2             5.00         3.40          1.60         0.40      Iris-setosa\n3             6.12         3.19          5.90         2.01   Iris-virginica\n4             6.78         3.47          6.13         2.29   Iris-virginica\n...            ...          ...           ...          ...              ...\n2419          6.11         5.08          3.15         2.22      Iris-setosa\n2420          7.17         6.07          4.30         1.78      Iris-setosa\n2421          6.48         4.98          4.12         3.03      Iris-setosa\n2422          6.73         4.71          3.67         2.90      Iris-setosa\n2423          0.00         0.00          0.00         0.00   Iris-virginica\n\n[2424 rows x 5 columns]",
      "text/html": "<div>\n<style scoped>\n    .dataframe tbody tr th:only-of-type {\n        vertical-align: middle;\n    }\n\n    .dataframe tbody tr th {\n        vertical-align: top;\n    }\n\n    .dataframe thead th {\n        text-align: right;\n    }\n</style>\n<table border=\"1\" class=\"dataframe\">\n  <thead>\n    <tr style=\"text-align: right;\">\n      <th></th>\n      <th>sepal_length</th>\n      <th>sepal_width</th>\n      <th>petal_length</th>\n      <th>petal_width</th>\n      <th>species</th>\n    </tr>\n  </thead>\n  <tbody>\n    <tr>\n      <th>0</th>\n      <td>6.40</td>\n      <td>2.70</td>\n      <td>5.30</td>\n      <td>1.90</td>\n      <td>Iris-virginica</td>\n    </tr>\n    <tr>\n      <th>1</th>\n      <td>7.38</td>\n      <td>4.04</td>\n      <td>5.15</td>\n      <td>2.37</td>\n      <td>Iris-versicolor</td>\n    </tr>\n    <tr>\n      <th>2</th>\n      <td>5.00</td>\n      <td>3.40</td>\n      <td>1.60</td>\n      <td>0.40</td>\n      <td>Iris-setosa</td>\n    </tr>\n    <tr>\n      <th>3</th>\n      <td>6.12</td>\n      <td>3.19</td>\n      <td>5.90</td>\n      <td>2.01</td>\n      <td>Iris-virginica</td>\n    </tr>\n    <tr>\n      <th>4</th>\n      <td>6.78</td>\n      <td>3.47</td>\n      <td>6.13</td>\n      <td>2.29</td>\n      <td>Iris-virginica</td>\n    </tr>\n    <tr>\n      <th>...</th>\n      <td>...</td>\n      <td>...</td>\n      <td>...</td>\n      <td>...</td>\n      <td>...</td>\n    </tr>\n    <tr>\n      <th>2419</th>\n      <td>6.11</td>\n      <td>5.08</td>\n      <td>3.15</td>\n      <td>2.22</td>\n      <td>Iris-setosa</td>\n    </tr>\n    <tr>\n      <th>2420</th>\n      <td>7.17</td>\n      <td>6.07</td>\n      <td>4.30</td>\n      <td>1.78</td>\n      <td>Iris-setosa</td>\n    </tr>\n    <tr>\n      <th>2421</th>\n      <td>6.48</td>\n      <td>4.98</td>\n      <td>4.12</td>\n      <td>3.03</td>\n      <td>Iris-setosa</td>\n    </tr>\n    <tr>\n      <th>2422</th>\n      <td>6.73</td>\n      <td>4.71</td>\n      <td>3.67</td>\n      <td>2.90</td>\n      <td>Iris-setosa</td>\n    </tr>\n    <tr>\n      <th>2423</th>\n      <td>0.00</td>\n      <td>0.00</td>\n      <td>0.00</td>\n      <td>0.00</td>\n      <td>Iris-virginica</td>\n    </tr>\n  </tbody>\n</table>\n<p>2424 rows × 5 columns</p>\n</div>"
     },
     "execution_count": 71,
     "metadata": {},
     "output_type": "execute_result"
    }
   ],
   "source": [
    "## introduction to dataframes and pandas\n",
    "import pandas as pd\n",
    "\n",
    "df = pd.read_excel('/home/ilia/PycharmProjects/rbd_hw/data.xls')\n",
    "df"
   ]
  },
  {
   "cell_type": "code",
   "execution_count": 59,
   "outputs": [
    {
     "data": {
      "text/plain": "       sepal_length  sepal_width  petal_length  petal_width\ncount   2415.000000  2415.000000   2415.000000  2415.000000\nmean       6.470257     3.963540      4.616911     2.189752\nstd        2.140522     1.022686      1.987028     1.046936\nmin      -10.000000     0.000000      0.000000     0.000000\n25%        5.950000     3.450000      2.780000     1.460000\n50%        6.700000     4.000000      5.090000     2.240000\n75%        7.490000     4.580000      6.150000     2.940000\nmax       10.490000     7.470000      9.040000     5.440000",
      "text/html": "<div>\n<style scoped>\n    .dataframe tbody tr th:only-of-type {\n        vertical-align: middle;\n    }\n\n    .dataframe tbody tr th {\n        vertical-align: top;\n    }\n\n    .dataframe thead th {\n        text-align: right;\n    }\n</style>\n<table border=\"1\" class=\"dataframe\">\n  <thead>\n    <tr style=\"text-align: right;\">\n      <th></th>\n      <th>sepal_length</th>\n      <th>sepal_width</th>\n      <th>petal_length</th>\n      <th>petal_width</th>\n    </tr>\n  </thead>\n  <tbody>\n    <tr>\n      <th>count</th>\n      <td>2415.000000</td>\n      <td>2415.000000</td>\n      <td>2415.000000</td>\n      <td>2415.000000</td>\n    </tr>\n    <tr>\n      <th>mean</th>\n      <td>6.470257</td>\n      <td>3.963540</td>\n      <td>4.616911</td>\n      <td>2.189752</td>\n    </tr>\n    <tr>\n      <th>std</th>\n      <td>2.140522</td>\n      <td>1.022686</td>\n      <td>1.987028</td>\n      <td>1.046936</td>\n    </tr>\n    <tr>\n      <th>min</th>\n      <td>-10.000000</td>\n      <td>0.000000</td>\n      <td>0.000000</td>\n      <td>0.000000</td>\n    </tr>\n    <tr>\n      <th>25%</th>\n      <td>5.950000</td>\n      <td>3.450000</td>\n      <td>2.780000</td>\n      <td>1.460000</td>\n    </tr>\n    <tr>\n      <th>50%</th>\n      <td>6.700000</td>\n      <td>4.000000</td>\n      <td>5.090000</td>\n      <td>2.240000</td>\n    </tr>\n    <tr>\n      <th>75%</th>\n      <td>7.490000</td>\n      <td>4.580000</td>\n      <td>6.150000</td>\n      <td>2.940000</td>\n    </tr>\n    <tr>\n      <th>max</th>\n      <td>10.490000</td>\n      <td>7.470000</td>\n      <td>9.040000</td>\n      <td>5.440000</td>\n    </tr>\n  </tbody>\n</table>\n</div>"
     },
     "execution_count": 59,
     "metadata": {},
     "output_type": "execute_result"
    }
   ],
   "source": [
    "df.describe()"
   ],
   "metadata": {
    "collapsed": false,
    "ExecuteTime": {
     "end_time": "2023-10-20T15:25:48.637685398Z",
     "start_time": "2023-10-20T15:25:48.617555911Z"
    }
   },
   "id": "20acf8587604432f"
  },
  {
   "cell_type": "markdown",
   "source": [],
   "metadata": {
    "collapsed": false
   },
   "id": "866b81b32ef201f4"
  },
  {
   "cell_type": "code",
   "execution_count": 60,
   "outputs": [
    {
     "data": {
      "text/plain": "              sepal_length  sepal_width  petal_length  petal_width\nsepal_length      1.000000     0.435701      0.540740     0.510917\nsepal_width       0.435701     1.000000      0.241140     0.399530\npetal_length      0.540740     0.241140      1.000000     0.837498\npetal_width       0.510917     0.399530      0.837498     1.000000",
      "text/html": "<div>\n<style scoped>\n    .dataframe tbody tr th:only-of-type {\n        vertical-align: middle;\n    }\n\n    .dataframe tbody tr th {\n        vertical-align: top;\n    }\n\n    .dataframe thead th {\n        text-align: right;\n    }\n</style>\n<table border=\"1\" class=\"dataframe\">\n  <thead>\n    <tr style=\"text-align: right;\">\n      <th></th>\n      <th>sepal_length</th>\n      <th>sepal_width</th>\n      <th>petal_length</th>\n      <th>petal_width</th>\n    </tr>\n  </thead>\n  <tbody>\n    <tr>\n      <th>sepal_length</th>\n      <td>1.000000</td>\n      <td>0.435701</td>\n      <td>0.540740</td>\n      <td>0.510917</td>\n    </tr>\n    <tr>\n      <th>sepal_width</th>\n      <td>0.435701</td>\n      <td>1.000000</td>\n      <td>0.241140</td>\n      <td>0.399530</td>\n    </tr>\n    <tr>\n      <th>petal_length</th>\n      <td>0.540740</td>\n      <td>0.241140</td>\n      <td>1.000000</td>\n      <td>0.837498</td>\n    </tr>\n    <tr>\n      <th>petal_width</th>\n      <td>0.510917</td>\n      <td>0.399530</td>\n      <td>0.837498</td>\n      <td>1.000000</td>\n    </tr>\n  </tbody>\n</table>\n</div>"
     },
     "execution_count": 60,
     "metadata": {},
     "output_type": "execute_result"
    }
   ],
   "source": [
    "df.corr()"
   ],
   "metadata": {
    "collapsed": false,
    "ExecuteTime": {
     "end_time": "2023-10-20T15:25:52.164138451Z",
     "start_time": "2023-10-20T15:25:52.123262454Z"
    }
   },
   "id": "6d9ea5f61ad3cb2c"
  },
  {
   "cell_type": "code",
   "execution_count": 61,
   "outputs": [
    {
     "data": {
      "text/plain": "<AxesSubplot:>"
     },
     "execution_count": 61,
     "metadata": {},
     "output_type": "execute_result"
    },
    {
     "data": {
      "text/plain": "<Figure size 432x288 with 2 Axes>",
      "image/png": "[encoded data removed]"
     },
     "metadata": {},
     "output_type": "display_data"
    }
   ],
   "source": [
    "import seaborn as sns\n",
    "\n",
    "sns.heatmap(df.corr())\n",
    "# За дослідженням кореляції набільші залежності це petal_length від petal_width та навпаки. А\n",
    "# також +- непоганий результат petal_length від sepal_length та навпаки"
   ],
   "metadata": {
    "collapsed": false,
    "ExecuteTime": {
     "end_time": "2023-10-20T15:25:55.749091432Z",
     "start_time": "2023-10-20T15:25:55.637539516Z"
    }
   },
   "id": "6f614c82b18943e7"
  },
  {
   "cell_type": "code",
   "execution_count": 62,
   "outputs": [
    {
     "data": {
      "text/plain": "<Figure size 432x288 with 1 Axes>",
      "image/png": "[encoded data removed]"
     },
     "metadata": {},
     "output_type": "display_data"
    }
   ],
   "source": [
    "import matplotlib.pyplot as plt #Тип візуалізації я обрав діаграмму частот, тому що у наступному\n",
    "# завданні нам потрібно зрозуміти дані нормально розподілені чи ні\n",
    "\n",
    "plt.hist(df['sepal_length'], bins=50, label='Sepal length')\n",
    "plt.show() #в колонці sepal_length розподіл виглядає більш менш нормально, але у нас присутні\n",
    "# аномальні дані, які трішки портять картину. тому що ми не робили ніякий препроцесінг. \n",
    "# Тому щоб зробити тут розподіл нормальним, нам потрібно запроцесити аномальні данні. В нашому\n",
    "# випадку це нулі і від'ємні значення- і їх потрібно або викинути або замінити"
   ],
   "metadata": {
    "collapsed": false,
    "ExecuteTime": {
     "end_time": "2023-10-20T15:25:59.360908246Z",
     "start_time": "2023-10-20T15:25:59.228723582Z"
    }
   },
   "id": "bc1f3c28d3e4be16"
  },
  {
   "cell_type": "code",
   "execution_count": 63,
   "outputs": [
    {
     "data": {
      "text/plain": "<Figure size 432x288 with 1 Axes>",
      "image/png": "[encoded data removed]"
     },
     "metadata": {},
     "output_type": "display_data"
    }
   ],
   "source": [
    "plt.hist(df['sepal_width'], bins=50, label='Sepal width')\n",
    "plt.show() #в колонці sepal_width дуже схожа ситуація з sepal_length, але без від'ємних значень і\n",
    "# розподіл також виглядає нормальним. Тому я би тут також викинув нулі або замінив і розподіл\n",
    "# наблизився би до нормального. Але мене трішки бентежить значення 3 з чимось,"
   ],
   "metadata": {
    "collapsed": false,
    "ExecuteTime": {
     "end_time": "2023-10-20T15:26:02.475777018Z",
     "start_time": "2023-10-20T15:26:02.370970502Z"
    }
   },
   "id": "439ea7e2f12139d4"
  },
  {
   "cell_type": "code",
   "execution_count": 64,
   "outputs": [
    {
     "data": {
      "text/plain": "<Figure size 432x288 with 1 Axes>",
      "image/png": "[encoded data removed]"
     },
     "metadata": {},
     "output_type": "display_data"
    }
   ],
   "source": [
    "plt.hist(df['petal_length'], bins=50, label='Petal length')\n",
    "plt.show() #в колонці petal_length явно видно не нормальний розподіл"
   ],
   "metadata": {
    "collapsed": false,
    "ExecuteTime": {
     "end_time": "2023-10-20T15:26:05.624608660Z",
     "start_time": "2023-10-20T15:26:05.522524775Z"
    }
   },
   "id": "9d06ede129b41bf1"
  },
  {
   "cell_type": "code",
   "execution_count": 28,
   "outputs": [
    {
     "data": {
      "text/plain": "<Figure size 432x288 with 1 Axes>",
      "image/png": "[encoded data removed]"
     },
     "metadata": {},
     "output_type": "display_data"
    }
   ],
   "source": [
    "plt.hist(df['petal_width'], bins=50, label='Petal width')\n",
    "plt.show()\n",
    "#в колонці petal_width якщо б не нулі, то він би наближався до нормального. Проте в будь кому\n",
    "# випадку у нас є достатньо велике скупчення данних в діапазоні між 0 та 1. Але припущу що він\n",
    "# нормальний, буду радий почути фідбек))"
   ],
   "metadata": {
    "collapsed": false,
    "ExecuteTime": {
     "end_time": "2023-10-20T13:40:17.336999732Z",
     "start_time": "2023-10-20T13:40:17.231909849Z"
    }
   },
   "id": "b7fec03c098c6ddd"
  },
  {
   "cell_type": "code",
   "execution_count": 65,
   "outputs": [
    {
     "data": {
      "text/plain": "<Figure size 432x288 with 1 Axes>",
      "image/png": "[encoded data removed]"
     },
     "metadata": {},
     "output_type": "display_data"
    }
   ],
   "source": [
    "#приклад як ми можемо прийти до нормального +- розподілу по колонці petal_length. У кожних 5 взяти\n",
    "# середнє та побудвати гістограму по масиву цих середнів. Але можливо так не можна робити, тому що\n",
    "# ми таким чином зменшуємо кількість даних. В такому випадку можливо на поміч прийде логарифмування\n",
    "averages = []\n",
    "step = 5\n",
    "\n",
    "# Проходження по колонці та обчислення середнього значення кожних 5 елементів\n",
    "for i in range(0, len(df['petal_length']), step):\n",
    "    subset = df['petal_length'].iloc[i:i+step]\n",
    "    avg = subset.mean()\n",
    "    averages.append(avg)\n",
    "\n",
    "plt.hist(averages, bins=50)\n",
    "plt.show()"
   ],
   "metadata": {
    "collapsed": false,
    "ExecuteTime": {
     "end_time": "2023-10-20T15:26:09.330460669Z",
     "start_time": "2023-10-20T15:26:09.193202513Z"
    }
   },
   "id": "ea8dee47b6c3337a"
  },
  {
   "cell_type": "code",
   "execution_count": 33,
   "outputs": [
    {
     "data": {
      "text/plain": "      sepal_length  sepal_width  petal_length  petal_width         species\n17             NaN          NaN           NaN          NaN     Iris-setosa\n50             NaN          NaN           NaN          NaN  Iris-virginica\n293            NaN          NaN           NaN          NaN     Iris-setosa\n302            NaN          NaN           NaN          NaN  Iris-virginica\n318            NaN          NaN           NaN          NaN     Iris-setosa\n1179           NaN          NaN           NaN          NaN  Iris-virginica\n1792           NaN          NaN           NaN          NaN     Iris-setosa\n1808           NaN          NaN           NaN          NaN     Iris-setosa\n1817           NaN          NaN           NaN          NaN  Iris-virginica",
      "text/html": "<div>\n<style scoped>\n    .dataframe tbody tr th:only-of-type {\n        vertical-align: middle;\n    }\n\n    .dataframe tbody tr th {\n        vertical-align: top;\n    }\n\n    .dataframe thead th {\n        text-align: right;\n    }\n</style>\n<table border=\"1\" class=\"dataframe\">\n  <thead>\n    <tr style=\"text-align: right;\">\n      <th></th>\n      <th>sepal_length</th>\n      <th>sepal_width</th>\n      <th>petal_length</th>\n      <th>petal_width</th>\n      <th>species</th>\n    </tr>\n  </thead>\n  <tbody>\n    <tr>\n      <th>17</th>\n      <td>NaN</td>\n      <td>NaN</td>\n      <td>NaN</td>\n      <td>NaN</td>\n      <td>Iris-setosa</td>\n    </tr>\n    <tr>\n      <th>50</th>\n      <td>NaN</td>\n      <td>NaN</td>\n      <td>NaN</td>\n      <td>NaN</td>\n      <td>Iris-virginica</td>\n    </tr>\n    <tr>\n      <th>293</th>\n      <td>NaN</td>\n      <td>NaN</td>\n      <td>NaN</td>\n      <td>NaN</td>\n      <td>Iris-setosa</td>\n    </tr>\n    <tr>\n      <th>302</th>\n      <td>NaN</td>\n      <td>NaN</td>\n      <td>NaN</td>\n      <td>NaN</td>\n      <td>Iris-virginica</td>\n    </tr>\n    <tr>\n      <th>318</th>\n      <td>NaN</td>\n      <td>NaN</td>\n      <td>NaN</td>\n      <td>NaN</td>\n      <td>Iris-setosa</td>\n    </tr>\n    <tr>\n      <th>1179</th>\n      <td>NaN</td>\n      <td>NaN</td>\n      <td>NaN</td>\n      <td>NaN</td>\n      <td>Iris-virginica</td>\n    </tr>\n    <tr>\n      <th>1792</th>\n      <td>NaN</td>\n      <td>NaN</td>\n      <td>NaN</td>\n      <td>NaN</td>\n      <td>Iris-setosa</td>\n    </tr>\n    <tr>\n      <th>1808</th>\n      <td>NaN</td>\n      <td>NaN</td>\n      <td>NaN</td>\n      <td>NaN</td>\n      <td>Iris-setosa</td>\n    </tr>\n    <tr>\n      <th>1817</th>\n      <td>NaN</td>\n      <td>NaN</td>\n      <td>NaN</td>\n      <td>NaN</td>\n      <td>Iris-virginica</td>\n    </tr>\n  </tbody>\n</table>\n</div>"
     },
     "execution_count": 33,
     "metadata": {},
     "output_type": "execute_result"
    }
   ],
   "source": [
    "# Я би хотів впевнитись в своїх візуальних висновках стосовно розподілу кожної з колонок та\n",
    "# застосувати метод шапіро. Але перед цим потрібно почистити наші дані від пропусків та нулів.\n",
    "\n",
    "# Тому перевіряємо наші пропуски і бачимо шо майже всі атрибути пропущені і цих записів не дуже\n",
    "# багато на фоні генеральної сукупності, тому дропнемо їх.\n",
    "df[df.isnull().any(axis=1)] "
   ],
   "metadata": {
    "collapsed": false,
    "ExecuteTime": {
     "end_time": "2023-10-20T15:16:16.464167258Z",
     "start_time": "2023-10-20T15:16:16.419788383Z"
    }
   },
   "id": "9676e4f90672ad04"
  },
  {
   "cell_type": "code",
   "execution_count": 72,
   "outputs": [],
   "source": [
    "df = df.dropna()\n",
    "df = df.reset_index(drop=True)\n",
    "\n",
    "zero_records = df[(df['sepal_length'] == 0) & (df['sepal_width'] == 0) & (df['petal_length'] == 0) & (df['petal_width'] == 0)]\n",
    "\n",
    "df = df.drop(zero_records.index)\n",
    "\n",
    "df = df.reset_index(drop=True)\n"
   ],
   "metadata": {
    "collapsed": false,
    "ExecuteTime": {
     "end_time": "2023-10-20T15:31:48.841317209Z",
     "start_time": "2023-10-20T15:31:48.828884650Z"
    }
   },
   "id": "391bba44071e16f5"
  },
  {
   "cell_type": "code",
   "execution_count": 73,
   "outputs": [
    {
     "data": {
      "text/plain": "Empty DataFrame\nColumns: [sepal_length, sepal_width, petal_length, petal_width, species]\nIndex: []",
      "text/html": "<div>\n<style scoped>\n    .dataframe tbody tr th:only-of-type {\n        vertical-align: middle;\n    }\n\n    .dataframe tbody tr th {\n        vertical-align: top;\n    }\n\n    .dataframe thead th {\n        text-align: right;\n    }\n</style>\n<table border=\"1\" class=\"dataframe\">\n  <thead>\n    <tr style=\"text-align: right;\">\n      <th></th>\n      <th>sepal_length</th>\n      <th>sepal_width</th>\n      <th>petal_length</th>\n      <th>petal_width</th>\n      <th>species</th>\n    </tr>\n  </thead>\n  <tbody>\n  </tbody>\n</table>\n</div>"
     },
     "execution_count": 73,
     "metadata": {},
     "output_type": "execute_result"
    }
   ],
   "source": [
    "df[df.isnull().any(axis=1)] "
   ],
   "metadata": {
    "collapsed": false,
    "ExecuteTime": {
     "end_time": "2023-10-20T15:31:52.316104024Z",
     "start_time": "2023-10-20T15:31:52.271542350Z"
    }
   },
   "id": "5069b399ed0d9359"
  },
  {
   "cell_type": "code",
   "execution_count": 69,
   "outputs": [
    {
     "data": {
      "text/plain": "array(['Iris-setosa', 'Iris-versicolor', 'Iris-virginica',\n       'Iris-whatever'], dtype=object)"
     },
     "execution_count": 69,
     "metadata": {},
     "output_type": "execute_result"
    }
   ],
   "source": [
    "# Тепер ми вже навчені)) поділимо датасет на типи ірисів, та в кожному заповнимо негативні\n",
    "# значення та 0 середнім наприклад\n",
    "import numpy as np\n",
    "\n",
    "np.unique(df.species)"
   ],
   "metadata": {
    "collapsed": false,
    "ExecuteTime": {
     "end_time": "2023-10-20T15:29:03.084150475Z",
     "start_time": "2023-10-20T15:29:03.039268248Z"
    }
   },
   "id": "ac5c39966c2fc0fd"
  },
  {
   "cell_type": "code",
   "execution_count": 77,
   "outputs": [
    {
     "data": {
      "text/plain": "       sepal_length  sepal_width  petal_length  petal_width\ncount    766.000000   766.000000    766.000000   766.000000\nmean       5.839830     4.419491      2.454582     1.321932\nstd        1.551424     0.758417      0.661755     0.691136\nmin      -10.000000     2.300000      1.000000     0.100000\n25%        5.420000     3.870000      1.952500     0.840000\n50%        5.910000     4.370000      2.430000     1.255000\n75%        6.420000     4.905000      2.907500     1.820000\nmax        8.810000     7.470000      4.620000     3.580000",
      "text/html": "<div>\n<style scoped>\n    .dataframe tbody tr th:only-of-type {\n        vertical-align: middle;\n    }\n\n    .dataframe tbody tr th {\n        vertical-align: top;\n    }\n\n    .dataframe thead th {\n        text-align: right;\n    }\n</style>\n<table border=\"1\" class=\"dataframe\">\n  <thead>\n    <tr style=\"text-align: right;\">\n      <th></th>\n      <th>sepal_length</th>\n      <th>sepal_width</th>\n      <th>petal_length</th>\n      <th>petal_width</th>\n    </tr>\n  </thead>\n  <tbody>\n    <tr>\n      <th>count</th>\n      <td>766.000000</td>\n      <td>766.000000</td>\n      <td>766.000000</td>\n      <td>766.000000</td>\n    </tr>\n    <tr>\n      <th>mean</th>\n      <td>5.839830</td>\n      <td>4.419491</td>\n      <td>2.454582</td>\n      <td>1.321932</td>\n    </tr>\n    <tr>\n      <th>std</th>\n      <td>1.551424</td>\n      <td>0.758417</td>\n      <td>0.661755</td>\n      <td>0.691136</td>\n    </tr>\n    <tr>\n      <th>min</th>\n      <td>-10.000000</td>\n      <td>2.300000</td>\n      <td>1.000000</td>\n      <td>0.100000</td>\n    </tr>\n    <tr>\n      <th>25%</th>\n      <td>5.420000</td>\n      <td>3.870000</td>\n      <td>1.952500</td>\n      <td>0.840000</td>\n    </tr>\n    <tr>\n      <th>50%</th>\n      <td>5.910000</td>\n      <td>4.370000</td>\n      <td>2.430000</td>\n      <td>1.255000</td>\n    </tr>\n    <tr>\n      <th>75%</th>\n      <td>6.420000</td>\n      <td>4.905000</td>\n      <td>2.907500</td>\n      <td>1.820000</td>\n    </tr>\n    <tr>\n      <th>max</th>\n      <td>8.810000</td>\n      <td>7.470000</td>\n      <td>4.620000</td>\n      <td>3.580000</td>\n    </tr>\n  </tbody>\n</table>\n</div>"
     },
     "execution_count": 77,
     "metadata": {},
     "output_type": "execute_result"
    }
   ],
   "source": [
    "df_setosa = df[df['species'] == 'Iris-setosa']\n",
    "df_setosa.describe() #бачимо що аномальні данні лишились тільки в колонці sepal length, тому\n",
    "# замінимо його на середнє"
   ],
   "metadata": {
    "collapsed": false,
    "ExecuteTime": {
     "end_time": "2023-10-20T15:33:48.848608051Z",
     "start_time": "2023-10-20T15:33:48.831303268Z"
    }
   },
   "id": "1de0158140365f5d"
  },
  {
   "cell_type": "code",
   "execution_count": 83,
   "outputs": [
    {
     "data": {
      "text/plain": "       sepal_length  sepal_width  petal_length  petal_width\ncount    766.000000   766.000000    766.000000   766.000000\nmean       5.960364     4.419491      2.454582     1.321932\nstd        0.731095     0.758417      0.661755     0.691136\nmin        4.300000     2.300000      1.000000     0.100000\n25%        5.440000     3.870000      1.952500     0.840000\n50%        5.910000     4.370000      2.430000     1.255000\n75%        6.420000     4.905000      2.907500     1.820000\nmax        8.810000     7.470000      4.620000     3.580000",
      "text/html": "<div>\n<style scoped>\n    .dataframe tbody tr th:only-of-type {\n        vertical-align: middle;\n    }\n\n    .dataframe tbody tr th {\n        vertical-align: top;\n    }\n\n    .dataframe thead th {\n        text-align: right;\n    }\n</style>\n<table border=\"1\" class=\"dataframe\">\n  <thead>\n    <tr style=\"text-align: right;\">\n      <th></th>\n      <th>sepal_length</th>\n      <th>sepal_width</th>\n      <th>petal_length</th>\n      <th>petal_width</th>\n    </tr>\n  </thead>\n  <tbody>\n    <tr>\n      <th>count</th>\n      <td>766.000000</td>\n      <td>766.000000</td>\n      <td>766.000000</td>\n      <td>766.000000</td>\n    </tr>\n    <tr>\n      <th>mean</th>\n      <td>5.960364</td>\n      <td>4.419491</td>\n      <td>2.454582</td>\n      <td>1.321932</td>\n    </tr>\n    <tr>\n      <th>std</th>\n      <td>0.731095</td>\n      <td>0.758417</td>\n      <td>0.661755</td>\n      <td>0.691136</td>\n    </tr>\n    <tr>\n      <th>min</th>\n      <td>4.300000</td>\n      <td>2.300000</td>\n      <td>1.000000</td>\n      <td>0.100000</td>\n    </tr>\n    <tr>\n      <th>25%</th>\n      <td>5.440000</td>\n      <td>3.870000</td>\n      <td>1.952500</td>\n      <td>0.840000</td>\n    </tr>\n    <tr>\n      <th>50%</th>\n      <td>5.910000</td>\n      <td>4.370000</td>\n      <td>2.430000</td>\n      <td>1.255000</td>\n    </tr>\n    <tr>\n      <th>75%</th>\n      <td>6.420000</td>\n      <td>4.905000</td>\n      <td>2.907500</td>\n      <td>1.820000</td>\n    </tr>\n    <tr>\n      <th>max</th>\n      <td>8.810000</td>\n      <td>7.470000</td>\n      <td>4.620000</td>\n      <td>3.580000</td>\n    </tr>\n  </tbody>\n</table>\n</div>"
     },
     "execution_count": 83,
     "metadata": {},
     "output_type": "execute_result"
    }
   ],
   "source": [
    "df.loc[df_setosa[df_setosa['sepal_length'] < 0].index, 'sepal_length'] = df_setosa.sepal_length.mean()\n",
    "df[df['species'] == 'Iris-setosa'].describe()\n"
   ],
   "metadata": {
    "collapsed": false,
    "ExecuteTime": {
     "end_time": "2023-10-20T15:39:30.893811974Z",
     "start_time": "2023-10-20T15:39:30.880406337Z"
    }
   },
   "id": "f14a8165b567d1f3"
  },
  {
   "cell_type": "code",
   "execution_count": 86,
   "outputs": [
    {
     "data": {
      "text/plain": "       sepal_length  sepal_width  petal_length  petal_width\ncount    784.000000   784.000000    784.000000   784.000000\nmean       6.897138     3.753240      5.192054     2.351084\nstd        0.839740     0.696777      0.744771     0.687459\nmin        4.900000     2.000000      3.000000     1.000000\n25%        6.307500     3.240000      4.700000     1.857500\n50%        6.830000     3.730000      5.170000     2.280000\n75%        7.442500     4.220000      5.672500     2.840000\nmax        9.730000     5.960000      7.450000     5.250000",
      "text/html": "<div>\n<style scoped>\n    .dataframe tbody tr th:only-of-type {\n        vertical-align: middle;\n    }\n\n    .dataframe tbody tr th {\n        vertical-align: top;\n    }\n\n    .dataframe thead th {\n        text-align: right;\n    }\n</style>\n<table border=\"1\" class=\"dataframe\">\n  <thead>\n    <tr style=\"text-align: right;\">\n      <th></th>\n      <th>sepal_length</th>\n      <th>sepal_width</th>\n      <th>petal_length</th>\n      <th>petal_width</th>\n    </tr>\n  </thead>\n  <tbody>\n    <tr>\n      <th>count</th>\n      <td>784.000000</td>\n      <td>784.000000</td>\n      <td>784.000000</td>\n      <td>784.000000</td>\n    </tr>\n    <tr>\n      <th>mean</th>\n      <td>6.897138</td>\n      <td>3.753240</td>\n      <td>5.192054</td>\n      <td>2.351084</td>\n    </tr>\n    <tr>\n      <th>std</th>\n      <td>0.839740</td>\n      <td>0.696777</td>\n      <td>0.744771</td>\n      <td>0.687459</td>\n    </tr>\n    <tr>\n      <th>min</th>\n      <td>4.900000</td>\n      <td>2.000000</td>\n      <td>3.000000</td>\n      <td>1.000000</td>\n    </tr>\n    <tr>\n      <th>25%</th>\n      <td>6.307500</td>\n      <td>3.240000</td>\n      <td>4.700000</td>\n      <td>1.857500</td>\n    </tr>\n    <tr>\n      <th>50%</th>\n      <td>6.830000</td>\n      <td>3.730000</td>\n      <td>5.170000</td>\n      <td>2.280000</td>\n    </tr>\n    <tr>\n      <th>75%</th>\n      <td>7.442500</td>\n      <td>4.220000</td>\n      <td>5.672500</td>\n      <td>2.840000</td>\n    </tr>\n    <tr>\n      <th>max</th>\n      <td>9.730000</td>\n      <td>5.960000</td>\n      <td>7.450000</td>\n      <td>5.250000</td>\n    </tr>\n  </tbody>\n</table>\n</div>"
     },
     "execution_count": 86,
     "metadata": {},
     "output_type": "execute_result"
    }
   ],
   "source": [
    "#Проробимо теж саме для інших видів ірисів\n",
    "df_versicolor = df[df['species'] == 'Iris-versicolor']\n",
    "df.loc[df_versicolor[df_versicolor['sepal_length'] < 0].index, 'sepal_length'] = df_versicolor.sepal_length.mean()\n",
    "df[df['species'] == 'Iris-versicolor'].describe()"
   ],
   "metadata": {
    "collapsed": false,
    "ExecuteTime": {
     "end_time": "2023-10-20T15:41:42.713450462Z",
     "start_time": "2023-10-20T15:41:42.696667180Z"
    }
   },
   "id": "54c319cf38941f10"
  },
  {
   "cell_type": "code",
   "execution_count": 88,
   "outputs": [
    {
     "data": {
      "text/plain": "       sepal_length  sepal_width  petal_length  petal_width\ncount    776.000000   776.000000    776.000000   776.000000\nmean       7.518214     4.040374      6.535928     3.051121\nstd        0.884910     0.772139      0.819608     0.694926\nmin        4.900000     2.200000      4.500000     1.400000\n25%        6.890000     3.470000      5.940000     2.530000\n50%        7.490000     3.980000      6.500000     3.000000\n75%        8.120000     4.530000      7.072500     3.502500\nmax       10.490000     6.940000      9.040000     5.440000",
      "text/html": "<div>\n<style scoped>\n    .dataframe tbody tr th:only-of-type {\n        vertical-align: middle;\n    }\n\n    .dataframe tbody tr th {\n        vertical-align: top;\n    }\n\n    .dataframe thead th {\n        text-align: right;\n    }\n</style>\n<table border=\"1\" class=\"dataframe\">\n  <thead>\n    <tr style=\"text-align: right;\">\n      <th></th>\n      <th>sepal_length</th>\n      <th>sepal_width</th>\n      <th>petal_length</th>\n      <th>petal_width</th>\n    </tr>\n  </thead>\n  <tbody>\n    <tr>\n      <th>count</th>\n      <td>776.000000</td>\n      <td>776.000000</td>\n      <td>776.000000</td>\n      <td>776.000000</td>\n    </tr>\n    <tr>\n      <th>mean</th>\n      <td>7.518214</td>\n      <td>4.040374</td>\n      <td>6.535928</td>\n      <td>3.051121</td>\n    </tr>\n    <tr>\n      <th>std</th>\n      <td>0.884910</td>\n      <td>0.772139</td>\n      <td>0.819608</td>\n      <td>0.694926</td>\n    </tr>\n    <tr>\n      <th>min</th>\n      <td>4.900000</td>\n      <td>2.200000</td>\n      <td>4.500000</td>\n      <td>1.400000</td>\n    </tr>\n    <tr>\n      <th>25%</th>\n      <td>6.890000</td>\n      <td>3.470000</td>\n      <td>5.940000</td>\n      <td>2.530000</td>\n    </tr>\n    <tr>\n      <th>50%</th>\n      <td>7.490000</td>\n      <td>3.980000</td>\n      <td>6.500000</td>\n      <td>3.000000</td>\n    </tr>\n    <tr>\n      <th>75%</th>\n      <td>8.120000</td>\n      <td>4.530000</td>\n      <td>7.072500</td>\n      <td>3.502500</td>\n    </tr>\n    <tr>\n      <th>max</th>\n      <td>10.490000</td>\n      <td>6.940000</td>\n      <td>9.040000</td>\n      <td>5.440000</td>\n    </tr>\n  </tbody>\n</table>\n</div>"
     },
     "execution_count": 88,
     "metadata": {},
     "output_type": "execute_result"
    }
   ],
   "source": [
    "df_virginica = df[df['species'] == 'Iris-virginica']\n",
    "df.loc[df_virginica[df_virginica['sepal_length'] < 0].index, 'sepal_length'] = df_virginica.sepal_length.mean()\n",
    "df[df['species'] == 'Iris-virginica'].describe()"
   ],
   "metadata": {
    "collapsed": false,
    "ExecuteTime": {
     "end_time": "2023-10-20T15:42:59.756230571Z",
     "start_time": "2023-10-20T15:42:59.709413498Z"
    }
   },
   "id": "ecb55159cf2f20f9"
  },
  {
   "cell_type": "code",
   "execution_count": 97,
   "outputs": [
    {
     "data": {
      "text/plain": "       sepal_length  sepal_width  petal_length  petal_width\ncount     24.000000    24.000000     24.000000    24.000000\nmean       7.223750     4.531250      5.299167     2.697083\nstd        0.809051     0.812577      2.518564     1.403382\nmin        5.800000     3.120000      1.200000     0.200000\n25%        6.592500     4.075000      2.590000     1.110000\n50%        7.250000     4.480000      6.565000     3.305000\n75%        7.850000     5.080000      7.320000     3.697500\nmax        8.830000     6.310000      8.230000     4.520000",
      "text/html": "<div>\n<style scoped>\n    .dataframe tbody tr th:only-of-type {\n        vertical-align: middle;\n    }\n\n    .dataframe tbody tr th {\n        vertical-align: top;\n    }\n\n    .dataframe thead th {\n        text-align: right;\n    }\n</style>\n<table border=\"1\" class=\"dataframe\">\n  <thead>\n    <tr style=\"text-align: right;\">\n      <th></th>\n      <th>sepal_length</th>\n      <th>sepal_width</th>\n      <th>petal_length</th>\n      <th>petal_width</th>\n    </tr>\n  </thead>\n  <tbody>\n    <tr>\n      <th>count</th>\n      <td>24.000000</td>\n      <td>24.000000</td>\n      <td>24.000000</td>\n      <td>24.000000</td>\n    </tr>\n    <tr>\n      <th>mean</th>\n      <td>7.223750</td>\n      <td>4.531250</td>\n      <td>5.299167</td>\n      <td>2.697083</td>\n    </tr>\n    <tr>\n      <th>std</th>\n      <td>0.809051</td>\n      <td>0.812577</td>\n      <td>2.518564</td>\n      <td>1.403382</td>\n    </tr>\n    <tr>\n      <th>min</th>\n      <td>5.800000</td>\n      <td>3.120000</td>\n      <td>1.200000</td>\n      <td>0.200000</td>\n    </tr>\n    <tr>\n      <th>25%</th>\n      <td>6.592500</td>\n      <td>4.075000</td>\n      <td>2.590000</td>\n      <td>1.110000</td>\n    </tr>\n    <tr>\n      <th>50%</th>\n      <td>7.250000</td>\n      <td>4.480000</td>\n      <td>6.565000</td>\n      <td>3.305000</td>\n    </tr>\n    <tr>\n      <th>75%</th>\n      <td>7.850000</td>\n      <td>5.080000</td>\n      <td>7.320000</td>\n      <td>3.697500</td>\n    </tr>\n    <tr>\n      <th>max</th>\n      <td>8.830000</td>\n      <td>6.310000</td>\n      <td>8.230000</td>\n      <td>4.520000</td>\n    </tr>\n  </tbody>\n</table>\n</div>"
     },
     "execution_count": 97,
     "metadata": {},
     "output_type": "execute_result"
    }
   ],
   "source": [
    "df_whatever = df[df['species'] == 'Iris-whatever']\n",
    "df.loc[df_whatever[df_whatever['sepal_length'] < 0].index, 'sepal_length'] = df_whatever.sepal_length.mean()\n",
    "df[df['species'] == 'Iris-whatever'].describe()\n",
    "#Дуже цікавий дескрайб по цьому виду ірисів. Тому що майже по всім квартилям значення наближаються до однакових."
   ],
   "metadata": {
    "collapsed": false,
    "ExecuteTime": {
     "end_time": "2023-10-20T15:52:05.124026620Z",
     "start_time": "2023-10-20T15:52:05.078913921Z"
    }
   },
   "id": "14560b2311a7c658"
  },
  {
   "cell_type": "code",
   "execution_count": 103,
   "outputs": [
    {
     "data": {
      "text/plain": "<Figure size 432x288 with 1 Axes>",
      "image/png": "[encoded data removed]"
     },
     "metadata": {},
     "output_type": "display_data"
    }
   ],
   "source": [
    "#Візуалізуємо знову наші колнки та перевіримо тестом шапіро\n",
    "\n",
    "plt.hist(df['sepal_length'], bins=50, label='Sepal length')\n",
    "plt.show()"
   ],
   "metadata": {
    "collapsed": false,
    "ExecuteTime": {
     "end_time": "2023-10-20T16:02:44.319329632Z",
     "start_time": "2023-10-20T16:02:44.209951388Z"
    }
   },
   "id": "12215de3570e209a"
  },
  {
   "cell_type": "code",
   "execution_count": 104,
   "outputs": [
    {
     "data": {
      "text/plain": "<Figure size 432x288 with 1 Axes>",
      "image/png": "[encoded data removed]"
     },
     "metadata": {},
     "output_type": "display_data"
    }
   ],
   "source": [
    "plt.hist(df['sepal_width'], bins=50, label='Sepal width')\n",
    "plt.show() # Тепер розподіли по Sepal length та Sepal width схожі на нормальні"
   ],
   "metadata": {
    "collapsed": false,
    "ExecuteTime": {
     "end_time": "2023-10-20T16:03:04.795436171Z",
     "start_time": "2023-10-20T16:03:04.688731349Z"
    }
   },
   "id": "3ca9a69ae8abaceb"
  },
  {
   "cell_type": "code",
   "execution_count": 105,
   "outputs": [
    {
     "data": {
      "text/plain": "<Figure size 432x288 with 1 Axes>",
      "image/png": "[encoded data removed]"
     },
     "metadata": {},
     "output_type": "display_data"
    }
   ],
   "source": [
    "plt.hist(df['petal_length'], bins=50, label='Petal length')\n",
    "plt.show()  # Тут ситуація така ж, розподіл не нормальний. Але тут і проблема була не в пропусках\n",
    "# нулях або негативних значеннях. Цей розподіл просто не нормальний"
   ],
   "metadata": {
    "collapsed": false,
    "ExecuteTime": {
     "end_time": "2023-10-20T16:03:24.867530236Z",
     "start_time": "2023-10-20T16:03:24.757885016Z"
    }
   },
   "id": "34d6af0ca8248a2d"
  },
  {
   "cell_type": "code",
   "execution_count": 106,
   "outputs": [
    {
     "data": {
      "text/plain": "<Figure size 432x288 with 1 Axes>",
      "image/png": "[encoded data removed]"
     },
     "metadata": {},
     "output_type": "display_data"
    }
   ],
   "source": [
    "plt.hist(df['petal_width'], bins=50, label='Petal width')\n",
    "plt.show() # і тут розподіл також не нормальний"
   ],
   "metadata": {
    "collapsed": false,
    "ExecuteTime": {
     "end_time": "2023-10-20T16:03:35.669223498Z",
     "start_time": "2023-10-20T16:03:35.557926973Z"
    }
   },
   "id": "750188c330d5cc58"
  },
  {
   "cell_type": "code",
   "execution_count": 108,
   "outputs": [
    {
     "data": {
      "text/plain": "ShapiroResult(statistic=0.9929700493812561, pvalue=3.2930012050513824e-09)"
     },
     "execution_count": 108,
     "metadata": {},
     "output_type": "execute_result"
    }
   ],
   "source": [
    "# Перевіримо методом шапіро\n",
    "\n",
    "import  scipy \n",
    "\n",
    "scipy.stats.shapiro(df['sepal_length'])\n",
    "\n",
    "\n",
    "# Якщо статистика близька до 1, це свідчить про те, що розподіл є близьким до нормального. У нашому випадку, статистика дорівнює близько 0.993, що вказує на те, що розподіл може бути близьким до нормального.\n",
    "# \n",
    "# Зазвичай, якщо p-значення менше за обране значення альфа (зазвичай 0.05), то ми відкидаємо нульову гіпотезу. У нашому випадку p-значення набагато менше за 0.05 (3.2930012050513824e-09), що свідчить про те, що розподіл статистично значимо відрізняється від нормального розподілу.\n",
    "# \n",
    "# Отже, на основі результату, можна вважати, що дані по колонці sepal_length не мають нормального розподілу.\n",
    "#Хоча вони наближаються до нормального що прослідковувалось візуально"
   ],
   "metadata": {
    "collapsed": false,
    "ExecuteTime": {
     "end_time": "2023-10-20T16:06:54.220454825Z",
     "start_time": "2023-10-20T16:06:54.174032243Z"
    }
   },
   "id": "b48de2aa8461b423"
  },
  {
   "cell_type": "code",
   "execution_count": 109,
   "outputs": [
    {
     "data": {
      "text/plain": "ShapiroResult(statistic=0.9918506741523743, pvalue=3.2214167444699626e-10)"
     },
     "execution_count": 109,
     "metadata": {},
     "output_type": "execute_result"
    }
   ],
   "source": [
    "# Перевіримо інші колонки \n",
    "scipy.stats.shapiro(df['sepal_width'])"
   ],
   "metadata": {
    "collapsed": false,
    "ExecuteTime": {
     "end_time": "2023-10-20T16:13:22.035413063Z",
     "start_time": "2023-10-20T16:13:22.008807692Z"
    }
   },
   "id": "c21745c4791e77f2"
  },
  {
   "cell_type": "code",
   "execution_count": 110,
   "outputs": [
    {
     "data": {
      "text/plain": "ShapiroResult(statistic=0.9529969692230225, pvalue=7.611446933169395e-27)"
     },
     "execution_count": 110,
     "metadata": {},
     "output_type": "execute_result"
    }
   ],
   "source": [
    "scipy.stats.shapiro(df['petal_length'])"
   ],
   "metadata": {
    "collapsed": false,
    "ExecuteTime": {
     "end_time": "2023-10-20T16:13:36.105683961Z",
     "start_time": "2023-10-20T16:13:36.075476776Z"
    }
   },
   "id": "f85c6f5abf2174f7"
  },
  {
   "cell_type": "code",
   "execution_count": 112,
   "outputs": [
    {
     "data": {
      "text/plain": "ShapiroResult(statistic=0.9937351942062378, pvalue=1.8321307138080556e-08)"
     },
     "execution_count": 112,
     "metadata": {},
     "output_type": "execute_result"
    }
   ],
   "source": [
    "scipy.stats.shapiro(df['petal_width'])"
   ],
   "metadata": {
    "collapsed": false,
    "ExecuteTime": {
     "end_time": "2023-10-20T16:13:49.081296189Z",
     "start_time": "2023-10-20T16:13:49.062417776Z"
    }
   },
   "id": "1b25510e83e9d72c"
  },
  {
   "cell_type": "code",
   "execution_count": null,
   "outputs": [],
   "source": [
    "#Отже можемо підтвердити те що, жодна з колонок не має нормального розподілу і більш за всіх\n",
    "# відхиляються це petal_length. Менше всіх petal_width через те що в неї найвище p-значення, хоча\n",
    "# візуально більш нормальними виглядали колонки по sepal"
   ],
   "metadata": {
    "collapsed": false
   },
   "id": "fbcffeeead9c66fe"
  }
 ],
 "metadata": {
  "kernelspec": {
   "display_name": "Python 3",
   "language": "python",
   "name": "python3"
  },
  "language_info": {
   "codemirror_mode": {
    "name": "ipython",
    "version": 2
   },
   "file_extension": ".py",
   "mimetype": "text/x-python",
   "name": "python",
   "nbconvert_exporter": "python",
   "pygments_lexer": "ipython2",
   "version": "2.7.6"
  }
 },
 "nbformat": 4,
 "nbformat_minor": 5
}
